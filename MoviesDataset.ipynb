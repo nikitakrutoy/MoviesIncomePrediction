{
 "cells": [
  {
   "cell_type": "code",
   "execution_count": null,
   "metadata": {
    "ExecuteTime": {
     "end_time": "2020-04-03T18:17:05.843533Z",
     "start_time": "2020-04-03T18:17:04.377529Z"
    }
   },
   "outputs": [],
   "source": [
    "import pandas as pd\n",
    "import numpy as np"
   ]
  },
  {
   "cell_type": "code",
   "execution_count": 2,
   "metadata": {},
   "outputs": [],
   "source": [
    "pd.options.display.max_columns = None"
   ]
  },
  {
   "cell_type": "code",
   "execution_count": 3,
   "metadata": {
    "ExecuteTime": {
     "end_time": "2020-04-03T18:21:02.943321Z",
     "start_time": "2020-04-03T18:21:02.940589Z"
    }
   },
   "outputs": [],
   "source": [
    "data_uais = pd.read_csv(\"data/MoviesUAIS.csv\")"
   ]
  },
  {
   "cell_type": "code",
   "execution_count": 4,
   "metadata": {
    "ExecuteTime": {
     "end_time": "2020-04-03T18:17:20.999121Z",
     "start_time": "2020-04-03T18:17:20.963372Z"
    }
   },
   "outputs": [],
   "source": [
    "data_kinopoisk = pd.read_csv(\"data/MoviesKinopoisk.csv\")"
   ]
  },
  {
   "cell_type": "code",
   "execution_count": 5,
   "metadata": {},
   "outputs": [],
   "source": [
    "data = data_kinopoisk.set_index(data_kinopoisk.columns[0])\\\n",
    "    .join(data_uais.set_index(data_uais.columns[0]))"
   ]
  },
  {
   "cell_type": "code",
   "execution_count": 6,
   "metadata": {},
   "outputs": [],
   "source": [
    "data = data\\\n",
    "    .replace('None', np.nan)\\\n",
    "    .replace('None :', np.nan)\\\n",
    "    .replace('{}', np.nan)\\\n",
    "    .replace('()', np.nan)"
   ]
  },
  {
   "cell_type": "code",
   "execution_count": 7,
   "metadata": {},
   "outputs": [],
   "source": [
    "data = data[~data.index.duplicated()]"
   ]
  },
  {
   "cell_type": "code",
   "execution_count": 8,
   "metadata": {},
   "outputs": [],
   "source": [
    "data = data.reset_index().rename({\"index\": \"title_uais\"}, axis=1)"
   ]
  },
  {
   "cell_type": "code",
   "execution_count": 9,
   "metadata": {},
   "outputs": [
    {
     "data": {
      "text/plain": [
       "(774, 45)"
      ]
     },
     "execution_count": 9,
     "metadata": {},
     "output_type": "execute_result"
    }
   ],
   "source": [
    "data.shape"
   ]
  },
  {
   "cell_type": "code",
   "execution_count": 10,
   "metadata": {},
   "outputs": [],
   "source": [
    "import datetime\n",
    "import locale"
   ]
  },
  {
   "cell_type": "code",
   "execution_count": 11,
   "metadata": {},
   "outputs": [
    {
     "data": {
      "text/plain": [
       "'ru_RU'"
      ]
     },
     "execution_count": 11,
     "metadata": {},
     "output_type": "execute_result"
    }
   ],
   "source": [
    "locale.setlocale(locale.LC_TIME, \"ru_RU\")"
   ]
  },
  {
   "cell_type": "code",
   "execution_count": 12,
   "metadata": {},
   "outputs": [
    {
     "data": {
      "text/html": [
       "<div>\n",
       "<style scoped>\n",
       "    .dataframe tbody tr th:only-of-type {\n",
       "        vertical-align: middle;\n",
       "    }\n",
       "\n",
       "    .dataframe tbody tr th {\n",
       "        vertical-align: top;\n",
       "    }\n",
       "\n",
       "    .dataframe thead th {\n",
       "        text-align: right;\n",
       "    }\n",
       "</style>\n",
       "<table border=\"1\" class=\"dataframe\">\n",
       "  <thead>\n",
       "    <tr style=\"text-align: right;\">\n",
       "      <th></th>\n",
       "      <th>title_uais</th>\n",
       "      <th>id</th>\n",
       "      <th>title</th>\n",
       "      <th>title_en</th>\n",
       "      <th>plot</th>\n",
       "      <th>year</th>\n",
       "      <th>countries</th>\n",
       "      <th>tagline</th>\n",
       "      <th>actors</th>\n",
       "      <th>directors</th>\n",
       "      <th>screenwriters</th>\n",
       "      <th>producers</th>\n",
       "      <th>operators</th>\n",
       "      <th>composers</th>\n",
       "      <th>art_direction_by</th>\n",
       "      <th>editing_by</th>\n",
       "      <th>genres</th>\n",
       "      <th>cast</th>\n",
       "      <th>budget</th>\n",
       "      <th>marketing</th>\n",
       "      <th>profit_usa</th>\n",
       "      <th>profit_russia</th>\n",
       "      <th>profit_world</th>\n",
       "      <th>audience</th>\n",
       "      <th>rating</th>\n",
       "      <th>votes</th>\n",
       "      <th>imdb_rating</th>\n",
       "      <th>imdb_votes</th>\n",
       "      <th>runtime</th>\n",
       "      <th>release</th>\n",
       "      <th>posters</th>\n",
       "      <th>trailers</th>\n",
       "      <th>youtube_ids</th>\n",
       "      <th>series</th>\n",
       "      <th>series_years</th>\n",
       "      <th>release_russia</th>\n",
       "      <th>release_world</th>\n",
       "      <th>viewers</th>\n",
       "      <th>budget.1</th>\n",
       "      <th>age_restr</th>\n",
       "      <th>release_date_uais</th>\n",
       "      <th>magic_number</th>\n",
       "      <th>profit_uais</th>\n",
       "      <th>type_uais</th>\n",
       "      <th>age_restriction</th>\n",
       "    </tr>\n",
       "  </thead>\n",
       "  <tbody>\n",
       "    <tr>\n",
       "      <th>0</th>\n",
       "      <td>1+1: Голливудская история</td>\n",
       "      <td>596484</td>\n",
       "      <td>1+1: Голливудская история</td>\n",
       "      <td>The Upside</td>\n",
       "      <td>Пентхаус в Нью Йорке, целый гараж коллекционны...</td>\n",
       "      <td>2018</td>\n",
       "      <td>США</td>\n",
       "      <td>«Одинокий миллиардер в поисках острых ощущений»</td>\n",
       "      <td>Брайан Крэнстон, Кевин Харт, Николь Кидман, Эй...</td>\n",
       "      <td>Нил Бёргер</td>\n",
       "      <td>Джон Хартмир, Эрик Толедано, Оливье Накаш</td>\n",
       "      <td>Тодд Блэк, Дэвид Дж. Блумфилд, Джейсон Блюменталь</td>\n",
       "      <td>Стюарт Драйбёрг</td>\n",
       "      <td>Роб Симонсен</td>\n",
       "      <td>Марк Фридберг, Том Фролинг, Ким Дженнингс</td>\n",
       "      <td>Наоми Джерати</td>\n",
       "      <td>драма, комедия</td>\n",
       "      <td>NaN</td>\n",
       "      <td>37500000</td>\n",
       "      <td>NaN</td>\n",
       "      <td>108252517</td>\n",
       "      <td>329437</td>\n",
       "      <td>125852517</td>\n",
       "      <td>NaN</td>\n",
       "      <td>6.014</td>\n",
       "      <td>8371</td>\n",
       "      <td>NaN</td>\n",
       "      <td>NaN</td>\n",
       "      <td>126</td>\n",
       "      <td>NaN</td>\n",
       "      <td>NaN</td>\n",
       "      <td>NaN</td>\n",
       "      <td>NaN</td>\n",
       "      <td>FALSE</td>\n",
       "      <td>NaN</td>\n",
       "      <td>8 сентября 2017</td>\n",
       "      <td>10 января 2019</td>\n",
       "      <td>NaN</td>\n",
       "      <td>$37 500 000</td>\n",
       "      <td>NaN</td>\n",
       "      <td>NaN</td>\n",
       "      <td>NaN</td>\n",
       "      <td>NaN</td>\n",
       "      <td>NaN</td>\n",
       "      <td>NaN</td>\n",
       "    </tr>\n",
       "    <tr>\n",
       "      <th>1</th>\n",
       "      <td>100 вещей и ничего лишнего</td>\n",
       "      <td>1121377</td>\n",
       "      <td>100 вещей и ничего лишнего</td>\n",
       "      <td>100 Dinge</td>\n",
       "      <td>Лучшие друзья Пауль и Тони, находясь буквально...</td>\n",
       "      <td>2018</td>\n",
       "      <td>Германия</td>\n",
       "      <td>NaN</td>\n",
       "      <td>Флориан Давид Фиц, Маттиас Швайгхёфер, Мириам ...</td>\n",
       "      <td>Флориан Давид Фиц</td>\n",
       "      <td>Флориан Давид Фиц</td>\n",
       "      <td>Дан Мааг, Дэниэль Зоннабенд, Антье Банкманн</td>\n",
       "      <td>Бернхард Яспер</td>\n",
       "      <td>Джозеф Бах, Арни Шуманн</td>\n",
       "      <td>Кристиан Эйзель, Метин Мисдик, Александра Пиль...</td>\n",
       "      <td>Денис Бахтер, Ана де Миер и Ортуньо</td>\n",
       "      <td>комедия</td>\n",
       "      <td>NaN</td>\n",
       "      <td>NaN</td>\n",
       "      <td>NaN</td>\n",
       "      <td>NaN</td>\n",
       "      <td>254129</td>\n",
       "      <td>14093397</td>\n",
       "      <td>NaN</td>\n",
       "      <td>6.856</td>\n",
       "      <td>13077</td>\n",
       "      <td>6.5</td>\n",
       "      <td>2709</td>\n",
       "      <td>111</td>\n",
       "      <td>NaN</td>\n",
       "      <td>NaN</td>\n",
       "      <td>NaN</td>\n",
       "      <td>NaN</td>\n",
       "      <td>FALSE</td>\n",
       "      <td>NaN</td>\n",
       "      <td>6 декабря 2018</td>\n",
       "      <td>28 марта 2019</td>\n",
       "      <td>NaN</td>\n",
       "      <td>$14 093 397</td>\n",
       "      <td>NaN</td>\n",
       "      <td>NaN</td>\n",
       "      <td>NaN</td>\n",
       "      <td>NaN</td>\n",
       "      <td>NaN</td>\n",
       "      <td>NaN</td>\n",
       "    </tr>\n",
       "    <tr>\n",
       "      <th>2</th>\n",
       "      <td>2001 год: Космическая одиссея</td>\n",
       "      <td>380</td>\n",
       "      <td>2001 год: Космическая одиссея</td>\n",
       "      <td>2001: A Space Odyssey</td>\n",
       "      <td>Экипаж космического корабля «Дискавери» — капи...</td>\n",
       "      <td>1968</td>\n",
       "      <td>Великобритания, США</td>\n",
       "      <td>«the time is now. 2001 re-release»</td>\n",
       "      <td>Кир Дуллеа, Гэри Локвуд, Уильям Сильвестр, Дэн...</td>\n",
       "      <td>Стэнли Кубрик</td>\n",
       "      <td>Артур Ч. Кларк, Стэнли Кубрик</td>\n",
       "      <td>Стэнли Кубрик, Виктор Линдон</td>\n",
       "      <td>Джеффри Ансуорт</td>\n",
       "      <td>NaN</td>\n",
       "      <td>Эрнест Арчер, Гарри Ланж, Энтони Мастерс</td>\n",
       "      <td>Рэй Лавджой</td>\n",
       "      <td>фантастика, приключения</td>\n",
       "      <td>NaN</td>\n",
       "      <td>12000000</td>\n",
       "      <td>NaN</td>\n",
       "      <td>56715371</td>\n",
       "      <td>152691</td>\n",
       "      <td>57287357</td>\n",
       "      <td>NaN</td>\n",
       "      <td>7.963</td>\n",
       "      <td>70758</td>\n",
       "      <td>8.3</td>\n",
       "      <td>570523</td>\n",
       "      <td>149</td>\n",
       "      <td>NaN</td>\n",
       "      <td>NaN</td>\n",
       "      <td>NaN</td>\n",
       "      <td>NaN</td>\n",
       "      <td>FALSE</td>\n",
       "      <td>NaN</td>\n",
       "      <td>2 апреля 1968</td>\n",
       "      <td>30 августа 2018</td>\n",
       "      <td>43.4 млн,      3.26 млн,      2.91 млн, ...</td>\n",
       "      <td>$56 715 371</td>\n",
       "      <td>NaN</td>\n",
       "      <td>NaN</td>\n",
       "      <td>NaN</td>\n",
       "      <td>NaN</td>\n",
       "      <td>NaN</td>\n",
       "      <td>NaN</td>\n",
       "    </tr>\n",
       "    <tr>\n",
       "      <th>3</th>\n",
       "      <td>21 мост</td>\n",
       "      <td>1174226</td>\n",
       "      <td>21 мост</td>\n",
       "      <td>21 Bridges</td>\n",
       "      <td>Потомственный полицейский Андре Дэвис с самыми...</td>\n",
       "      <td>2019</td>\n",
       "      <td>США</td>\n",
       "      <td>«От него не уйти»</td>\n",
       "      <td>Чедвик Боузман, Сиенна Миллер, Тейлор Китч, Дж...</td>\n",
       "      <td>Брайан Кирк</td>\n",
       "      <td>Адам Мервис, Мэттью Майкл Карнахан</td>\n",
       "      <td>Чедвик Боузман, Логан Коулз, Гиги Притцкер</td>\n",
       "      <td>Пол Кэмерон</td>\n",
       "      <td>Alex Belcher, Генри Джекман</td>\n",
       "      <td>Грег Берри, Маттео Де Космо, Дэвид С. Робинсон</td>\n",
       "      <td>Тим Мёрелл</td>\n",
       "      <td>боевик, криминал, триллер</td>\n",
       "      <td>NaN</td>\n",
       "      <td>NaN</td>\n",
       "      <td>NaN</td>\n",
       "      <td>28539757</td>\n",
       "      <td>373844</td>\n",
       "      <td>49939757</td>\n",
       "      <td>NaN</td>\n",
       "      <td>6.569</td>\n",
       "      <td>10244</td>\n",
       "      <td>NaN</td>\n",
       "      <td>NaN</td>\n",
       "      <td>99</td>\n",
       "      <td>NaN</td>\n",
       "      <td>NaN</td>\n",
       "      <td>NaN</td>\n",
       "      <td>NaN</td>\n",
       "      <td>FALSE</td>\n",
       "      <td>NaN</td>\n",
       "      <td>25 сентября 2019</td>\n",
       "      <td>5 декабря 2019</td>\n",
       "      <td>85 тыс.</td>\n",
       "      <td>$28 539 757</td>\n",
       "      <td>NaN</td>\n",
       "      <td>NaN</td>\n",
       "      <td>NaN</td>\n",
       "      <td>NaN</td>\n",
       "      <td>NaN</td>\n",
       "      <td>NaN</td>\n",
       "    </tr>\n",
       "    <tr>\n",
       "      <th>4</th>\n",
       "      <td>22 мили</td>\n",
       "      <td>921938</td>\n",
       "      <td>22 мили</td>\n",
       "      <td>Mile 22</td>\n",
       "      <td>Призраки — элитный отряд сверхсекретной развед...</td>\n",
       "      <td>2018</td>\n",
       "      <td>Китай, США, Колумбия</td>\n",
       "      <td>«Призраки не играют по правилам»</td>\n",
       "      <td>Марк Уолберг, Лорен Кохэн, Ико Уайс, Джон Малк...</td>\n",
       "      <td>Питер Берг</td>\n",
       "      <td>Лиа Карпентер, Грэм Роланд</td>\n",
       "      <td>Питер Берг, Стивен Левинсон, Марк Уолберг</td>\n",
       "      <td>Жак Жуффре</td>\n",
       "      <td>Джефф Руссо</td>\n",
       "      <td>Эндрю Мензес, Алан Хук, Алекс МакКэрролл</td>\n",
       "      <td>Мелисса Лосон, Колби Паркер мл.</td>\n",
       "      <td>боевик, триллер</td>\n",
       "      <td>NaN</td>\n",
       "      <td>50000000</td>\n",
       "      <td>NaN</td>\n",
       "      <td>36108758</td>\n",
       "      <td>571315</td>\n",
       "      <td>66308758</td>\n",
       "      <td>NaN</td>\n",
       "      <td>5.858</td>\n",
       "      <td>13420</td>\n",
       "      <td>NaN</td>\n",
       "      <td>NaN</td>\n",
       "      <td>94</td>\n",
       "      <td>NaN</td>\n",
       "      <td>NaN</td>\n",
       "      <td>NaN</td>\n",
       "      <td>NaN</td>\n",
       "      <td>FALSE</td>\n",
       "      <td>NaN</td>\n",
       "      <td>16 августа 2018</td>\n",
       "      <td>23 августа 2018</td>\n",
       "      <td>NaN</td>\n",
       "      <td>$50 000 000</td>\n",
       "      <td>NaN</td>\n",
       "      <td>NaN</td>\n",
       "      <td>121017318.0</td>\n",
       "      <td>37448540.97</td>\n",
       "      <td>художественный</td>\n",
       "      <td>«18+» запрещено для детей</td>\n",
       "    </tr>\n",
       "  </tbody>\n",
       "</table>\n",
       "</div>"
      ],
      "text/plain": [
       "                      title_uais       id                          title  \\\n",
       "0      1+1: Голливудская история   596484      1+1: Голливудская история   \n",
       "1     100 вещей и ничего лишнего  1121377     100 вещей и ничего лишнего   \n",
       "2  2001 год: Космическая одиссея      380  2001 год: Космическая одиссея   \n",
       "3                        21 мост  1174226                        21 мост   \n",
       "4                        22 мили   921938                        22 мили   \n",
       "\n",
       "                title_en                                               plot  \\\n",
       "0             The Upside  Пентхаус в Нью Йорке, целый гараж коллекционны...   \n",
       "1              100 Dinge  Лучшие друзья Пауль и Тони, находясь буквально...   \n",
       "2  2001: A Space Odyssey  Экипаж космического корабля «Дискавери» — капи...   \n",
       "3             21 Bridges  Потомственный полицейский Андре Дэвис с самыми...   \n",
       "4                Mile 22  Призраки — элитный отряд сверхсекретной развед...   \n",
       "\n",
       "   year             countries  \\\n",
       "0  2018                   США   \n",
       "1  2018              Германия   \n",
       "2  1968   Великобритания, США   \n",
       "3  2019                   США   \n",
       "4  2018  Китай, США, Колумбия   \n",
       "\n",
       "                                           tagline  \\\n",
       "0  «Одинокий миллиардер в поисках острых ощущений»   \n",
       "1                                              NaN   \n",
       "2               «the time is now. 2001 re-release»   \n",
       "3                                «От него не уйти»   \n",
       "4                 «Призраки не играют по правилам»   \n",
       "\n",
       "                                              actors          directors  \\\n",
       "0  Брайан Крэнстон, Кевин Харт, Николь Кидман, Эй...         Нил Бёргер   \n",
       "1  Флориан Давид Фиц, Маттиас Швайгхёфер, Мириам ...  Флориан Давид Фиц   \n",
       "2  Кир Дуллеа, Гэри Локвуд, Уильям Сильвестр, Дэн...      Стэнли Кубрик   \n",
       "3  Чедвик Боузман, Сиенна Миллер, Тейлор Китч, Дж...        Брайан Кирк   \n",
       "4  Марк Уолберг, Лорен Кохэн, Ико Уайс, Джон Малк...         Питер Берг   \n",
       "\n",
       "                               screenwriters  \\\n",
       "0  Джон Хартмир, Эрик Толедано, Оливье Накаш   \n",
       "1                          Флориан Давид Фиц   \n",
       "2              Артур Ч. Кларк, Стэнли Кубрик   \n",
       "3         Адам Мервис, Мэттью Майкл Карнахан   \n",
       "4                 Лиа Карпентер, Грэм Роланд   \n",
       "\n",
       "                                           producers        operators  \\\n",
       "0  Тодд Блэк, Дэвид Дж. Блумфилд, Джейсон Блюменталь  Стюарт Драйбёрг   \n",
       "1        Дан Мааг, Дэниэль Зоннабенд, Антье Банкманн   Бернхард Яспер   \n",
       "2                       Стэнли Кубрик, Виктор Линдон  Джеффри Ансуорт   \n",
       "3         Чедвик Боузман, Логан Коулз, Гиги Притцкер      Пол Кэмерон   \n",
       "4          Питер Берг, Стивен Левинсон, Марк Уолберг       Жак Жуффре   \n",
       "\n",
       "                     composers  \\\n",
       "0                 Роб Симонсен   \n",
       "1      Джозеф Бах, Арни Шуманн   \n",
       "2                          NaN   \n",
       "3  Alex Belcher, Генри Джекман   \n",
       "4                  Джефф Руссо   \n",
       "\n",
       "                                    art_direction_by  \\\n",
       "0          Марк Фридберг, Том Фролинг, Ким Дженнингс   \n",
       "1  Кристиан Эйзель, Метин Мисдик, Александра Пиль...   \n",
       "2           Эрнест Арчер, Гарри Ланж, Энтони Мастерс   \n",
       "3     Грег Берри, Маттео Де Космо, Дэвид С. Робинсон   \n",
       "4           Эндрю Мензес, Алан Хук, Алекс МакКэрролл   \n",
       "\n",
       "                            editing_by                     genres cast  \\\n",
       "0                        Наоми Джерати             драма, комедия  NaN   \n",
       "1  Денис Бахтер, Ана де Миер и Ортуньо                    комедия  NaN   \n",
       "2                          Рэй Лавджой    фантастика, приключения  NaN   \n",
       "3                           Тим Мёрелл  боевик, криминал, триллер  NaN   \n",
       "4      Мелисса Лосон, Колби Паркер мл.            боевик, триллер  NaN   \n",
       "\n",
       "     budget marketing profit_usa profit_russia profit_world audience rating  \\\n",
       "0  37500000       NaN  108252517        329437    125852517      NaN  6.014   \n",
       "1       NaN       NaN        NaN        254129     14093397      NaN  6.856   \n",
       "2  12000000       NaN   56715371        152691     57287357      NaN  7.963   \n",
       "3       NaN       NaN   28539757        373844     49939757      NaN  6.569   \n",
       "4  50000000       NaN   36108758        571315     66308758      NaN  5.858   \n",
       "\n",
       "   votes imdb_rating imdb_votes runtime release  posters  trailers  \\\n",
       "0   8371         NaN        NaN     126     NaN      NaN       NaN   \n",
       "1  13077         6.5       2709     111     NaN      NaN       NaN   \n",
       "2  70758         8.3     570523     149     NaN      NaN       NaN   \n",
       "3  10244         NaN        NaN      99     NaN      NaN       NaN   \n",
       "4  13420         NaN        NaN      94     NaN      NaN       NaN   \n",
       "\n",
       "   youtube_ids series series_years    release_russia    release_world  \\\n",
       "0          NaN  FALSE          NaN   8 сентября 2017   10 января 2019   \n",
       "1          NaN  FALSE          NaN    6 декабря 2018    28 марта 2019   \n",
       "2          NaN  FALSE          NaN     2 апреля 1968  30 августа 2018   \n",
       "3          NaN  FALSE          NaN  25 сентября 2019   5 декабря 2019   \n",
       "4          NaN  FALSE          NaN   16 августа 2018  23 августа 2018   \n",
       "\n",
       "                                       viewers     budget.1 age_restr  \\\n",
       "0                                          NaN  $37 500 000       NaN   \n",
       "1                                          NaN  $14 093 397       NaN   \n",
       "2  43.4 млн,      3.26 млн,      2.91 млн, ...  $56 715 371       NaN   \n",
       "3                                      85 тыс.  $28 539 757       NaN   \n",
       "4                                          NaN  $50 000 000       NaN   \n",
       "\n",
       "  release_date_uais  magic_number  profit_uais       type_uais  \\\n",
       "0               NaN           NaN          NaN             NaN   \n",
       "1               NaN           NaN          NaN             NaN   \n",
       "2               NaN           NaN          NaN             NaN   \n",
       "3               NaN           NaN          NaN             NaN   \n",
       "4               NaN   121017318.0  37448540.97  художественный   \n",
       "\n",
       "             age_restriction  \n",
       "0                        NaN  \n",
       "1                        NaN  \n",
       "2                        NaN  \n",
       "3                        NaN  \n",
       "4  «18+» запрещено для детей  "
      ]
     },
     "execution_count": 12,
     "metadata": {},
     "output_type": "execute_result"
    }
   ],
   "source": [
    "data.head()"
   ]
  },
  {
   "cell_type": "code",
   "execution_count": 13,
   "metadata": {},
   "outputs": [],
   "source": [
    "categorical_features =  [\"actors\", \"directors\", \"screenwriters\", \"producers\", \"operators\", \"composers\", \n",
    "                         \"art_direction_by\", \"editing_by\", \"genres\", \"type_uais\", \"age_restriction\", \"countries\"]\n",
    "numerical_faetures = [\"budget.1\", \"runtime\"]\n",
    "id_feautuers = [\"id\"]\n",
    "time_features = [\"release_russia\", \"release_world\"]\n",
    "text_features = [\"plot\", \"title_uias\", \"tagline\"]\n",
    "targets = [\"revenenue\", \"profit_russia\", \"profit_world\", \"viewers\", \"votes\", \"rating\"]\n",
    "\n",
    "trash_features = [\"cast\", \"budget\", \"marketing\", \"audience\", \"imdb_rating\", \"imdb_votes\", \"release\", \n",
    "                  \"trailers\", \"posters\", \"youtube_ids\", \"series\", \"youtube_ids\", \"series_years\", \"age_restr\", \"magic_number\"]\n",
    "\n"
   ]
  },
  {
   "cell_type": "code",
   "execution_count": 14,
   "metadata": {},
   "outputs": [],
   "source": [
    "data = data.drop(trash_features, axis=1)"
   ]
  },
  {
   "cell_type": "code",
   "execution_count": 15,
   "metadata": {},
   "outputs": [],
   "source": [
    "numeric_data = data[numerical_faetures]\n",
    "categorical_data = data[categorical_features]\n",
    "time_data = data[\"release_world\"]"
   ]
  },
  {
   "cell_type": "code",
   "execution_count": 16,
   "metadata": {},
   "outputs": [
    {
     "data": {
      "text/html": [
       "<div>\n",
       "<style scoped>\n",
       "    .dataframe tbody tr th:only-of-type {\n",
       "        vertical-align: middle;\n",
       "    }\n",
       "\n",
       "    .dataframe tbody tr th {\n",
       "        vertical-align: top;\n",
       "    }\n",
       "\n",
       "    .dataframe thead th {\n",
       "        text-align: right;\n",
       "    }\n",
       "</style>\n",
       "<table border=\"1\" class=\"dataframe\">\n",
       "  <thead>\n",
       "    <tr style=\"text-align: right;\">\n",
       "      <th></th>\n",
       "      <th>budget.1</th>\n",
       "      <th>runtime</th>\n",
       "    </tr>\n",
       "  </thead>\n",
       "  <tbody>\n",
       "    <tr>\n",
       "      <th>0</th>\n",
       "      <td>$37 500 000</td>\n",
       "      <td>126</td>\n",
       "    </tr>\n",
       "    <tr>\n",
       "      <th>1</th>\n",
       "      <td>$14 093 397</td>\n",
       "      <td>111</td>\n",
       "    </tr>\n",
       "    <tr>\n",
       "      <th>2</th>\n",
       "      <td>$56 715 371</td>\n",
       "      <td>149</td>\n",
       "    </tr>\n",
       "    <tr>\n",
       "      <th>3</th>\n",
       "      <td>$28 539 757</td>\n",
       "      <td>99</td>\n",
       "    </tr>\n",
       "    <tr>\n",
       "      <th>4</th>\n",
       "      <td>$50 000 000</td>\n",
       "      <td>94</td>\n",
       "    </tr>\n",
       "    <tr>\n",
       "      <th>...</th>\n",
       "      <td>...</td>\n",
       "      <td>...</td>\n",
       "    </tr>\n",
       "    <tr>\n",
       "      <th>769</th>\n",
       "      <td>$28 714 231</td>\n",
       "      <td>95</td>\n",
       "    </tr>\n",
       "    <tr>\n",
       "      <th>770</th>\n",
       "      <td>NaN</td>\n",
       "      <td>100</td>\n",
       "    </tr>\n",
       "    <tr>\n",
       "      <th>771</th>\n",
       "      <td>$15 100 000</td>\n",
       "      <td>106</td>\n",
       "    </tr>\n",
       "    <tr>\n",
       "      <th>772</th>\n",
       "      <td>$1 700 000</td>\n",
       "      <td>102</td>\n",
       "    </tr>\n",
       "    <tr>\n",
       "      <th>773</th>\n",
       "      <td>$323 754</td>\n",
       "      <td>98</td>\n",
       "    </tr>\n",
       "  </tbody>\n",
       "</table>\n",
       "<p>774 rows × 2 columns</p>\n",
       "</div>"
      ],
      "text/plain": [
       "        budget.1 runtime\n",
       "0    $37 500 000     126\n",
       "1    $14 093 397     111\n",
       "2    $56 715 371     149\n",
       "3    $28 539 757      99\n",
       "4    $50 000 000      94\n",
       "..           ...     ...\n",
       "769  $28 714 231      95\n",
       "770          NaN     100\n",
       "771  $15 100 000     106\n",
       "772   $1 700 000     102\n",
       "773     $323 754      98\n",
       "\n",
       "[774 rows x 2 columns]"
      ]
     },
     "execution_count": 16,
     "metadata": {},
     "output_type": "execute_result"
    }
   ],
   "source": [
    "numeric_data"
   ]
  },
  {
   "cell_type": "code",
   "execution_count": 17,
   "metadata": {},
   "outputs": [
    {
     "data": {
      "text/html": [
       "<div>\n",
       "<style scoped>\n",
       "    .dataframe tbody tr th:only-of-type {\n",
       "        vertical-align: middle;\n",
       "    }\n",
       "\n",
       "    .dataframe tbody tr th {\n",
       "        vertical-align: top;\n",
       "    }\n",
       "\n",
       "    .dataframe thead th {\n",
       "        text-align: right;\n",
       "    }\n",
       "</style>\n",
       "<table border=\"1\" class=\"dataframe\">\n",
       "  <thead>\n",
       "    <tr style=\"text-align: right;\">\n",
       "      <th></th>\n",
       "      <th>actors</th>\n",
       "      <th>directors</th>\n",
       "      <th>screenwriters</th>\n",
       "      <th>producers</th>\n",
       "      <th>operators</th>\n",
       "      <th>composers</th>\n",
       "      <th>art_direction_by</th>\n",
       "      <th>editing_by</th>\n",
       "      <th>genres</th>\n",
       "      <th>type_uais</th>\n",
       "      <th>age_restriction</th>\n",
       "      <th>countries</th>\n",
       "    </tr>\n",
       "  </thead>\n",
       "  <tbody>\n",
       "    <tr>\n",
       "      <th>0</th>\n",
       "      <td>Брайан Крэнстон, Кевин Харт, Николь Кидман, Эй...</td>\n",
       "      <td>Нил Бёргер</td>\n",
       "      <td>Джон Хартмир, Эрик Толедано, Оливье Накаш</td>\n",
       "      <td>Тодд Блэк, Дэвид Дж. Блумфилд, Джейсон Блюменталь</td>\n",
       "      <td>Стюарт Драйбёрг</td>\n",
       "      <td>Роб Симонсен</td>\n",
       "      <td>Марк Фридберг, Том Фролинг, Ким Дженнингс</td>\n",
       "      <td>Наоми Джерати</td>\n",
       "      <td>драма, комедия</td>\n",
       "      <td>NaN</td>\n",
       "      <td>NaN</td>\n",
       "      <td>США</td>\n",
       "    </tr>\n",
       "    <tr>\n",
       "      <th>1</th>\n",
       "      <td>Флориан Давид Фиц, Маттиас Швайгхёфер, Мириам ...</td>\n",
       "      <td>Флориан Давид Фиц</td>\n",
       "      <td>Флориан Давид Фиц</td>\n",
       "      <td>Дан Мааг, Дэниэль Зоннабенд, Антье Банкманн</td>\n",
       "      <td>Бернхард Яспер</td>\n",
       "      <td>Джозеф Бах, Арни Шуманн</td>\n",
       "      <td>Кристиан Эйзель, Метин Мисдик, Александра Пиль...</td>\n",
       "      <td>Денис Бахтер, Ана де Миер и Ортуньо</td>\n",
       "      <td>комедия</td>\n",
       "      <td>NaN</td>\n",
       "      <td>NaN</td>\n",
       "      <td>Германия</td>\n",
       "    </tr>\n",
       "    <tr>\n",
       "      <th>2</th>\n",
       "      <td>Кир Дуллеа, Гэри Локвуд, Уильям Сильвестр, Дэн...</td>\n",
       "      <td>Стэнли Кубрик</td>\n",
       "      <td>Артур Ч. Кларк, Стэнли Кубрик</td>\n",
       "      <td>Стэнли Кубрик, Виктор Линдон</td>\n",
       "      <td>Джеффри Ансуорт</td>\n",
       "      <td>NaN</td>\n",
       "      <td>Эрнест Арчер, Гарри Ланж, Энтони Мастерс</td>\n",
       "      <td>Рэй Лавджой</td>\n",
       "      <td>фантастика, приключения</td>\n",
       "      <td>NaN</td>\n",
       "      <td>NaN</td>\n",
       "      <td>Великобритания, США</td>\n",
       "    </tr>\n",
       "    <tr>\n",
       "      <th>3</th>\n",
       "      <td>Чедвик Боузман, Сиенна Миллер, Тейлор Китч, Дж...</td>\n",
       "      <td>Брайан Кирк</td>\n",
       "      <td>Адам Мервис, Мэттью Майкл Карнахан</td>\n",
       "      <td>Чедвик Боузман, Логан Коулз, Гиги Притцкер</td>\n",
       "      <td>Пол Кэмерон</td>\n",
       "      <td>Alex Belcher, Генри Джекман</td>\n",
       "      <td>Грег Берри, Маттео Де Космо, Дэвид С. Робинсон</td>\n",
       "      <td>Тим Мёрелл</td>\n",
       "      <td>боевик, криминал, триллер</td>\n",
       "      <td>NaN</td>\n",
       "      <td>NaN</td>\n",
       "      <td>США</td>\n",
       "    </tr>\n",
       "    <tr>\n",
       "      <th>4</th>\n",
       "      <td>Марк Уолберг, Лорен Кохэн, Ико Уайс, Джон Малк...</td>\n",
       "      <td>Питер Берг</td>\n",
       "      <td>Лиа Карпентер, Грэм Роланд</td>\n",
       "      <td>Питер Берг, Стивен Левинсон, Марк Уолберг</td>\n",
       "      <td>Жак Жуффре</td>\n",
       "      <td>Джефф Руссо</td>\n",
       "      <td>Эндрю Мензес, Алан Хук, Алекс МакКэрролл</td>\n",
       "      <td>Мелисса Лосон, Колби Паркер мл.</td>\n",
       "      <td>боевик, триллер</td>\n",
       "      <td>художественный</td>\n",
       "      <td>«18+» запрещено для детей</td>\n",
       "      <td>Китай, США, Колумбия</td>\n",
       "    </tr>\n",
       "    <tr>\n",
       "      <th>...</th>\n",
       "      <td>...</td>\n",
       "      <td>...</td>\n",
       "      <td>...</td>\n",
       "      <td>...</td>\n",
       "      <td>...</td>\n",
       "      <td>...</td>\n",
       "      <td>...</td>\n",
       "      <td>...</td>\n",
       "      <td>...</td>\n",
       "      <td>...</td>\n",
       "      <td>...</td>\n",
       "      <td>...</td>\n",
       "    </tr>\n",
       "    <tr>\n",
       "      <th>769</th>\n",
       "      <td>Самара Уивинг, Адам Броди, Марк ОБрайэн, Генри...</td>\n",
       "      <td>Мэттью Беттинелли, Тайлер Джиллетт</td>\n",
       "      <td>Гай Бусик, Райан Мерфи</td>\n",
       "      <td>Брэдли Дж. Фишер, Уильям Шерак, Джеймс Вандербилт</td>\n",
       "      <td>Бретт Юткевич</td>\n",
       "      <td>Брайан Тайлер</td>\n",
       "      <td>Эндрю М. Стерн, Эйвери Плюз, Майк Леандро</td>\n",
       "      <td>Терел Гибсон</td>\n",
       "      <td>триллер, комедия, ужасы</td>\n",
       "      <td>NaN</td>\n",
       "      <td>NaN</td>\n",
       "      <td>США, Канада</td>\n",
       "    </tr>\n",
       "    <tr>\n",
       "      <th>770</th>\n",
       "      <td>Филипп Рейнхардт, Анна Чурина, Кристина Бабушк...</td>\n",
       "      <td>Руслан Паушу</td>\n",
       "      <td>Руслан Паушу, Алексей А. Петрухин</td>\n",
       "      <td>Алексей А. Петрухин, Вячеслав Чернявский</td>\n",
       "      <td>Илья Бойко</td>\n",
       "      <td>NaN</td>\n",
       "      <td>Анна Чернова</td>\n",
       "      <td>NaN</td>\n",
       "      <td>комедия, драма</td>\n",
       "      <td>NaN</td>\n",
       "      <td>NaN</td>\n",
       "      <td>Россия</td>\n",
       "    </tr>\n",
       "    <tr>\n",
       "      <th>771</th>\n",
       "      <td>Мэдисон Вульф, Зои Салдана, Имоджен Путс, Сидн...</td>\n",
       "      <td>Андерс Вальтер Хансен</td>\n",
       "      <td>Джо Келли, Х. М. Кэн Ниимура</td>\n",
       "      <td>Джо Келли, Анна Барнатан, Майкл Барнатан</td>\n",
       "      <td>Расмус Дж. Хейз</td>\n",
       "      <td>Лорен Перез</td>\n",
       "      <td>Сьюзи Каллен, Жиль Балабо, Тамара Конбой</td>\n",
       "      <td>Ларс Уиссинг</td>\n",
       "      <td>фэнтези, триллер, драма</td>\n",
       "      <td>художественный</td>\n",
       "      <td>«12+» для детей старше 12 лет</td>\n",
       "      <td>Бельгия, Великобритания, США, Китай</td>\n",
       "    </tr>\n",
       "    <tr>\n",
       "      <th>772</th>\n",
       "      <td>Александра Бортич, Ирина Горбачева, Сергей Шну...</td>\n",
       "      <td>Алексей Нужный</td>\n",
       "      <td>Николай Куликов, Алексей Нужный, Константин Майер</td>\n",
       "      <td>Сергей Корнихин, Николай Куликов, Алексей Нужный</td>\n",
       "      <td>Кирилл Клепалов</td>\n",
       "      <td>Дмитрий Ланской, Дмитрий Емельянов</td>\n",
       "      <td>Маргарита Аблаева</td>\n",
       "      <td>Авет Оганесян</td>\n",
       "      <td>комедия</td>\n",
       "      <td>художественный</td>\n",
       "      <td>«16+» для детей старше 16 лет</td>\n",
       "      <td>Россия</td>\n",
       "    </tr>\n",
       "    <tr>\n",
       "      <th>773</th>\n",
       "      <td>Джон Траволта, Морган Фриман, Элла Блю Траволт...</td>\n",
       "      <td>Франческо Синкуемани, Джордж Галло</td>\n",
       "      <td>Франческо Синкуемани, Лука Джилиберто, Ричард ...</td>\n",
       "      <td>Джефф Эллиотт, Оскар Генерале, Андреа Иерволино</td>\n",
       "      <td>Терри Стэйси</td>\n",
       "      <td>Альдо Шлаку, Маркус Сьовалл</td>\n",
       "      <td>Джо Леммон, Франк Мюллер, Камилль Жумель</td>\n",
       "      <td>Айван Готье</td>\n",
       "      <td>триллер, детектив</td>\n",
       "      <td>NaN</td>\n",
       "      <td>NaN</td>\n",
       "      <td>Италия</td>\n",
       "    </tr>\n",
       "  </tbody>\n",
       "</table>\n",
       "<p>774 rows × 12 columns</p>\n",
       "</div>"
      ],
      "text/plain": [
       "                                                actors  \\\n",
       "0    Брайан Крэнстон, Кевин Харт, Николь Кидман, Эй...   \n",
       "1    Флориан Давид Фиц, Маттиас Швайгхёфер, Мириам ...   \n",
       "2    Кир Дуллеа, Гэри Локвуд, Уильям Сильвестр, Дэн...   \n",
       "3    Чедвик Боузман, Сиенна Миллер, Тейлор Китч, Дж...   \n",
       "4    Марк Уолберг, Лорен Кохэн, Ико Уайс, Джон Малк...   \n",
       "..                                                 ...   \n",
       "769  Самара Уивинг, Адам Броди, Марк ОБрайэн, Генри...   \n",
       "770  Филипп Рейнхардт, Анна Чурина, Кристина Бабушк...   \n",
       "771  Мэдисон Вульф, Зои Салдана, Имоджен Путс, Сидн...   \n",
       "772  Александра Бортич, Ирина Горбачева, Сергей Шну...   \n",
       "773  Джон Траволта, Морган Фриман, Элла Блю Траволт...   \n",
       "\n",
       "                              directors  \\\n",
       "0                            Нил Бёргер   \n",
       "1                     Флориан Давид Фиц   \n",
       "2                         Стэнли Кубрик   \n",
       "3                           Брайан Кирк   \n",
       "4                            Питер Берг   \n",
       "..                                  ...   \n",
       "769  Мэттью Беттинелли, Тайлер Джиллетт   \n",
       "770                        Руслан Паушу   \n",
       "771               Андерс Вальтер Хансен   \n",
       "772                      Алексей Нужный   \n",
       "773  Франческо Синкуемани, Джордж Галло   \n",
       "\n",
       "                                         screenwriters  \\\n",
       "0            Джон Хартмир, Эрик Толедано, Оливье Накаш   \n",
       "1                                    Флориан Давид Фиц   \n",
       "2                        Артур Ч. Кларк, Стэнли Кубрик   \n",
       "3                   Адам Мервис, Мэттью Майкл Карнахан   \n",
       "4                           Лиа Карпентер, Грэм Роланд   \n",
       "..                                                 ...   \n",
       "769                             Гай Бусик, Райан Мерфи   \n",
       "770                  Руслан Паушу, Алексей А. Петрухин   \n",
       "771                       Джо Келли, Х. М. Кэн Ниимура   \n",
       "772  Николай Куликов, Алексей Нужный, Константин Майер   \n",
       "773  Франческо Синкуемани, Лука Джилиберто, Ричард ...   \n",
       "\n",
       "                                             producers        operators  \\\n",
       "0    Тодд Блэк, Дэвид Дж. Блумфилд, Джейсон Блюменталь  Стюарт Драйбёрг   \n",
       "1          Дан Мааг, Дэниэль Зоннабенд, Антье Банкманн   Бернхард Яспер   \n",
       "2                         Стэнли Кубрик, Виктор Линдон  Джеффри Ансуорт   \n",
       "3           Чедвик Боузман, Логан Коулз, Гиги Притцкер      Пол Кэмерон   \n",
       "4            Питер Берг, Стивен Левинсон, Марк Уолберг       Жак Жуффре   \n",
       "..                                                 ...              ...   \n",
       "769  Брэдли Дж. Фишер, Уильям Шерак, Джеймс Вандербилт    Бретт Юткевич   \n",
       "770           Алексей А. Петрухин, Вячеслав Чернявский       Илья Бойко   \n",
       "771           Джо Келли, Анна Барнатан, Майкл Барнатан  Расмус Дж. Хейз   \n",
       "772   Сергей Корнихин, Николай Куликов, Алексей Нужный  Кирилл Клепалов   \n",
       "773    Джефф Эллиотт, Оскар Генерале, Андреа Иерволино     Терри Стэйси   \n",
       "\n",
       "                              composers  \\\n",
       "0                          Роб Симонсен   \n",
       "1               Джозеф Бах, Арни Шуманн   \n",
       "2                                   NaN   \n",
       "3           Alex Belcher, Генри Джекман   \n",
       "4                           Джефф Руссо   \n",
       "..                                  ...   \n",
       "769                       Брайан Тайлер   \n",
       "770                                 NaN   \n",
       "771                         Лорен Перез   \n",
       "772  Дмитрий Ланской, Дмитрий Емельянов   \n",
       "773         Альдо Шлаку, Маркус Сьовалл   \n",
       "\n",
       "                                      art_direction_by  \\\n",
       "0            Марк Фридберг, Том Фролинг, Ким Дженнингс   \n",
       "1    Кристиан Эйзель, Метин Мисдик, Александра Пиль...   \n",
       "2             Эрнест Арчер, Гарри Ланж, Энтони Мастерс   \n",
       "3       Грег Берри, Маттео Де Космо, Дэвид С. Робинсон   \n",
       "4             Эндрю Мензес, Алан Хук, Алекс МакКэрролл   \n",
       "..                                                 ...   \n",
       "769          Эндрю М. Стерн, Эйвери Плюз, Майк Леандро   \n",
       "770                                       Анна Чернова   \n",
       "771           Сьюзи Каллен, Жиль Балабо, Тамара Конбой   \n",
       "772                                  Маргарита Аблаева   \n",
       "773           Джо Леммон, Франк Мюллер, Камилль Жумель   \n",
       "\n",
       "                              editing_by                     genres  \\\n",
       "0                          Наоми Джерати             драма, комедия   \n",
       "1    Денис Бахтер, Ана де Миер и Ортуньо                    комедия   \n",
       "2                            Рэй Лавджой    фантастика, приключения   \n",
       "3                             Тим Мёрелл  боевик, криминал, триллер   \n",
       "4        Мелисса Лосон, Колби Паркер мл.            боевик, триллер   \n",
       "..                                   ...                        ...   \n",
       "769                         Терел Гибсон    триллер, комедия, ужасы   \n",
       "770                                  NaN             комедия, драма   \n",
       "771                         Ларс Уиссинг    фэнтези, триллер, драма   \n",
       "772                        Авет Оганесян                    комедия   \n",
       "773                          Айван Готье          триллер, детектив   \n",
       "\n",
       "          type_uais                age_restriction  \\\n",
       "0               NaN                            NaN   \n",
       "1               NaN                            NaN   \n",
       "2               NaN                            NaN   \n",
       "3               NaN                            NaN   \n",
       "4    художественный      «18+» запрещено для детей   \n",
       "..              ...                            ...   \n",
       "769             NaN                            NaN   \n",
       "770             NaN                            NaN   \n",
       "771  художественный  «12+» для детей старше 12 лет   \n",
       "772  художественный  «16+» для детей старше 16 лет   \n",
       "773             NaN                            NaN   \n",
       "\n",
       "                               countries  \n",
       "0                                    США  \n",
       "1                               Германия  \n",
       "2                    Великобритания, США  \n",
       "3                                    США  \n",
       "4                   Китай, США, Колумбия  \n",
       "..                                   ...  \n",
       "769                          США, Канада  \n",
       "770                               Россия  \n",
       "771  Бельгия, Великобритания, США, Китай  \n",
       "772                               Россия  \n",
       "773                               Италия  \n",
       "\n",
       "[774 rows x 12 columns]"
      ]
     },
     "execution_count": 17,
     "metadata": {},
     "output_type": "execute_result"
    }
   ],
   "source": [
    "categorical_data"
   ]
  },
  {
   "cell_type": "code",
   "execution_count": 18,
   "metadata": {},
   "outputs": [],
   "source": [
    "from sklearn.preprocessing import MultiLabelBinarizer, LabelBinarizer"
   ]
  },
  {
   "cell_type": "code",
   "execution_count": 19,
   "metadata": {},
   "outputs": [],
   "source": [
    "from googletrans import Translator\n",
    "translator = Translator()\n",
    "\n",
    "trash = set({'1150000', 'Симон Гстоттмайр'})\n",
    "\n",
    "def extract_genres(data):\n",
    "    binarizer = MultiLabelBinarizer()\n",
    "    res = binarizer.fit_transform(list(map(\n",
    "        lambda r: set(map(str.strip, r.split(\",\"))) - trash if not pd.isnull(r) else [],\n",
    "        data.genres\n",
    "    )))\n",
    "    names = list(map(lambda x: \"genre_\" + translator.translate(x, src=\"ru\", dest=\"en\").text.lower(), binarizer.classes_))\n",
    "    return pd.DataFrame(res, columns=names)\n",
    "\n",
    "\n",
    "def extract_country(data):\n",
    "    binarizer = MultiLabelBinarizer()\n",
    "    res = binarizer.fit_transform(list(map(\n",
    "        lambda r: set(map(str.strip, r.split(\",\"))) - trash if not pd.isnull(r) else [],\n",
    "        data.genres\n",
    "    )))\n",
    "    names = list(map(lambda x: \"country_\" + translator.translate(x, src=\"ru\", dest=\"en\").text.lower(), binarizer.classes_))\n",
    "    return pd.DataFrame(res, columns=names)\n",
    "\n",
    "def extract_type(data):\n",
    "    lb = LabelBinarizer()\n",
    "    res = lb.fit_transform(list(map(lambda x: x if not pd.isnull(x) else \"None\", data.type_uais)))\n",
    "    names = list(map(lambda x: \"type_\" + translator.translate(x, src=\"ru\", dest=\"en\").text.lower(), lb.classes_))\n",
    "    return pd.DataFrame(res, columns=names).drop(\"type_none\", axis=1)\n",
    "\n",
    "def extract_age(data):\n",
    "    lb = LabelBinarizer()\n",
    "    res = list(map(\n",
    "        lambda x: \"6\" if x == \"66\" else x,\n",
    "        map(\n",
    "            lambda x: \"\".join(filter(str.isdigit, x))[:2] if not pd.isnull(x) else \"none\", \n",
    "            data.age_restriction\n",
    "        )\n",
    "    ))\n",
    "    res = lb.fit_transform(res)\n",
    "    names = list(map(lambda x: \"age_\" + x, lb.classes_))\n",
    "    res = pd.DataFrame(res, columns=names)\n",
    "    res.age_0 += res.age_\n",
    "    return res.drop([\"age_none\", \"age_\"], axis=1)"
   ]
  },
  {
   "cell_type": "code",
   "execution_count": 20,
   "metadata": {},
   "outputs": [],
   "source": [
    "from price_parser import Price\n",
    "from currency_converter import CurrencyConverter\n",
    "c = CurrencyConverter()\n",
    "\n",
    "currecies = {\n",
    "    '$':    'USD',\n",
    "    'CAD':  'CAD',\n",
    "    'CNY':  'CNY',\n",
    "    '£':    'GBP',\n",
    "    '¥':    'JPY',\n",
    "    'р':    'RUB',\n",
    "    'руб.':  'RUB',\n",
    "    '€':    'EUR',\n",
    "}\n",
    "\n",
    "def parse_budget(s):\n",
    "    if pd.isnull(s):\n",
    "        return np.nan\n",
    "    \n",
    "    p = Price.fromstring(s)\n",
    "    if p.currency == 'USD':\n",
    "        return np.rount(p.amount)\n",
    "    if p.currency is not None and p.amount is not None:\n",
    "        p.currency = currecies[p.currency]\n",
    "        return np.round(c.convert(p.amount, p.currency, \"USD\"))\n",
    "    else: \n",
    "        return np.nan\n",
    "\n",
    "def transform_numeric_features(data, fillna=False):\n",
    "    data[\"budget\"] = list(map(lambda b: parse_budget(b), data[\"budget.1\"]))\n",
    "    data[\"runtime\"] = list(map(lambda x: int(x) if (not pd.isnull(x) and not len(list(filter(str.isdigit, str(x)))) == 0) else np.nan, data.runtime))\n",
    "    data = data.drop(\"budget.1\", axis=1)\n",
    "    if fillna:\n",
    "        data[\"budget\"] = data[\"budget\"].fillna(data[\"budget\"].mean())\n",
    "        data[\"runtime\"] = data[\"runtime\"].fillna(data[\"runtime\"].mean())\n",
    "        \n",
    "    return data\n",
    "    \n",
    "    \n"
   ]
  },
  {
   "cell_type": "code",
   "execution_count": 21,
   "metadata": {},
   "outputs": [],
   "source": [
    "def parse_time_data(data):\n",
    "    return pd.DataFrame({\n",
    "        \"release\": list(\n",
    "            map(\n",
    "                lambda x: datetime.datetime.strptime(x, \"%d %B %Y\").timestamp() if not pd.isnull(x) else np.nan,\n",
    "                data\n",
    "            )\n",
    "        )\n",
    "    })"
   ]
  },
  {
   "cell_type": "code",
   "execution_count": 22,
   "metadata": {},
   "outputs": [],
   "source": [
    "def extract_numerical_data_from_categorical(data):\n",
    "    result_dict = dict()\n",
    "    for feature in [\"actors\", \"directors\", \"screenwriters\", \"producers\", \"operators\", \n",
    "                    \"composers\", \"art_direction_by\", \"editing_by\"]:\n",
    "        result_dict[\"num_\" + feature] = list(map(lambda x: len(x.split(\",\")) if not pd.isnull(x) else 0, data[feature]))\n",
    "    \n",
    "    return pd.DataFrame(result_dict)"
   ]
  },
  {
   "cell_type": "code",
   "execution_count": 23,
   "metadata": {},
   "outputs": [
    {
     "name": "stderr",
     "output_type": "stream",
     "text": [
      "/Users/nikitakrutoy/.pyenv/versions/3.6.6/lib/python3.6/site-packages/ipykernel_launcher.py:30: SettingWithCopyWarning: \n",
      "A value is trying to be set on a copy of a slice from a DataFrame.\n",
      "Try using .loc[row_indexer,col_indexer] = value instead\n",
      "\n",
      "See the caveats in the documentation: https://pandas.pydata.org/pandas-docs/stable/user_guide/indexing.html#returning-a-view-versus-a-copy\n",
      "/Users/nikitakrutoy/.pyenv/versions/3.6.6/lib/python3.6/site-packages/ipykernel_launcher.py:31: SettingWithCopyWarning: \n",
      "A value is trying to be set on a copy of a slice from a DataFrame.\n",
      "Try using .loc[row_indexer,col_indexer] = value instead\n",
      "\n",
      "See the caveats in the documentation: https://pandas.pydata.org/pandas-docs/stable/user_guide/indexing.html#returning-a-view-versus-a-copy\n"
     ]
    }
   ],
   "source": [
    "X = pd.concat([\n",
    "    transform_numeric_features(numeric_data, fillna=True),\n",
    "    extract_numerical_data_from_categorical(categorical_data),\n",
    "    extract_genres(categorical_data),\n",
    "    extract_country(categorical_data),\n",
    "    extract_type(categorical_data),\n",
    "    extract_age(categorical_data)\n",
    "], axis=1)"
   ]
  },
  {
   "cell_type": "code",
   "execution_count": 24,
   "metadata": {},
   "outputs": [],
   "source": [
    "mask = ~np.logical_or(\n",
    "    X.isnull().any(axis=1).values,\n",
    "    data[\"profit_russia\"].isnull().values,\n",
    ")"
   ]
  },
  {
   "cell_type": "code",
   "execution_count": 25,
   "metadata": {},
   "outputs": [],
   "source": [
    "X = X[mask]"
   ]
  },
  {
   "cell_type": "code",
   "execution_count": 26,
   "metadata": {},
   "outputs": [],
   "source": [
    "y = np.array(list(map(float, data[\"profit_russia\"][mask].values)))"
   ]
  },
  {
   "cell_type": "code",
   "execution_count": 27,
   "metadata": {},
   "outputs": [],
   "source": [
    "X = X[y > 100]\n",
    "y = y[y > 100]"
   ]
  },
  {
   "cell_type": "code",
   "execution_count": 28,
   "metadata": {},
   "outputs": [],
   "source": [
    "X_ = X.copy()"
   ]
  },
  {
   "cell_type": "code",
   "execution_count": 29,
   "metadata": {},
   "outputs": [],
   "source": [
    "X_[\"title_uais\"] = data[\"title_uais\"]"
   ]
  },
  {
   "cell_type": "code",
   "execution_count": 30,
   "metadata": {},
   "outputs": [],
   "source": [
    "X_.to_csv(\"data/MoviesKinopoiskPreprocessed.csv\", index=False)"
   ]
  },
  {
   "cell_type": "code",
   "execution_count": 31,
   "metadata": {},
   "outputs": [],
   "source": [
    "from lightgbm.sklearn import LGBMRegressor"
   ]
  },
  {
   "cell_type": "code",
   "execution_count": 32,
   "metadata": {},
   "outputs": [],
   "source": [
    "from sklearn.model_selection import cross_val_score, KFold, cross_validate"
   ]
  },
  {
   "cell_type": "code",
   "execution_count": 33,
   "metadata": {},
   "outputs": [],
   "source": [
    "from sklearn.metrics import mean_absolute_error, r2_score, make_scorer"
   ]
  },
  {
   "cell_type": "code",
   "execution_count": 34,
   "metadata": {},
   "outputs": [
    {
     "data": {
      "text/plain": [
       "runtime              float64\n",
       "budget               float64\n",
       "num_actors             int64\n",
       "num_directors          int64\n",
       "num_screenwriters      int64\n",
       "                      ...   \n",
       "age_12                 int64\n",
       "age_14                 int64\n",
       "age_16                 int64\n",
       "age_18                 int64\n",
       "age_6                  int64\n",
       "Length: 75, dtype: object"
      ]
     },
     "execution_count": 34,
     "metadata": {},
     "output_type": "execute_result"
    }
   ],
   "source": [
    "X.dtypes"
   ]
  },
  {
   "cell_type": "code",
   "execution_count": 35,
   "metadata": {},
   "outputs": [
    {
     "data": {
      "text/plain": [
       "False"
      ]
     },
     "execution_count": 35,
     "metadata": {},
     "output_type": "execute_result"
    }
   ],
   "source": [
    "pd.isnull(y).any()"
   ]
  },
  {
   "cell_type": "code",
   "execution_count": 36,
   "metadata": {},
   "outputs": [],
   "source": [
    "np.random.seed(seed=42)"
   ]
  },
  {
   "cell_type": "code",
   "execution_count": 45,
   "metadata": {},
   "outputs": [
    {
     "data": {
      "text/plain": [
       "array([0.5213104 , 0.27600484, 0.40669316, 0.23251559, 0.23403345])"
      ]
     },
     "execution_count": 45,
     "metadata": {},
     "output_type": "execute_result"
    }
   ],
   "source": [
    "scores = cross_val_score(\n",
    "    LGBMRegressor(), \n",
    "    X, y, \n",
    "    cv=KFold(n_splits=5, shuffle=True), \n",
    "    scoring=make_scorer(r2_score)\n",
    ")\n",
    "scores"
   ]
  },
  {
   "cell_type": "code",
   "execution_count": 46,
   "metadata": {},
   "outputs": [
    {
     "data": {
      "text/plain": [
       "0.3341114873348235"
      ]
     },
     "execution_count": 46,
     "metadata": {},
     "output_type": "execute_result"
    }
   ],
   "source": [
    "np.clip(scores, 0, 1).mean()"
   ]
  },
  {
   "cell_type": "code",
   "execution_count": 51,
   "metadata": {},
   "outputs": [],
   "source": [
    "results = cross_validate(    \n",
    "    LGBMRegressor(), \n",
    "    X, y, \n",
    "    cv=KFold(n_splits=5, shuffle=True), \n",
    "    scoring=make_scorer(r2_score),\n",
    "    return_estimator=True\n",
    ")"
   ]
  },
  {
   "cell_type": "code",
   "execution_count": 52,
   "metadata": {},
   "outputs": [
    {
     "data": {
      "text/plain": [
       "0.3041116301234892"
      ]
     },
     "execution_count": 52,
     "metadata": {},
     "output_type": "execute_result"
    }
   ],
   "source": [
    "np.mean(results[\"test_score\"])"
   ]
  },
  {
   "cell_type": "code",
   "execution_count": 53,
   "metadata": {},
   "outputs": [],
   "source": [
    "best_model = results[\"estimator\"][np.argmax(results[\"test_score\"])]"
   ]
  },
  {
   "cell_type": "code",
   "execution_count": 54,
   "metadata": {},
   "outputs": [],
   "source": [
    "y_pred = best_model.predict(X)"
   ]
  },
  {
   "cell_type": "code",
   "execution_count": 55,
   "metadata": {},
   "outputs": [],
   "source": [
    "import matplotlib.pyplot as plt"
   ]
  },
  {
   "cell_type": "code",
   "execution_count": 56,
   "metadata": {},
   "outputs": [],
   "source": [
    "%matplotlib inline"
   ]
  },
  {
   "cell_type": "code",
   "execution_count": 57,
   "metadata": {},
   "outputs": [],
   "source": [
    "x = np.random.choice(np.arange(len(y)), size=100, replace=False)"
   ]
  },
  {
   "cell_type": "code",
   "execution_count": 58,
   "metadata": {},
   "outputs": [
    {
     "data": {
      "image/png": "[encoded data removed]",
      "text/plain": [
       "<Figure size 432x288 with 1 Axes>"
      ]
     },
     "metadata": {
      "needs_background": "light"
     },
     "output_type": "display_data"
    }
   ],
   "source": [
    "plt.plot(y[x], label=\"true\"),\n",
    "plt.plot(y_pred[x], label=\"predict\", alpha=1)\n",
    "plt.legend()\n",
    "plt.savefig(\"pics/plot.png\")\n",
    "plt.show()"
   ]
  },
  {
   "cell_type": "code",
   "execution_count": 59,
   "metadata": {},
   "outputs": [],
   "source": [
    "import scipy"
   ]
  },
  {
   "cell_type": "code",
   "execution_count": 60,
   "metadata": {},
   "outputs": [
    {
     "data": {
      "text/plain": [
       "0.14596643753276928"
      ]
     },
     "execution_count": 60,
     "metadata": {},
     "output_type": "execute_result"
    }
   ],
   "source": [
    "scipy.spatial.distance.cosine(y, y_pred)"
   ]
  },
  {
   "cell_type": "code",
   "execution_count": 63,
   "metadata": {},
   "outputs": [
    {
     "data": {
      "text/plain": [
       "array([0.39820468, 0.50533416, 0.35680614, 0.42114436, 0.38293625])"
      ]
     },
     "execution_count": 63,
     "metadata": {},
     "output_type": "execute_result"
    }
   ],
   "source": [
    "scores = cross_val_score(\n",
    "    LGBMRegressor(), \n",
    "    X, np.log(y), \n",
    "    cv=KFold(n_splits=5, shuffle=True), \n",
    "    scoring=make_scorer(r2_score)\n",
    ")\n",
    "scores"
   ]
  },
  {
   "cell_type": "code",
   "execution_count": 64,
   "metadata": {},
   "outputs": [
    {
     "data": {
      "text/plain": [
       "0.4128851198526807"
      ]
     },
     "execution_count": 64,
     "metadata": {},
     "output_type": "execute_result"
    }
   ],
   "source": [
    "np.clip(scores, 0, 1).mean()"
   ]
  }
 ],
 "metadata": {
  "kernelspec": {
   "display_name": "Python 3.6.6",
   "language": "python",
   "name": "python3.6.6"
  },
  "language_info": {
   "codemirror_mode": {
    "name": "ipython",
    "version": 3
   },
   "file_extension": ".py",
   "mimetype": "text/x-python",
   "name": "python",
   "nbconvert_exporter": "python",
   "pygments_lexer": "ipython3",
   "version": "3.6.6"
  },
  "nteract": {
   "version": "nteract-on-jupyter@1.9.6"
  }
 },
 "nbformat": 4,
 "nbformat_minor": 4
}
