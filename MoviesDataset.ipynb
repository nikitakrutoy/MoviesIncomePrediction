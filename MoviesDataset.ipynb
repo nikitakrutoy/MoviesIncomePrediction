{
 "cells": [
  {
   "cell_type": "code",
   "execution_count": 1,
   "metadata": {
    "ExecuteTime": {
     "end_time": "2020-04-03T18:17:05.843533Z",
     "start_time": "2020-04-03T18:17:04.377529Z"
    }
   },
   "outputs": [],
   "source": [
    "import pandas as pd\n",
    "import numpy as np"
   ]
  },
  {
   "cell_type": "code",
   "execution_count": 2,
   "metadata": {},
   "outputs": [],
   "source": [
    "pd.options.display.max_columns = None"
   ]
  },
  {
   "cell_type": "code",
   "execution_count": 3,
   "metadata": {
    "ExecuteTime": {
     "end_time": "2020-04-03T18:21:02.943321Z",
     "start_time": "2020-04-03T18:21:02.940589Z"
    }
   },
   "outputs": [],
   "source": [
    "data_uais = pd.read_csv(\"data/MoviesUAIS.csv\")"
   ]
  },
  {
   "cell_type": "code",
   "execution_count": 4,
   "metadata": {
    "ExecuteTime": {
     "end_time": "2020-04-03T18:17:20.999121Z",
     "start_time": "2020-04-03T18:17:20.963372Z"
    }
   },
   "outputs": [],
   "source": [
    "data_kinopoisk = pd.read_csv(\"data/MoviesKinopoisk.csv\")"
   ]
  },
  {
   "cell_type": "code",
   "execution_count": 9,
   "metadata": {},
   "outputs": [],
   "source": [
    "data_kinopoisk = pd.read_csv(\"data/Movies_TOP20_since2015.csv\")"
   ]
  },
  {
   "cell_type": "code",
   "execution_count": 5,
   "metadata": {},
   "outputs": [],
   "source": [
    "data_google = pd.read_csv(\"data/google_serach_weeks.csv\")"
   ]
  },
  {
   "cell_type": "code",
   "execution_count": 184,
   "metadata": {},
   "outputs": [],
   "source": [
    "data_wordstat = pd.read_csv(\"data/Wordstat.csv\")"
   ]
  },
  {
   "cell_type": "code",
   "execution_count": 6,
   "metadata": {},
   "outputs": [],
   "source": [
    "data_google.columns = [\"title_uais\"] + list(data_google.columns[1:])"
   ]
  },
  {
   "cell_type": "code",
   "execution_count": 10,
   "metadata": {},
   "outputs": [],
   "source": [
    "data_google[data_google.columns[1:]] = data_google[data_google.columns[1:]].fillna(\n",
    "    data_google[data_google.columns[1:]].mean()\n",
    ")"
   ]
  },
  {
   "cell_type": "code",
   "execution_count": 13,
   "metadata": {},
   "outputs": [
    {
     "data": {
      "text/plain": [
       "(774, 10)"
      ]
     },
     "execution_count": 13,
     "metadata": {},
     "output_type": "execute_result"
    }
   ],
   "source": [
    "data_google.shape"
   ]
  },
  {
   "cell_type": "code",
   "execution_count": 11,
   "metadata": {},
   "outputs": [],
   "source": [
    "data = data_kinopoisk.set_index(data_kinopoisk.columns[0])\\\n",
    "    .join(data_uais.set_index(data_uais.columns[0]))"
   ]
  },
  {
   "cell_type": "code",
   "execution_count": 14,
   "metadata": {},
   "outputs": [],
   "source": [
    "data = data\\\n",
    "    .replace('None', np.nan)\\\n",
    "    .replace('None :', np.nan)\\\n",
    "    .replace('{}', np.nan)\\\n",
    "    .replace('()', np.nan)"
   ]
  },
  {
   "cell_type": "code",
   "execution_count": 15,
   "metadata": {},
   "outputs": [],
   "source": [
    "data = data[~data.index.duplicated()]"
   ]
  },
  {
   "cell_type": "code",
   "execution_count": 16,
   "metadata": {},
   "outputs": [],
   "source": [
    "data = data.reset_index().rename({\"index\": \"title_uais\"}, axis=1)"
   ]
  },
  {
   "cell_type": "code",
   "execution_count": 17,
   "metadata": {},
   "outputs": [
    {
     "data": {
      "text/plain": [
       "(1698, 47)"
      ]
     },
     "execution_count": 17,
     "metadata": {},
     "output_type": "execute_result"
    }
   ],
   "source": [
    "data.shape"
   ]
  },
  {
   "cell_type": "code",
   "execution_count": 18,
   "metadata": {},
   "outputs": [],
   "source": [
    "import datetime\n",
    "import locale"
   ]
  },
  {
   "cell_type": "code",
   "execution_count": 19,
   "metadata": {},
   "outputs": [
    {
     "data": {
      "text/plain": [
       "'ru_RU'"
      ]
     },
     "execution_count": 19,
     "metadata": {},
     "output_type": "execute_result"
    }
   ],
   "source": [
    "locale.setlocale(locale.LC_TIME, \"ru_RU\")"
   ]
  },
  {
   "cell_type": "code",
   "execution_count": 20,
   "metadata": {},
   "outputs": [
    {
     "data": {
      "text/html": [
       "<div>\n",
       "<style scoped>\n",
       "    .dataframe tbody tr th:only-of-type {\n",
       "        vertical-align: middle;\n",
       "    }\n",
       "\n",
       "    .dataframe tbody tr th {\n",
       "        vertical-align: top;\n",
       "    }\n",
       "\n",
       "    .dataframe thead th {\n",
       "        text-align: right;\n",
       "    }\n",
       "</style>\n",
       "<table border=\"1\" class=\"dataframe\">\n",
       "  <thead>\n",
       "    <tr style=\"text-align: right;\">\n",
       "      <th></th>\n",
       "      <th>title_uais</th>\n",
       "      <th>id</th>\n",
       "      <th>title</th>\n",
       "      <th>title_en</th>\n",
       "      <th>plot</th>\n",
       "      <th>year</th>\n",
       "      <th>countries</th>\n",
       "      <th>tagline</th>\n",
       "      <th>actors</th>\n",
       "      <th>directors</th>\n",
       "      <th>screenwriters</th>\n",
       "      <th>producers</th>\n",
       "      <th>operators</th>\n",
       "      <th>composers</th>\n",
       "      <th>art_direction_by</th>\n",
       "      <th>editing_by</th>\n",
       "      <th>genres</th>\n",
       "      <th>cast</th>\n",
       "      <th>budget</th>\n",
       "      <th>marketing</th>\n",
       "      <th>profit_usa</th>\n",
       "      <th>profit_russia</th>\n",
       "      <th>profit_world</th>\n",
       "      <th>audience</th>\n",
       "      <th>rating</th>\n",
       "      <th>votes</th>\n",
       "      <th>imdb_rating</th>\n",
       "      <th>imdb_votes</th>\n",
       "      <th>runtime</th>\n",
       "      <th>release</th>\n",
       "      <th>posters</th>\n",
       "      <th>trailers</th>\n",
       "      <th>youtube_ids</th>\n",
       "      <th>series</th>\n",
       "      <th>series_years</th>\n",
       "      <th>release_russia</th>\n",
       "      <th>release_world</th>\n",
       "      <th>viewers</th>\n",
       "      <th>budget.1</th>\n",
       "      <th>age_restr</th>\n",
       "      <th>release_week_rus</th>\n",
       "      <th>release_week_rus_matched_with_google</th>\n",
       "      <th>release_date_uais</th>\n",
       "      <th>magic_number</th>\n",
       "      <th>profit_uais</th>\n",
       "      <th>type_uais</th>\n",
       "      <th>age_restriction</th>\n",
       "    </tr>\n",
       "  </thead>\n",
       "  <tbody>\n",
       "    <tr>\n",
       "      <th>0</th>\n",
       "      <td>#ВСЁ_ИСПРАВИТЬ!?!</td>\n",
       "      <td>927804</td>\n",
       "      <td>#ВСЕ_ИСПРАВИТЬ!?!</td>\n",
       "      <td>NaN</td>\n",
       "      <td>Беззаботные музыканты вдруг попадают в неожида...</td>\n",
       "      <td>2016</td>\n",
       "      <td>Россия</td>\n",
       "      <td>NaN</td>\n",
       "      <td>Никита Киоссе, Владислав Рамм, Артём Пиндюра, ...</td>\n",
       "      <td>Антон Калинкин</td>\n",
       "      <td>Антон Калинкин, Юрий Эпштейн, Артем Голиков</td>\n",
       "      <td>Антон Калинкин, Владимир Пономаренко, Сергей Н...</td>\n",
       "      <td>Святослав Булаковский</td>\n",
       "      <td>Константин Меладзе</td>\n",
       "      <td>Константин Пахотин, Виктория Ефимова-Шестаковская</td>\n",
       "      <td>NaN</td>\n",
       "      <td>драма, музыка, комедия</td>\n",
       "      <td>NaN</td>\n",
       "      <td>NaN</td>\n",
       "      <td>NaN</td>\n",
       "      <td>NaN</td>\n",
       "      <td>228960</td>\n",
       "      <td>NaN</td>\n",
       "      <td>NaN</td>\n",
       "      <td>3.634</td>\n",
       "      <td>1766</td>\n",
       "      <td>NaN</td>\n",
       "      <td>NaN</td>\n",
       "      <td>98</td>\n",
       "      <td>NaN</td>\n",
       "      <td>NaN</td>\n",
       "      <td>NaN</td>\n",
       "      <td>NaN</td>\n",
       "      <td>FALSE</td>\n",
       "      <td>NaN</td>\n",
       "      <td>28.4.2016</td>\n",
       "      <td>28.4.2016</td>\n",
       "      <td>NaN</td>\n",
       "      <td>68.8 тыс.</td>\n",
       "      <td>NaN</td>\n",
       "      <td>18-2016</td>\n",
       "      <td>56.0</td>\n",
       "      <td>NaN</td>\n",
       "      <td>111006916.0</td>\n",
       "      <td>15206808.84</td>\n",
       "      <td>Кино</td>\n",
       "      <td>«12+» для детей старше 12 лет</td>\n",
       "    </tr>\n",
       "    <tr>\n",
       "      <th>1</th>\n",
       "      <td>007: Спектр</td>\n",
       "      <td>678552</td>\n",
       "      <td>007: СПЕКТР</td>\n",
       "      <td>Spectre</td>\n",
       "      <td>Зашифрованное послание из неизвестного источни...</td>\n",
       "      <td>2015</td>\n",
       "      <td>Великобритания, США</td>\n",
       "      <td>«The dead are alive»</td>\n",
       "      <td>Дэниэл Крэйг, Кристоф Вальц, Леа Сейду, Рэйф Ф...</td>\n",
       "      <td>Сэм Мендес</td>\n",
       "      <td>Джон Логан, Нил Пёрвис, Роберт Уэйд</td>\n",
       "      <td>Закария Алауи, Барбара Брокколи, Дэниэл Крэйг</td>\n",
       "      <td>Хойте Ван Хойтема</td>\n",
       "      <td>Томас Ньюман</td>\n",
       "      <td>Деннис Гасснер, Эндрю Беннетт, Нил Кэллоу</td>\n",
       "      <td>Ли Смит</td>\n",
       "      <td>боевик, триллер, приключения</td>\n",
       "      <td>NaN</td>\n",
       "      <td>245000000</td>\n",
       "      <td>NaN</td>\n",
       "      <td>200074609</td>\n",
       "      <td>12924561</td>\n",
       "      <td>880674609</td>\n",
       "      <td>NaN</td>\n",
       "      <td>6.552</td>\n",
       "      <td>91831</td>\n",
       "      <td>NaN</td>\n",
       "      <td>NaN</td>\n",
       "      <td>148</td>\n",
       "      <td>NaN</td>\n",
       "      <td>NaN</td>\n",
       "      <td>NaN</td>\n",
       "      <td>NaN</td>\n",
       "      <td>FALSE</td>\n",
       "      <td>NaN</td>\n",
       "      <td>6.11.2015</td>\n",
       "      <td>6.11.2015</td>\n",
       "      <td>NaN</td>\n",
       "      <td>$245 000 000</td>\n",
       "      <td>NaN</td>\n",
       "      <td>45-2015</td>\n",
       "      <td>30.0</td>\n",
       "      <td>Thu Jun 11 2015 00:00:00 GMT+0300 (MSK)</td>\n",
       "      <td>121021715.0</td>\n",
       "      <td>706195.00</td>\n",
       "      <td>Кино</td>\n",
       "      <td>«16+» для детей старше 16 лет</td>\n",
       "    </tr>\n",
       "    <tr>\n",
       "      <th>2</th>\n",
       "      <td>1+1. Нарушая правила</td>\n",
       "      <td>977129</td>\n",
       "      <td>1+1. Нарушая правила</td>\n",
       "      <td>Inseparables</td>\n",
       "      <td>Филиппе — богатому бизнесмену, прикованному к ...</td>\n",
       "      <td>2016</td>\n",
       "      <td>Аргентина</td>\n",
       "      <td>«La historia real de una amistad inesperada»</td>\n",
       "      <td>Оскар Мартинес, Родриго Де ла Серна, Алехандра...</td>\n",
       "      <td>Маркос Карневале</td>\n",
       "      <td>Маркос Карневале, Оливье Накаш, Эрик Толедано</td>\n",
       "      <td>Карлос Ментасти, Луис А. Скалелья, Аксель Куше...</td>\n",
       "      <td>Горацио Майра</td>\n",
       "      <td>NaN</td>\n",
       "      <td>Грасиэла Фрагулья, Pablo Battaglia, Daiana Gon...</td>\n",
       "      <td>Луис Баррош</td>\n",
       "      <td>драма, комедия</td>\n",
       "      <td>NaN</td>\n",
       "      <td>NaN</td>\n",
       "      <td>NaN</td>\n",
       "      <td>6258</td>\n",
       "      <td>21207</td>\n",
       "      <td>NaN</td>\n",
       "      <td>NaN</td>\n",
       "      <td>4.833</td>\n",
       "      <td>1163</td>\n",
       "      <td>6.2</td>\n",
       "      <td>594</td>\n",
       "      <td>108</td>\n",
       "      <td>NaN</td>\n",
       "      <td>NaN</td>\n",
       "      <td>NaN</td>\n",
       "      <td>NaN</td>\n",
       "      <td>FALSE</td>\n",
       "      <td>NaN</td>\n",
       "      <td>10.8.2017</td>\n",
       "      <td>10.8.2017</td>\n",
       "      <td>0</td>\n",
       "      <td>$6 258</td>\n",
       "      <td>NaN</td>\n",
       "      <td>32-2017</td>\n",
       "      <td>122.0</td>\n",
       "      <td>Thu Aug 10 2017 00:00:00 GMT+0300 (MSK)</td>\n",
       "      <td>121014317.0</td>\n",
       "      <td>1123910.00</td>\n",
       "      <td>NaN</td>\n",
       "      <td>«16+» - для детей старше 16 лет</td>\n",
       "    </tr>\n",
       "    <tr>\n",
       "      <th>3</th>\n",
       "      <td>1+1: Голливудская история</td>\n",
       "      <td>596484</td>\n",
       "      <td>1+1: Голливудская история</td>\n",
       "      <td>The Upside</td>\n",
       "      <td>Пентхаус в Нью Йорке, целый гараж коллекционны...</td>\n",
       "      <td>2018</td>\n",
       "      <td>США</td>\n",
       "      <td>«Одинокий миллиардер в поисках острых ощущений»</td>\n",
       "      <td>Брайан Крэнстон, Кевин Харт, Николь Кидман, Эй...</td>\n",
       "      <td>Нил Бёргер</td>\n",
       "      <td>Джон Хартмир, Эрик Толедано, Оливье Накаш</td>\n",
       "      <td>Тодд Блэк, Дэвид Дж. Блумфилд, Джейсон Блюменталь</td>\n",
       "      <td>Стюарт Драйбёрг</td>\n",
       "      <td>Роб Симонсен</td>\n",
       "      <td>Марк Фридберг, Том Фролинг, Ким Дженнингс</td>\n",
       "      <td>Наоми Джерати</td>\n",
       "      <td>драма, комедия</td>\n",
       "      <td>NaN</td>\n",
       "      <td>37500000</td>\n",
       "      <td>NaN</td>\n",
       "      <td>108252517</td>\n",
       "      <td>329437</td>\n",
       "      <td>125852517</td>\n",
       "      <td>NaN</td>\n",
       "      <td>6.014</td>\n",
       "      <td>8371</td>\n",
       "      <td>NaN</td>\n",
       "      <td>NaN</td>\n",
       "      <td>126</td>\n",
       "      <td>NaN</td>\n",
       "      <td>NaN</td>\n",
       "      <td>NaN</td>\n",
       "      <td>NaN</td>\n",
       "      <td>FALSE</td>\n",
       "      <td>NaN</td>\n",
       "      <td>8.9.2017</td>\n",
       "      <td>10.1.2019</td>\n",
       "      <td>NaN</td>\n",
       "      <td>$37 500 000</td>\n",
       "      <td>NaN</td>\n",
       "      <td>36-2017</td>\n",
       "      <td>126.0</td>\n",
       "      <td>NaN</td>\n",
       "      <td>NaN</td>\n",
       "      <td>NaN</td>\n",
       "      <td>NaN</td>\n",
       "      <td>NaN</td>\n",
       "    </tr>\n",
       "    <tr>\n",
       "      <th>4</th>\n",
       "      <td>100 вещей и ничего лишнего</td>\n",
       "      <td>1121377</td>\n",
       "      <td>100 вещей и ничего лишнего</td>\n",
       "      <td>100 Dinge</td>\n",
       "      <td>Лучшие друзья Пауль и Тони, находясь буквально...</td>\n",
       "      <td>2018</td>\n",
       "      <td>Германия</td>\n",
       "      <td>NaN</td>\n",
       "      <td>Флориан Давид Фиц, Маттиас Швайгхёфер, Мириам ...</td>\n",
       "      <td>Флориан Давид Фиц</td>\n",
       "      <td>Флориан Давид Фиц</td>\n",
       "      <td>Дан Мааг, Дэниэль Зоннабенд, Антье Банкманн</td>\n",
       "      <td>Бернхард Яспер</td>\n",
       "      <td>Джозеф Бах, Арни Шуманн</td>\n",
       "      <td>Кристиан Эйзель, Метин Мисдик, Александра Пиль...</td>\n",
       "      <td>Денис Бахтер, Ана де Миер и Ортуньо</td>\n",
       "      <td>комедия</td>\n",
       "      <td>NaN</td>\n",
       "      <td>NaN</td>\n",
       "      <td>NaN</td>\n",
       "      <td>NaN</td>\n",
       "      <td>254129</td>\n",
       "      <td>14093397</td>\n",
       "      <td>NaN</td>\n",
       "      <td>6.856</td>\n",
       "      <td>13077</td>\n",
       "      <td>6.5</td>\n",
       "      <td>2709</td>\n",
       "      <td>111</td>\n",
       "      <td>NaN</td>\n",
       "      <td>NaN</td>\n",
       "      <td>NaN</td>\n",
       "      <td>NaN</td>\n",
       "      <td>FALSE</td>\n",
       "      <td>NaN</td>\n",
       "      <td>6.12.2018</td>\n",
       "      <td>28.3.2019</td>\n",
       "      <td>NaN</td>\n",
       "      <td>$14 093 397</td>\n",
       "      <td>NaN</td>\n",
       "      <td>49-2018</td>\n",
       "      <td>191.0</td>\n",
       "      <td>NaN</td>\n",
       "      <td>NaN</td>\n",
       "      <td>NaN</td>\n",
       "      <td>NaN</td>\n",
       "      <td>NaN</td>\n",
       "    </tr>\n",
       "  </tbody>\n",
       "</table>\n",
       "</div>"
      ],
      "text/plain": [
       "                   title_uais       id                       title  \\\n",
       "0           #ВСЁ_ИСПРАВИТЬ!?!   927804           #ВСЕ_ИСПРАВИТЬ!?!   \n",
       "1                 007: Спектр   678552                 007: СПЕКТР   \n",
       "2        1+1. Нарушая правила   977129        1+1. Нарушая правила   \n",
       "3   1+1: Голливудская история   596484   1+1: Голливудская история   \n",
       "4  100 вещей и ничего лишнего  1121377  100 вещей и ничего лишнего   \n",
       "\n",
       "       title_en                                               plot  year  \\\n",
       "0           NaN  Беззаботные музыканты вдруг попадают в неожида...  2016   \n",
       "1       Spectre  Зашифрованное послание из неизвестного источни...  2015   \n",
       "2  Inseparables  Филиппе — богатому бизнесмену, прикованному к ...  2016   \n",
       "3    The Upside  Пентхаус в Нью Йорке, целый гараж коллекционны...  2018   \n",
       "4     100 Dinge  Лучшие друзья Пауль и Тони, находясь буквально...  2018   \n",
       "\n",
       "             countries                                          tagline  \\\n",
       "0               Россия                                              NaN   \n",
       "1  Великобритания, США                             «The dead are alive»   \n",
       "2            Аргентина     «La historia real de una amistad inesperada»   \n",
       "3                  США  «Одинокий миллиардер в поисках острых ощущений»   \n",
       "4             Германия                                              NaN   \n",
       "\n",
       "                                              actors          directors  \\\n",
       "0  Никита Киоссе, Владислав Рамм, Артём Пиндюра, ...     Антон Калинкин   \n",
       "1  Дэниэл Крэйг, Кристоф Вальц, Леа Сейду, Рэйф Ф...         Сэм Мендес   \n",
       "2  Оскар Мартинес, Родриго Де ла Серна, Алехандра...   Маркос Карневале   \n",
       "3  Брайан Крэнстон, Кевин Харт, Николь Кидман, Эй...         Нил Бёргер   \n",
       "4  Флориан Давид Фиц, Маттиас Швайгхёфер, Мириам ...  Флориан Давид Фиц   \n",
       "\n",
       "                                   screenwriters  \\\n",
       "0    Антон Калинкин, Юрий Эпштейн, Артем Голиков   \n",
       "1            Джон Логан, Нил Пёрвис, Роберт Уэйд   \n",
       "2  Маркос Карневале, Оливье Накаш, Эрик Толедано   \n",
       "3      Джон Хартмир, Эрик Толедано, Оливье Накаш   \n",
       "4                              Флориан Давид Фиц   \n",
       "\n",
       "                                           producers              operators  \\\n",
       "0  Антон Калинкин, Владимир Пономаренко, Сергей Н...  Святослав Булаковский   \n",
       "1      Закария Алауи, Барбара Брокколи, Дэниэл Крэйг      Хойте Ван Хойтема   \n",
       "2  Карлос Ментасти, Луис А. Скалелья, Аксель Куше...          Горацио Майра   \n",
       "3  Тодд Блэк, Дэвид Дж. Блумфилд, Джейсон Блюменталь        Стюарт Драйбёрг   \n",
       "4        Дан Мааг, Дэниэль Зоннабенд, Антье Банкманн         Бернхард Яспер   \n",
       "\n",
       "                 composers                                   art_direction_by  \\\n",
       "0       Константин Меладзе  Константин Пахотин, Виктория Ефимова-Шестаковская   \n",
       "1             Томас Ньюман          Деннис Гасснер, Эндрю Беннетт, Нил Кэллоу   \n",
       "2                      NaN  Грасиэла Фрагулья, Pablo Battaglia, Daiana Gon...   \n",
       "3             Роб Симонсен          Марк Фридберг, Том Фролинг, Ким Дженнингс   \n",
       "4  Джозеф Бах, Арни Шуманн  Кристиан Эйзель, Метин Мисдик, Александра Пиль...   \n",
       "\n",
       "                            editing_by                        genres cast  \\\n",
       "0                                  NaN        драма, музыка, комедия  NaN   \n",
       "1                              Ли Смит  боевик, триллер, приключения  NaN   \n",
       "2                          Луис Баррош                драма, комедия  NaN   \n",
       "3                        Наоми Джерати                драма, комедия  NaN   \n",
       "4  Денис Бахтер, Ана де Миер и Ортуньо                       комедия  NaN   \n",
       "\n",
       "      budget marketing profit_usa profit_russia profit_world audience rating  \\\n",
       "0        NaN       NaN        NaN        228960          NaN      NaN  3.634   \n",
       "1  245000000       NaN  200074609      12924561    880674609      NaN  6.552   \n",
       "2        NaN       NaN       6258         21207          NaN      NaN  4.833   \n",
       "3   37500000       NaN  108252517        329437    125852517      NaN  6.014   \n",
       "4        NaN       NaN        NaN        254129     14093397      NaN  6.856   \n",
       "\n",
       "   votes imdb_rating imdb_votes runtime release posters trailers youtube_ids  \\\n",
       "0   1766         NaN        NaN      98     NaN     NaN      NaN         NaN   \n",
       "1  91831         NaN        NaN     148     NaN     NaN      NaN         NaN   \n",
       "2   1163         6.2        594     108     NaN     NaN      NaN         NaN   \n",
       "3   8371         NaN        NaN     126     NaN     NaN      NaN         NaN   \n",
       "4  13077         6.5       2709     111     NaN     NaN      NaN         NaN   \n",
       "\n",
       "  series series_years release_russia release_world viewers      budget.1  \\\n",
       "0  FALSE          NaN      28.4.2016     28.4.2016     NaN     68.8 тыс.   \n",
       "1  FALSE          NaN      6.11.2015     6.11.2015     NaN  $245 000 000   \n",
       "2  FALSE          NaN      10.8.2017     10.8.2017       0        $6 258   \n",
       "3  FALSE          NaN       8.9.2017     10.1.2019     NaN   $37 500 000   \n",
       "4  FALSE          NaN      6.12.2018     28.3.2019     NaN   $14 093 397   \n",
       "\n",
       "  age_restr release_week_rus  release_week_rus_matched_with_google  \\\n",
       "0       NaN          18-2016                                  56.0   \n",
       "1       NaN          45-2015                                  30.0   \n",
       "2       NaN          32-2017                                 122.0   \n",
       "3       NaN          36-2017                                 126.0   \n",
       "4       NaN          49-2018                                 191.0   \n",
       "\n",
       "                         release_date_uais  magic_number  profit_uais  \\\n",
       "0                                      NaN   111006916.0  15206808.84   \n",
       "1  Thu Jun 11 2015 00:00:00 GMT+0300 (MSK)   121021715.0    706195.00   \n",
       "2  Thu Aug 10 2017 00:00:00 GMT+0300 (MSK)   121014317.0   1123910.00   \n",
       "3                                      NaN           NaN          NaN   \n",
       "4                                      NaN           NaN          NaN   \n",
       "\n",
       "  type_uais                  age_restriction  \n",
       "0      Кино    «12+» для детей старше 12 лет  \n",
       "1      Кино    «16+» для детей старше 16 лет  \n",
       "2       NaN  «16+» - для детей старше 16 лет  \n",
       "3       NaN                              NaN  \n",
       "4       NaN                              NaN  "
      ]
     },
     "execution_count": 20,
     "metadata": {},
     "output_type": "execute_result"
    }
   ],
   "source": [
    "data.head()"
   ]
  },
  {
   "cell_type": "code",
   "execution_count": 21,
   "metadata": {},
   "outputs": [],
   "source": [
    "categorical_features =  [\"actors\", \"directors\", \"screenwriters\", \"producers\", \"operators\", \"composers\", \n",
    "                         \"art_direction_by\", \"editing_by\", \"genres\", \"type_uais\", \"age_restriction\", \"countries\"]\n",
    "numerical_faetures = [\"budget.1\", \"runtime\"]\n",
    "id_feautuers = [\"id\"]\n",
    "time_features = [\"release_russia\", \"release_world\"]\n",
    "text_features = [\"plot\", \"title_uias\", \"tagline\"]\n",
    "targets = [\"revenenue\", \"profit_russia\", \"profit_world\", \"viewers\", \"votes\", \"rating\"]\n",
    "\n",
    "trash_features = [\"cast\", \"budget\", \"marketing\", \"audience\", \"imdb_rating\", \"imdb_votes\", \"release\", \n",
    "                  \"trailers\", \"posters\", \"youtube_ids\", \"series\", \"youtube_ids\", \"series_years\", \"age_restr\", \"magic_number\"]\n",
    "\n"
   ]
  },
  {
   "cell_type": "code",
   "execution_count": 22,
   "metadata": {},
   "outputs": [],
   "source": [
    "data = data.drop(trash_features, axis=1)"
   ]
  },
  {
   "cell_type": "code",
   "execution_count": 23,
   "metadata": {},
   "outputs": [],
   "source": [
    "numeric_data = data[numerical_faetures]\n",
    "categorical_data = data[categorical_features]\n",
    "time_data = data[\"release_world\"]"
   ]
  },
  {
   "cell_type": "code",
   "execution_count": 114,
   "metadata": {},
   "outputs": [],
   "source": [
    "from sklearn.preprocessing import minmax_scale"
   ]
  },
  {
   "cell_type": "code",
   "execution_count": 24,
   "metadata": {},
   "outputs": [
    {
     "data": {
      "text/html": [
       "<div>\n",
       "<style scoped>\n",
       "    .dataframe tbody tr th:only-of-type {\n",
       "        vertical-align: middle;\n",
       "    }\n",
       "\n",
       "    .dataframe tbody tr th {\n",
       "        vertical-align: top;\n",
       "    }\n",
       "\n",
       "    .dataframe thead th {\n",
       "        text-align: right;\n",
       "    }\n",
       "</style>\n",
       "<table border=\"1\" class=\"dataframe\">\n",
       "  <thead>\n",
       "    <tr style=\"text-align: right;\">\n",
       "      <th></th>\n",
       "      <th>budget.1</th>\n",
       "      <th>runtime</th>\n",
       "    </tr>\n",
       "  </thead>\n",
       "  <tbody>\n",
       "    <tr>\n",
       "      <th>0</th>\n",
       "      <td>68.8 тыс.</td>\n",
       "      <td>98</td>\n",
       "    </tr>\n",
       "    <tr>\n",
       "      <th>1</th>\n",
       "      <td>$245 000 000</td>\n",
       "      <td>148</td>\n",
       "    </tr>\n",
       "    <tr>\n",
       "      <th>2</th>\n",
       "      <td>$6 258</td>\n",
       "      <td>108</td>\n",
       "    </tr>\n",
       "    <tr>\n",
       "      <th>3</th>\n",
       "      <td>$37 500 000</td>\n",
       "      <td>126</td>\n",
       "    </tr>\n",
       "    <tr>\n",
       "      <th>4</th>\n",
       "      <td>$14 093 397</td>\n",
       "      <td>111</td>\n",
       "    </tr>\n",
       "    <tr>\n",
       "      <th>...</th>\n",
       "      <td>...</td>\n",
       "      <td>...</td>\n",
       "    </tr>\n",
       "    <tr>\n",
       "      <th>1693</th>\n",
       "      <td>NaN</td>\n",
       "      <td>100</td>\n",
       "    </tr>\n",
       "    <tr>\n",
       "      <th>1694</th>\n",
       "      <td>$144 661\\n</td>\n",
       "      <td>91</td>\n",
       "    </tr>\n",
       "    <tr>\n",
       "      <th>1695</th>\n",
       "      <td>$15 100 000</td>\n",
       "      <td>106</td>\n",
       "    </tr>\n",
       "    <tr>\n",
       "      <th>1696</th>\n",
       "      <td>$1 700 000</td>\n",
       "      <td>102</td>\n",
       "    </tr>\n",
       "    <tr>\n",
       "      <th>1697</th>\n",
       "      <td>$323 754</td>\n",
       "      <td>98</td>\n",
       "    </tr>\n",
       "  </tbody>\n",
       "</table>\n",
       "<p>1698 rows × 2 columns</p>\n",
       "</div>"
      ],
      "text/plain": [
       "          budget.1 runtime\n",
       "0        68.8 тыс.      98\n",
       "1     $245 000 000     148\n",
       "2           $6 258     108\n",
       "3      $37 500 000     126\n",
       "4      $14 093 397     111\n",
       "...            ...     ...\n",
       "1693           NaN     100\n",
       "1694    $144 661\\n      91\n",
       "1695   $15 100 000     106\n",
       "1696    $1 700 000     102\n",
       "1697      $323 754      98\n",
       "\n",
       "[1698 rows x 2 columns]"
      ]
     },
     "execution_count": 24,
     "metadata": {},
     "output_type": "execute_result"
    }
   ],
   "source": [
    "numeric_data"
   ]
  },
  {
   "cell_type": "code",
   "execution_count": 25,
   "metadata": {},
   "outputs": [
    {
     "data": {
      "text/html": [
       "<div>\n",
       "<style scoped>\n",
       "    .dataframe tbody tr th:only-of-type {\n",
       "        vertical-align: middle;\n",
       "    }\n",
       "\n",
       "    .dataframe tbody tr th {\n",
       "        vertical-align: top;\n",
       "    }\n",
       "\n",
       "    .dataframe thead th {\n",
       "        text-align: right;\n",
       "    }\n",
       "</style>\n",
       "<table border=\"1\" class=\"dataframe\">\n",
       "  <thead>\n",
       "    <tr style=\"text-align: right;\">\n",
       "      <th></th>\n",
       "      <th>actors</th>\n",
       "      <th>directors</th>\n",
       "      <th>screenwriters</th>\n",
       "      <th>producers</th>\n",
       "      <th>operators</th>\n",
       "      <th>composers</th>\n",
       "      <th>art_direction_by</th>\n",
       "      <th>editing_by</th>\n",
       "      <th>genres</th>\n",
       "      <th>type_uais</th>\n",
       "      <th>age_restriction</th>\n",
       "      <th>countries</th>\n",
       "    </tr>\n",
       "  </thead>\n",
       "  <tbody>\n",
       "    <tr>\n",
       "      <th>0</th>\n",
       "      <td>Никита Киоссе, Владислав Рамм, Артём Пиндюра, ...</td>\n",
       "      <td>Антон Калинкин</td>\n",
       "      <td>Антон Калинкин, Юрий Эпштейн, Артем Голиков</td>\n",
       "      <td>Антон Калинкин, Владимир Пономаренко, Сергей Н...</td>\n",
       "      <td>Святослав Булаковский</td>\n",
       "      <td>Константин Меладзе</td>\n",
       "      <td>Константин Пахотин, Виктория Ефимова-Шестаковская</td>\n",
       "      <td>NaN</td>\n",
       "      <td>драма, музыка, комедия</td>\n",
       "      <td>Кино</td>\n",
       "      <td>«12+» для детей старше 12 лет</td>\n",
       "      <td>Россия</td>\n",
       "    </tr>\n",
       "    <tr>\n",
       "      <th>1</th>\n",
       "      <td>Дэниэл Крэйг, Кристоф Вальц, Леа Сейду, Рэйф Ф...</td>\n",
       "      <td>Сэм Мендес</td>\n",
       "      <td>Джон Логан, Нил Пёрвис, Роберт Уэйд</td>\n",
       "      <td>Закария Алауи, Барбара Брокколи, Дэниэл Крэйг</td>\n",
       "      <td>Хойте Ван Хойтема</td>\n",
       "      <td>Томас Ньюман</td>\n",
       "      <td>Деннис Гасснер, Эндрю Беннетт, Нил Кэллоу</td>\n",
       "      <td>Ли Смит</td>\n",
       "      <td>боевик, триллер, приключения</td>\n",
       "      <td>Кино</td>\n",
       "      <td>«16+» для детей старше 16 лет</td>\n",
       "      <td>Великобритания, США</td>\n",
       "    </tr>\n",
       "    <tr>\n",
       "      <th>2</th>\n",
       "      <td>Оскар Мартинес, Родриго Де ла Серна, Алехандра...</td>\n",
       "      <td>Маркос Карневале</td>\n",
       "      <td>Маркос Карневале, Оливье Накаш, Эрик Толедано</td>\n",
       "      <td>Карлос Ментасти, Луис А. Скалелья, Аксель Куше...</td>\n",
       "      <td>Горацио Майра</td>\n",
       "      <td>NaN</td>\n",
       "      <td>Грасиэла Фрагулья, Pablo Battaglia, Daiana Gon...</td>\n",
       "      <td>Луис Баррош</td>\n",
       "      <td>драма, комедия</td>\n",
       "      <td>NaN</td>\n",
       "      <td>«16+» - для детей старше 16 лет</td>\n",
       "      <td>Аргентина</td>\n",
       "    </tr>\n",
       "    <tr>\n",
       "      <th>3</th>\n",
       "      <td>Брайан Крэнстон, Кевин Харт, Николь Кидман, Эй...</td>\n",
       "      <td>Нил Бёргер</td>\n",
       "      <td>Джон Хартмир, Эрик Толедано, Оливье Накаш</td>\n",
       "      <td>Тодд Блэк, Дэвид Дж. Блумфилд, Джейсон Блюменталь</td>\n",
       "      <td>Стюарт Драйбёрг</td>\n",
       "      <td>Роб Симонсен</td>\n",
       "      <td>Марк Фридберг, Том Фролинг, Ким Дженнингс</td>\n",
       "      <td>Наоми Джерати</td>\n",
       "      <td>драма, комедия</td>\n",
       "      <td>NaN</td>\n",
       "      <td>NaN</td>\n",
       "      <td>США</td>\n",
       "    </tr>\n",
       "    <tr>\n",
       "      <th>4</th>\n",
       "      <td>Флориан Давид Фиц, Маттиас Швайгхёфер, Мириам ...</td>\n",
       "      <td>Флориан Давид Фиц</td>\n",
       "      <td>Флориан Давид Фиц</td>\n",
       "      <td>Дан Мааг, Дэниэль Зоннабенд, Антье Банкманн</td>\n",
       "      <td>Бернхард Яспер</td>\n",
       "      <td>Джозеф Бах, Арни Шуманн</td>\n",
       "      <td>Кристиан Эйзель, Метин Мисдик, Александра Пиль...</td>\n",
       "      <td>Денис Бахтер, Ана де Миер и Ортуньо</td>\n",
       "      <td>комедия</td>\n",
       "      <td>NaN</td>\n",
       "      <td>NaN</td>\n",
       "      <td>Германия</td>\n",
       "    </tr>\n",
       "    <tr>\n",
       "      <th>...</th>\n",
       "      <td>...</td>\n",
       "      <td>...</td>\n",
       "      <td>...</td>\n",
       "      <td>...</td>\n",
       "      <td>...</td>\n",
       "      <td>...</td>\n",
       "      <td>...</td>\n",
       "      <td>...</td>\n",
       "      <td>...</td>\n",
       "      <td>...</td>\n",
       "      <td>...</td>\n",
       "      <td>...</td>\n",
       "    </tr>\n",
       "    <tr>\n",
       "      <th>1693</th>\n",
       "      <td>Филипп Рейнхардт, Анна Чурина, Кристина Бабушк...</td>\n",
       "      <td>Руслан Паушу</td>\n",
       "      <td>Руслан Паушу, Алексей А. Петрухин</td>\n",
       "      <td>Алексей А. Петрухин, Вячеслав Чернявский</td>\n",
       "      <td>Илья Бойко</td>\n",
       "      <td>NaN</td>\n",
       "      <td>Анна Чернова</td>\n",
       "      <td>NaN</td>\n",
       "      <td>комедия, драма</td>\n",
       "      <td>NaN</td>\n",
       "      <td>NaN</td>\n",
       "      <td>Россия</td>\n",
       "    </tr>\n",
       "    <tr>\n",
       "      <th>1694</th>\n",
       "      <td>Сара Батлер, Дженнифер Лэндон, Даг МакКиэн, Гэ...</td>\n",
       "      <td>Р.Д. Браунштейн</td>\n",
       "      <td>Дэниэл Гилбой</td>\n",
       "      <td>Пол Хертцберг, Адам Дрисколл, Нил Элман</td>\n",
       "      <td>Ричард Дж. Виалет</td>\n",
       "      <td>Эдвин Вендлер</td>\n",
       "      <td>Глэдис Родригез, Наоко Инада, Аннинка Велье</td>\n",
       "      <td>Ана Флорит</td>\n",
       "      <td>триллер, ужасы, криминал</td>\n",
       "      <td>художественный</td>\n",
       "      <td>«18+» запрещено для детей</td>\n",
       "      <td>США</td>\n",
       "    </tr>\n",
       "    <tr>\n",
       "      <th>1695</th>\n",
       "      <td>Мэдисон Вульф, Зои Салдана, Имоджен Путс, Сидн...</td>\n",
       "      <td>Андерс Вальтер Хансен</td>\n",
       "      <td>Джо Келли, Х. М. Кэн Ниимура</td>\n",
       "      <td>Джо Келли, Анна Барнатан, Майкл Барнатан</td>\n",
       "      <td>Расмус Дж. Хейз</td>\n",
       "      <td>Лорен Перез</td>\n",
       "      <td>Сьюзи Каллен, Жиль Балабо, Тамара Конбой</td>\n",
       "      <td>Ларс Уиссинг</td>\n",
       "      <td>фэнтези, триллер, драма</td>\n",
       "      <td>художественный</td>\n",
       "      <td>«12+» для детей старше 12 лет</td>\n",
       "      <td>Бельгия, Великобритания, США, Китай</td>\n",
       "    </tr>\n",
       "    <tr>\n",
       "      <th>1696</th>\n",
       "      <td>Александра Бортич, Ирина Горбачева, Сергей Шну...</td>\n",
       "      <td>Алексей Нужный</td>\n",
       "      <td>Николай Куликов, Алексей Нужный, Константин Майер</td>\n",
       "      <td>Сергей Корнихин, Николай Куликов, Алексей Нужный</td>\n",
       "      <td>Кирилл Клепалов</td>\n",
       "      <td>Дмитрий Ланской, Дмитрий Емельянов</td>\n",
       "      <td>Маргарита Аблаева</td>\n",
       "      <td>Авет Оганесян</td>\n",
       "      <td>комедия</td>\n",
       "      <td>художественный</td>\n",
       "      <td>«16+» для детей старше 16 лет</td>\n",
       "      <td>Россия</td>\n",
       "    </tr>\n",
       "    <tr>\n",
       "      <th>1697</th>\n",
       "      <td>Джон Траволта, Морган Фриман, Элла Блю Траволт...</td>\n",
       "      <td>Франческо Синкуемани, Джордж Галло</td>\n",
       "      <td>Франческо Синкуемани, Лука Джилиберто, Ричард ...</td>\n",
       "      <td>Джефф Эллиотт, Оскар Генерале, Андреа Иерволино</td>\n",
       "      <td>Терри Стэйси</td>\n",
       "      <td>Альдо Шлаку, Маркус Сьовалл</td>\n",
       "      <td>Джо Леммон, Франк Мюллер, Камилль Жумель</td>\n",
       "      <td>Айван Готье</td>\n",
       "      <td>триллер, детектив</td>\n",
       "      <td>NaN</td>\n",
       "      <td>NaN</td>\n",
       "      <td>Италия</td>\n",
       "    </tr>\n",
       "  </tbody>\n",
       "</table>\n",
       "<p>1698 rows × 12 columns</p>\n",
       "</div>"
      ],
      "text/plain": [
       "                                                 actors  \\\n",
       "0     Никита Киоссе, Владислав Рамм, Артём Пиндюра, ...   \n",
       "1     Дэниэл Крэйг, Кристоф Вальц, Леа Сейду, Рэйф Ф...   \n",
       "2     Оскар Мартинес, Родриго Де ла Серна, Алехандра...   \n",
       "3     Брайан Крэнстон, Кевин Харт, Николь Кидман, Эй...   \n",
       "4     Флориан Давид Фиц, Маттиас Швайгхёфер, Мириам ...   \n",
       "...                                                 ...   \n",
       "1693  Филипп Рейнхардт, Анна Чурина, Кристина Бабушк...   \n",
       "1694  Сара Батлер, Дженнифер Лэндон, Даг МакКиэн, Гэ...   \n",
       "1695  Мэдисон Вульф, Зои Салдана, Имоджен Путс, Сидн...   \n",
       "1696  Александра Бортич, Ирина Горбачева, Сергей Шну...   \n",
       "1697  Джон Траволта, Морган Фриман, Элла Блю Траволт...   \n",
       "\n",
       "                               directors  \\\n",
       "0                         Антон Калинкин   \n",
       "1                             Сэм Мендес   \n",
       "2                       Маркос Карневале   \n",
       "3                             Нил Бёргер   \n",
       "4                      Флориан Давид Фиц   \n",
       "...                                  ...   \n",
       "1693                        Руслан Паушу   \n",
       "1694                     Р.Д. Браунштейн   \n",
       "1695               Андерс Вальтер Хансен   \n",
       "1696                      Алексей Нужный   \n",
       "1697  Франческо Синкуемани, Джордж Галло   \n",
       "\n",
       "                                          screenwriters  \\\n",
       "0           Антон Калинкин, Юрий Эпштейн, Артем Голиков   \n",
       "1                   Джон Логан, Нил Пёрвис, Роберт Уэйд   \n",
       "2         Маркос Карневале, Оливье Накаш, Эрик Толедано   \n",
       "3             Джон Хартмир, Эрик Толедано, Оливье Накаш   \n",
       "4                                     Флориан Давид Фиц   \n",
       "...                                                 ...   \n",
       "1693                  Руслан Паушу, Алексей А. Петрухин   \n",
       "1694                                      Дэниэл Гилбой   \n",
       "1695                       Джо Келли, Х. М. Кэн Ниимура   \n",
       "1696  Николай Куликов, Алексей Нужный, Константин Майер   \n",
       "1697  Франческо Синкуемани, Лука Джилиберто, Ричард ...   \n",
       "\n",
       "                                              producers  \\\n",
       "0     Антон Калинкин, Владимир Пономаренко, Сергей Н...   \n",
       "1         Закария Алауи, Барбара Брокколи, Дэниэл Крэйг   \n",
       "2     Карлос Ментасти, Луис А. Скалелья, Аксель Куше...   \n",
       "3     Тодд Блэк, Дэвид Дж. Блумфилд, Джейсон Блюменталь   \n",
       "4           Дан Мааг, Дэниэль Зоннабенд, Антье Банкманн   \n",
       "...                                                 ...   \n",
       "1693           Алексей А. Петрухин, Вячеслав Чернявский   \n",
       "1694            Пол Хертцберг, Адам Дрисколл, Нил Элман   \n",
       "1695           Джо Келли, Анна Барнатан, Майкл Барнатан   \n",
       "1696   Сергей Корнихин, Николай Куликов, Алексей Нужный   \n",
       "1697    Джефф Эллиотт, Оскар Генерале, Андреа Иерволино   \n",
       "\n",
       "                  operators                           composers  \\\n",
       "0     Святослав Булаковский                  Константин Меладзе   \n",
       "1         Хойте Ван Хойтема                        Томас Ньюман   \n",
       "2             Горацио Майра                                 NaN   \n",
       "3           Стюарт Драйбёрг                        Роб Симонсен   \n",
       "4            Бернхард Яспер             Джозеф Бах, Арни Шуманн   \n",
       "...                     ...                                 ...   \n",
       "1693             Илья Бойко                                 NaN   \n",
       "1694      Ричард Дж. Виалет                       Эдвин Вендлер   \n",
       "1695        Расмус Дж. Хейз                         Лорен Перез   \n",
       "1696        Кирилл Клепалов  Дмитрий Ланской, Дмитрий Емельянов   \n",
       "1697           Терри Стэйси         Альдо Шлаку, Маркус Сьовалл   \n",
       "\n",
       "                                       art_direction_by  \\\n",
       "0     Константин Пахотин, Виктория Ефимова-Шестаковская   \n",
       "1             Деннис Гасснер, Эндрю Беннетт, Нил Кэллоу   \n",
       "2     Грасиэла Фрагулья, Pablo Battaglia, Daiana Gon...   \n",
       "3             Марк Фридберг, Том Фролинг, Ким Дженнингс   \n",
       "4     Кристиан Эйзель, Метин Мисдик, Александра Пиль...   \n",
       "...                                                 ...   \n",
       "1693                                       Анна Чернова   \n",
       "1694        Глэдис Родригез, Наоко Инада, Аннинка Велье   \n",
       "1695           Сьюзи Каллен, Жиль Балабо, Тамара Конбой   \n",
       "1696                                  Маргарита Аблаева   \n",
       "1697           Джо Леммон, Франк Мюллер, Камилль Жумель   \n",
       "\n",
       "                               editing_by                        genres  \\\n",
       "0                                     NaN        драма, музыка, комедия   \n",
       "1                                 Ли Смит  боевик, триллер, приключения   \n",
       "2                             Луис Баррош                драма, комедия   \n",
       "3                           Наоми Джерати                драма, комедия   \n",
       "4     Денис Бахтер, Ана де Миер и Ортуньо                       комедия   \n",
       "...                                   ...                           ...   \n",
       "1693                                  NaN                комедия, драма   \n",
       "1694                           Ана Флорит      триллер, ужасы, криминал   \n",
       "1695                         Ларс Уиссинг       фэнтези, триллер, драма   \n",
       "1696                        Авет Оганесян                       комедия   \n",
       "1697                          Айван Готье             триллер, детектив   \n",
       "\n",
       "           type_uais                  age_restriction  \\\n",
       "0               Кино    «12+» для детей старше 12 лет   \n",
       "1               Кино    «16+» для детей старше 16 лет   \n",
       "2                NaN  «16+» - для детей старше 16 лет   \n",
       "3                NaN                              NaN   \n",
       "4                NaN                              NaN   \n",
       "...              ...                              ...   \n",
       "1693             NaN                              NaN   \n",
       "1694  художественный        «18+» запрещено для детей   \n",
       "1695  художественный    «12+» для детей старше 12 лет   \n",
       "1696  художественный    «16+» для детей старше 16 лет   \n",
       "1697             NaN                              NaN   \n",
       "\n",
       "                                countries  \n",
       "0                                  Россия  \n",
       "1                     Великобритания, США  \n",
       "2                               Аргентина  \n",
       "3                                     США  \n",
       "4                                Германия  \n",
       "...                                   ...  \n",
       "1693                               Россия  \n",
       "1694                                  США  \n",
       "1695  Бельгия, Великобритания, США, Китай  \n",
       "1696                               Россия  \n",
       "1697                               Италия  \n",
       "\n",
       "[1698 rows x 12 columns]"
      ]
     },
     "execution_count": 25,
     "metadata": {},
     "output_type": "execute_result"
    }
   ],
   "source": [
    "categorical_data"
   ]
  },
  {
   "cell_type": "markdown",
   "metadata": {},
   "source": [
    "# Preprocessing"
   ]
  },
  {
   "cell_type": "code",
   "execution_count": 26,
   "metadata": {},
   "outputs": [],
   "source": [
    "from sklearn.preprocessing import MultiLabelBinarizer, LabelBinarizer"
   ]
  },
  {
   "cell_type": "markdown",
   "metadata": {},
   "source": [
    "## Categorical features"
   ]
  },
  {
   "cell_type": "code",
   "execution_count": 27,
   "metadata": {},
   "outputs": [],
   "source": [
    "from googletrans import Translator\n",
    "translator = Translator()\n",
    "\n",
    "trash = set({'1150000', 'Симон Гстоттмайр'})\n",
    "\n",
    "def extract_genres(data):\n",
    "    binarizer = MultiLabelBinarizer()\n",
    "    res = binarizer.fit_transform(list(map(\n",
    "        lambda r: set(map(str.strip, r.split(\",\"))) - trash if not pd.isnull(r) else [],\n",
    "        data.genres\n",
    "    )))\n",
    "    names = list(map(lambda x: \"genre_\" + translator.translate(x, src=\"ru\", dest=\"en\").text.lower(), binarizer.classes_))\n",
    "    return pd.DataFrame(res, columns=names)\n",
    "\n",
    "\n",
    "def extract_country(data):\n",
    "    binarizer = MultiLabelBinarizer()\n",
    "    res = binarizer.fit_transform(list(map(\n",
    "        lambda r: set(map(str.strip, r.split(\",\"))) - trash if not pd.isnull(r) else [],\n",
    "        data.genres\n",
    "    )))\n",
    "    names = list(map(lambda x: \"country_\" + translator.translate(x, src=\"ru\", dest=\"en\").text.lower(), binarizer.classes_))\n",
    "    return pd.DataFrame(res, columns=names)\n",
    "\n",
    "def extract_type(data):\n",
    "    lb = LabelBinarizer()\n",
    "    res = lb.fit_transform(list(map(lambda x: x if not pd.isnull(x) else \"None\", data.type_uais)))\n",
    "    names = list(map(lambda x: \"type_\" + translator.translate(x, src=\"ru\", dest=\"en\").text.lower(), lb.classes_))\n",
    "    return pd.DataFrame(res, columns=names).drop(\"type_none\", axis=1)\n",
    "\n",
    "def extract_age(data):\n",
    "    lb = LabelBinarizer()\n",
    "    res = list(map(\n",
    "        lambda x: \"6\" if x == \"66\" else x,\n",
    "        map(\n",
    "            lambda x: \"\".join(filter(str.isdigit, x))[:2] if not pd.isnull(x) else \"none\", \n",
    "            data.age_restriction\n",
    "        )\n",
    "    ))\n",
    "    res = lb.fit_transform(res)\n",
    "    names = list(map(lambda x: \"age_\" + x, lb.classes_))\n",
    "    res = pd.DataFrame(res, columns=names)\n",
    "    res.age_0 += res.age_\n",
    "    return res.drop([\"age_none\", \"age_\"], axis=1)"
   ]
  },
  {
   "cell_type": "markdown",
   "metadata": {},
   "source": [
    "## Numerical features"
   ]
  },
  {
   "cell_type": "code",
   "execution_count": 145,
   "metadata": {},
   "outputs": [],
   "source": [
    "from price_parser import Price\n",
    "from currency_converter import CurrencyConverter\n",
    "c = CurrencyConverter()\n",
    "\n",
    "currecies = {\n",
    "    '$':    'USD',\n",
    "    'CAD':  'CAD',\n",
    "    'CNY':  'CNY',\n",
    "    '£':    'GBP',\n",
    "    '¥':    'JPY',\n",
    "    'р':    'RUB',\n",
    "    'руб.':  'RUB',\n",
    "    '€':    'EUR',\n",
    "    'RUB': 'RUB',\n",
    "    'HUF': 'HUF',\n",
    "    'SEK': 'SEK',\n",
    "    'NOK': 'NOK',\n",
    "    'AUD': 'AUD',\n",
    "    'BRL': 'BRL'\n",
    "}\n",
    "\n",
    "def parse_budget(s):\n",
    "    if pd.isnull(s):\n",
    "        return np.nan\n",
    "    \n",
    "    p = Price.fromstring(s)\n",
    "    if p.currency == 'USD':\n",
    "        return np.rount(p.amount)\n",
    "    if p.currency is not None and p.amount is not None:\n",
    "        p.currency = currecies[p.currency]\n",
    "        return np.round(c.convert(p.amount, p.currency, \"USD\"))\n",
    "    else: \n",
    "        return np.nan\n",
    "\n",
    "def transform_numeric_features(data, fillna=False):\n",
    "    data[\"budget\"] = list(map(lambda b: parse_budget(b), data[\"budget.1\"]))\n",
    "    data[\"runtime\"] = list(map(lambda x: int(float(x)) if (not pd.isnull(x) and not len(list(filter(str.isdigit, str(x)))) == 0) else np.nan, data.runtime))\n",
    "    data = data.drop(\"budget.1\", axis=1)\n",
    "    if fillna:\n",
    "        data[\"budget\"] = data[\"budget\"].fillna(data[\"budget\"].mean())\n",
    "        data[\"runtime\"] = data[\"runtime\"].fillna(data[\"runtime\"].mean())\n",
    "        \n",
    "    return data\n",
    "    \n",
    "    \n"
   ]
  },
  {
   "cell_type": "code",
   "execution_count": 147,
   "metadata": {},
   "outputs": [],
   "source": [
    "def transform_time_features(data):\n",
    "    return pd.Series(minmax_scale(pd.to_datetime(data).apply(lambda x: x.timestamp() if not pd.isnull(x) else np.nan)))"
   ]
  },
  {
   "cell_type": "code",
   "execution_count": 58,
   "metadata": {},
   "outputs": [],
   "source": [
    "def parse_time_data(data):\n",
    "    return pd.DataFrame({\n",
    "        \"release\": list(\n",
    "            map(\n",
    "                lambda x: datetime.datetime.strptime(x, \"%d %B %Y\").timestamp() if not pd.isnull(x) else np.nan,\n",
    "                data\n",
    "            )\n",
    "        )\n",
    "    })"
   ]
  },
  {
   "cell_type": "code",
   "execution_count": 59,
   "metadata": {},
   "outputs": [],
   "source": [
    "def extract_numerical_data_from_categorical(data):\n",
    "    result_dict = dict()\n",
    "    for feature in [\"actors\", \"directors\", \"screenwriters\", \"producers\", \"operators\", \n",
    "                    \"composers\", \"art_direction_by\", \"editing_by\"]:\n",
    "        result_dict[\"num_\" + feature] = list(map(lambda x: len(x.split(\",\")) if not pd.isnull(x) else 0, data[feature]))\n",
    "    \n",
    "    return pd.DataFrame(result_dict)"
   ]
  },
  {
   "cell_type": "code",
   "execution_count": 150,
   "metadata": {},
   "outputs": [
    {
     "name": "stderr",
     "output_type": "stream",
     "text": [
      "/Users/nikitakrutoy/.pyenv/versions/3.6.6/lib/python3.6/site-packages/ipykernel_launcher.py:36: SettingWithCopyWarning: \n",
      "A value is trying to be set on a copy of a slice from a DataFrame.\n",
      "Try using .loc[row_indexer,col_indexer] = value instead\n",
      "\n",
      "See the caveats in the documentation: https://pandas.pydata.org/pandas-docs/stable/user_guide/indexing.html#returning-a-view-versus-a-copy\n",
      "/Users/nikitakrutoy/.pyenv/versions/3.6.6/lib/python3.6/site-packages/ipykernel_launcher.py:37: SettingWithCopyWarning: \n",
      "A value is trying to be set on a copy of a slice from a DataFrame.\n",
      "Try using .loc[row_indexer,col_indexer] = value instead\n",
      "\n",
      "See the caveats in the documentation: https://pandas.pydata.org/pandas-docs/stable/user_guide/indexing.html#returning-a-view-versus-a-copy\n"
     ]
    }
   ],
   "source": [
    "X = pd.concat([\n",
    "    transform_numeric_features(numeric_data, fillna=True),\n",
    "    transform_time_features(time_data),\n",
    "    extract_numerical_data_from_categorical(categorical_data),\n",
    "    extract_genres(categorical_data),\n",
    "    extract_country(categorical_data),\n",
    "    extract_type(categorical_data),\n",
    "    extract_age(categorical_data)\n",
    "], axis=1)"
   ]
  },
  {
   "cell_type": "markdown",
   "metadata": {},
   "source": [
    "## Cleaning"
   ]
  },
  {
   "cell_type": "code",
   "execution_count": 151,
   "metadata": {},
   "outputs": [],
   "source": [
    "mask = ~np.logical_or(\n",
    "    X.isnull().any(axis=1).values,\n",
    "    data[\"profit_russia\"].isnull().values,\n",
    ")"
   ]
  },
  {
   "cell_type": "code",
   "execution_count": 152,
   "metadata": {},
   "outputs": [],
   "source": [
    "X = X[mask]"
   ]
  },
  {
   "cell_type": "code",
   "execution_count": 153,
   "metadata": {},
   "outputs": [],
   "source": [
    "y = np.array(list(map(float, data[\"profit_russia\"][mask].values)))"
   ]
  },
  {
   "cell_type": "code",
   "execution_count": 154,
   "metadata": {},
   "outputs": [],
   "source": [
    "X = X[y > 100]\n",
    "y = y[y > 100]"
   ]
  },
  {
   "cell_type": "code",
   "execution_count": 155,
   "metadata": {},
   "outputs": [],
   "source": [
    "X_ = X.copy()"
   ]
  },
  {
   "cell_type": "code",
   "execution_count": 156,
   "metadata": {},
   "outputs": [],
   "source": [
    "X_[\"title_uais\"] = data[\"title_uais\"]"
   ]
  },
  {
   "cell_type": "code",
   "execution_count": 157,
   "metadata": {},
   "outputs": [],
   "source": [
    "X_.to_csv(\"data/MoviesKinopoiskPreprocessed_since2015.csv\", index=False)"
   ]
  },
  {
   "cell_type": "markdown",
   "metadata": {},
   "source": [
    "# Trends"
   ]
  },
  {
   "cell_type": "markdown",
   "metadata": {},
   "source": [
    "Google"
   ]
  },
  {
   "cell_type": "code",
   "execution_count": 42,
   "metadata": {},
   "outputs": [],
   "source": [
    "X_w_trends = pd.merge(X_, data_google, on=\"title_uais\")"
   ]
  },
  {
   "cell_type": "code",
   "execution_count": 144,
   "metadata": {},
   "outputs": [],
   "source": [
    "X_w_trends.to_csv(\"data/MoviesKinopoiskPreprocessedWithTrends.csv\", index=False)"
   ]
  },
  {
   "cell_type": "markdown",
   "metadata": {},
   "source": [
    "Wordstat"
   ]
  },
  {
   "cell_type": "code",
   "execution_count": 195,
   "metadata": {},
   "outputs": [],
   "source": [
    "mask = [x in data_wordstat.title_uais.values for x in X_.title_uais]\n",
    "wordstat_films = X_.title_uais[mask].values"
   ]
  },
  {
   "cell_type": "code",
   "execution_count": 202,
   "metadata": {},
   "outputs": [],
   "source": [
    "X_w_trends_wordstat = pd.merge(X_, data_wordstat, on=\"title_uais\").set_index(\"title_uais\").loc[wordstat_films].reset_index()"
   ]
  },
  {
   "cell_type": "code",
   "execution_count": 203,
   "metadata": {},
   "outputs": [],
   "source": [
    "y_wordstat = y[mask]"
   ]
  },
  {
   "cell_type": "markdown",
   "metadata": {},
   "source": [
    "# Modeling"
   ]
  },
  {
   "cell_type": "code",
   "execution_count": 165,
   "metadata": {},
   "outputs": [],
   "source": [
    "from sklearn.preprocessing import FunctionTransformer"
   ]
  },
  {
   "cell_type": "code",
   "execution_count": 166,
   "metadata": {},
   "outputs": [],
   "source": [
    "from lightgbm.sklearn import LGBMRegressor, LGBMClassifier"
   ]
  },
  {
   "cell_type": "code",
   "execution_count": 167,
   "metadata": {},
   "outputs": [],
   "source": [
    "from sklearn.model_selection import cross_val_score, KFold, cross_validate"
   ]
  },
  {
   "cell_type": "code",
   "execution_count": 168,
   "metadata": {},
   "outputs": [],
   "source": [
    "from sklearn.metrics import mean_absolute_error, r2_score, make_scorer, precision_score"
   ]
  },
  {
   "cell_type": "code",
   "execution_count": 169,
   "metadata": {},
   "outputs": [
    {
     "data": {
      "text/plain": [
       "False"
      ]
     },
     "execution_count": 169,
     "metadata": {},
     "output_type": "execute_result"
    }
   ],
   "source": [
    "pd.isnull(y).any()"
   ]
  },
  {
   "cell_type": "code",
   "execution_count": 170,
   "metadata": {},
   "outputs": [],
   "source": [
    "np.random.seed(seed=42)"
   ]
  },
  {
   "cell_type": "code",
   "execution_count": 171,
   "metadata": {},
   "outputs": [],
   "source": [
    "from tqdm.auto import tqdm"
   ]
  },
  {
   "cell_type": "code",
   "execution_count": 172,
   "metadata": {},
   "outputs": [],
   "source": [
    "import matplotlib.pyplot as plt\n",
    "%matplotlib inline"
   ]
  },
  {
   "cell_type": "code",
   "execution_count": 173,
   "metadata": {},
   "outputs": [],
   "source": [
    "def score(X, y, label):\n",
    "    scores = np.array([\n",
    "        cross_val_score(\n",
    "            LGBMRegressor(), \n",
    "            X, y, \n",
    "            cv=KFold(n_splits=5, shuffle=True), \n",
    "            scoring=make_scorer(r2_score)\n",
    "        ).mean()\n",
    "        for _ in tqdm(range(100))\n",
    "    ])\n",
    "    plt.hist(scores, label=label, alpha=0.5)\n",
    "    plt.axvline(scores.mean(), color='k', linestyle='dashed', linewidth=1, label=f\"Mean {label}\")\n",
    "    plt.ylabel(\"R2 score\")\n",
    "    plt.legend()\n",
    "    print(scores.mean())"
   ]
  },
  {
   "cell_type": "code",
   "execution_count": 174,
   "metadata": {},
   "outputs": [],
   "source": [
    "def compare_features(X_1, X_2, y, label1=\"X_1\", label2=\"X_2\"):\n",
    "    score(X_1, y, label1)\n",
    "    score(X_2, y, label2)\n",
    "    print(scores.mean())"
   ]
  },
  {
   "cell_type": "code",
   "execution_count": 158,
   "metadata": {},
   "outputs": [
    {
     "data": {
      "application/vnd.jupyter.widget-view+json": {
       "model_id": "8966497ad6e441b5ab9a523a25510e00",
       "version_major": 2,
       "version_minor": 0
      },
      "text/plain": [
       "HBox(children=(IntProgress(value=0), HTML(value='')))"
      ]
     },
     "metadata": {},
     "output_type": "display_data"
    },
    {
     "name": "stdout",
     "output_type": "stream",
     "text": [
      "\n",
      "0.3802231649231015\n"
     ]
    },
    {
     "data": {
      "image/png": "[encoded data removed]",
      "text/plain": [
       "<Figure size 432x288 with 1 Axes>"
      ]
     },
     "metadata": {
      "needs_background": "light"
     },
     "output_type": "display_data"
    }
   ],
   "source": [
    "score(X, y, label=\"\")"
   ]
  },
  {
   "cell_type": "code",
   "execution_count": 91,
   "metadata": {},
   "outputs": [
    {
     "data": {
      "application/vnd.jupyter.widget-view+json": {
       "model_id": "0b811aef35ad48c7b7c95e6c31bec9ed",
       "version_major": 2,
       "version_minor": 0
      },
      "text/plain": [
       "HBox(children=(IntProgress(value=0), HTML(value='')))"
      ]
     },
     "metadata": {},
     "output_type": "display_data"
    },
    {
     "name": "stdout",
     "output_type": "stream",
     "text": [
      "\n",
      "0.3889396176235032\n"
     ]
    },
    {
     "data": {
      "image/png": "[encoded data removed]",
      "text/plain": [
       "<Figure size 432x288 with 1 Axes>"
      ]
     },
     "metadata": {
      "needs_background": "light"
     },
     "output_type": "display_data"
    }
   ],
   "source": [
    "score(X, y, label=\"\")"
   ]
  },
  {
   "cell_type": "code",
   "execution_count": 93,
   "metadata": {},
   "outputs": [
    {
     "data": {
      "application/vnd.jupyter.widget-view+json": {
       "model_id": "748a19de42f84d3983c4d25c461feac4",
       "version_major": 2,
       "version_minor": 0
      },
      "text/plain": [
       "HBox(children=(IntProgress(value=0), HTML(value='')))"
      ]
     },
     "metadata": {},
     "output_type": "display_data"
    },
    {
     "name": "stdout",
     "output_type": "stream",
     "text": [
      "\n",
      "0.5215607896234403\n"
     ]
    },
    {
     "data": {
      "image/png": "[encoded data removed]",
      "text/plain": [
       "<Figure size 432x288 with 1 Axes>"
      ]
     },
     "metadata": {
      "needs_background": "light"
     },
     "output_type": "display_data"
    }
   ],
   "source": [
    "score(X, np.log(y), label=\"\")"
   ]
  },
  {
   "cell_type": "markdown",
   "metadata": {},
   "source": [
    "## Trends"
   ]
  },
  {
   "cell_type": "code",
   "execution_count": 206,
   "metadata": {},
   "outputs": [
    {
     "data": {
      "application/vnd.jupyter.widget-view+json": {
       "model_id": "21590cecb14c4b0cbb20ec9fd91cf252",
       "version_major": 2,
       "version_minor": 0
      },
      "text/plain": [
       "HBox(children=(IntProgress(value=0), HTML(value='')))"
      ]
     },
     "metadata": {},
     "output_type": "display_data"
    },
    {
     "name": "stdout",
     "output_type": "stream",
     "text": [
      "0.7128287445806073\n"
     ]
    },
    {
     "data": {
      "image/png": "[encoded data removed]",
      "text/plain": [
       "<Figure size 432x288 with 1 Axes>"
      ]
     },
     "metadata": {
      "needs_background": "light"
     },
     "output_type": "display_data"
    }
   ],
   "source": [
    "score(X_w_trends_wordstat.drop(\"title_uais\", axis=1), np.log(y_wordstat), \"\")"
   ]
  },
  {
   "cell_type": "code",
   "execution_count": 97,
   "metadata": {},
   "outputs": [
    {
     "data": {
      "application/vnd.jupyter.widget-view+json": {
       "model_id": "1fe6d670fcc44dbea4cab1a3d5a56b1a",
       "version_major": 2,
       "version_minor": 0
      },
      "text/plain": [
       "HBox(children=(IntProgress(value=0), HTML(value='')))"
      ]
     },
     "metadata": {},
     "output_type": "display_data"
    },
    {
     "name": "stdout",
     "output_type": "stream",
     "text": [
      "0.3092821885719858\n"
     ]
    },
    {
     "data": {
      "application/vnd.jupyter.widget-view+json": {
       "model_id": "a534aaaa2b3047d3882726124ef63bd1",
       "version_major": 2,
       "version_minor": 0
      },
      "text/plain": [
       "HBox(children=(IntProgress(value=0), HTML(value='')))"
      ]
     },
     "metadata": {},
     "output_type": "display_data"
    },
    {
     "name": "stdout",
     "output_type": "stream",
     "text": [
      "0.3234925759031716\n"
     ]
    },
    {
     "data": {
      "image/png": "[encoded data removed]",
      "text/plain": [
       "<Figure size 432x288 with 1 Axes>"
      ]
     },
     "metadata": {
      "needs_background": "light"
     },
     "output_type": "display_data"
    }
   ],
   "source": [
    "compare_features(X, X_w_trends.drop(\"title_uais\", axis=1), y=y, label1=\"Without trends\", label2=\"With trends\")"
   ]
  },
  {
   "cell_type": "code",
   "execution_count": 101,
   "metadata": {},
   "outputs": [
    {
     "data": {
      "application/vnd.jupyter.widget-view+json": {
       "model_id": "523f31ee37ce4ae3871e6b68fd52b5e7",
       "version_major": 2,
       "version_minor": 0
      },
      "text/plain": [
       "HBox(children=(IntProgress(value=0), HTML(value='')))"
      ]
     },
     "metadata": {},
     "output_type": "display_data"
    },
    {
     "name": "stdout",
     "output_type": "stream",
     "text": [
      "0.4340857190528336\n"
     ]
    },
    {
     "data": {
      "application/vnd.jupyter.widget-view+json": {
       "model_id": "e129b097572a4a93ae19021e8abc926d",
       "version_major": 2,
       "version_minor": 0
      },
      "text/plain": [
       "HBox(children=(IntProgress(value=0), HTML(value='')))"
      ]
     },
     "metadata": {},
     "output_type": "display_data"
    },
    {
     "name": "stdout",
     "output_type": "stream",
     "text": [
      "0.5016380646079316\n"
     ]
    },
    {
     "data": {
      "image/png": "[encoded data removed]",
      "text/plain": [
       "<Figure size 432x288 with 1 Axes>"
      ]
     },
     "metadata": {
      "needs_background": "light"
     },
     "output_type": "display_data"
    }
   ],
   "source": [
    "compare_features(X, X_w_trends.drop(\"title_uais\", axis=1), y=np.log(y), label1=\"Without trends\", label2=\"With trends\")"
   ]
  },
  {
   "cell_type": "markdown",
   "metadata": {},
   "source": [
    "## Scaling and Poly featrures"
   ]
  },
  {
   "cell_type": "code",
   "execution_count": 90,
   "metadata": {},
   "outputs": [],
   "source": [
    "from sklearn.preprocessing import StandardScaler, PolynomialFeatures"
   ]
  },
  {
   "cell_type": "code",
   "execution_count": null,
   "metadata": {},
   "outputs": [],
   "source": [
    "ss = StandardScaler()\n",
    "compare_features(\n",
    "    X_w_trends.drop(\"title_uais\", axis=1), \n",
    "    ss.fit_transform(X_w_trends.drop(\"title_uais\", axis=1)),\n",
    "    y=np.log(y), \n",
    "    label1=\"Without trends\", label2=\"With trends\"\n",
    ")"
   ]
  },
  {
   "cell_type": "code",
   "execution_count": 102,
   "metadata": {},
   "outputs": [],
   "source": [
    "pf = PolynomialFeatures()"
   ]
  },
  {
   "cell_type": "code",
   "execution_count": 105,
   "metadata": {},
   "outputs": [],
   "source": [
    "pf_features = [\"budget\"] + \\\n",
    "    list(filter(lambda x: \"pr_week\" in x, X_w_trends.columns)) + \\\n",
    "    list(filter(lambda x: \"num\" in x, X_w_trends.columns))"
   ]
  },
  {
   "cell_type": "code",
   "execution_count": 114,
   "metadata": {},
   "outputs": [],
   "source": [
    "X_poly = np.hstack([\n",
    "    X_w_trends.drop(pf_features + [\"title_uais\"], axis=1).values,\n",
    "    pf.fit_transform(X_w_trends[pf_features])[:, 1:]\n",
    "])"
   ]
  },
  {
   "cell_type": "code",
   "execution_count": 117,
   "metadata": {},
   "outputs": [
    {
     "data": {
      "application/vnd.jupyter.widget-view+json": {
       "model_id": "6724b6f436f043cf822ebdcda372bf52",
       "version_major": 2,
       "version_minor": 0
      },
      "text/plain": [
       "HBox(children=(IntProgress(value=0), HTML(value='')))"
      ]
     },
     "metadata": {},
     "output_type": "display_data"
    },
    {
     "name": "stdout",
     "output_type": "stream",
     "text": [
      "0.5048133524114464\n"
     ]
    },
    {
     "data": {
      "application/vnd.jupyter.widget-view+json": {
       "model_id": "e453d69551d14dd0ada65f6945759320",
       "version_major": 2,
       "version_minor": 0
      },
      "text/plain": [
       "HBox(children=(IntProgress(value=0), HTML(value='')))"
      ]
     },
     "metadata": {},
     "output_type": "display_data"
    },
    {
     "name": "stdout",
     "output_type": "stream",
     "text": [
      "0.5162469448710238\n"
     ]
    },
    {
     "data": {
      "image/png": "[encoded data removed]",
      "text/plain": [
       "<Figure size 432x288 with 1 Axes>"
      ]
     },
     "metadata": {
      "needs_background": "light"
     },
     "output_type": "display_data"
    }
   ],
   "source": [
    "compare_features(\n",
    "    X_w_trends.drop(\"title_uais\", axis=1), \n",
    "    X_poly,\n",
    "    y=np.log(y), \n",
    "    label1=\"Without trends\", label2=\"With trends\"\n",
    ")"
   ]
  },
  {
   "cell_type": "markdown",
   "metadata": {},
   "source": [
    "## Classification"
   ]
  },
  {
   "cell_type": "code",
   "execution_count": 94,
   "metadata": {},
   "outputs": [
    {
     "ename": "NameError",
     "evalue": "name 'start' is not defined",
     "output_type": "error",
     "traceback": [
      "\u001b[0;31m---------------------------------------------------------------------------\u001b[0m",
      "\u001b[0;31mNameError\u001b[0m                                 Traceback (most recent call last)",
      "\u001b[0;32m<ipython-input-94-75de4966d26a>\u001b[0m in \u001b[0;36m<module>\u001b[0;34m\u001b[0m\n\u001b[0;32m----> 1\u001b[0;31m \u001b[0;32mfor\u001b[0m \u001b[0mi\u001b[0m\u001b[0;34m,\u001b[0m \u001b[0mj\u001b[0m \u001b[0;32min\u001b[0m \u001b[0mzip\u001b[0m\u001b[0;34m(\u001b[0m\u001b[0mstart\u001b[0m\u001b[0;34m,\u001b[0m \u001b[0mend\u001b[0m\u001b[0;34m)\u001b[0m\u001b[0;34m:\u001b[0m\u001b[0;34m\u001b[0m\u001b[0m\n\u001b[0m\u001b[1;32m      2\u001b[0m     \u001b[0mprint\u001b[0m\u001b[0;34m(\u001b[0m\u001b[0;34mf\"{int(i):,} - {int(j):,}\"\u001b[0m\u001b[0;34m)\u001b[0m\u001b[0;34m\u001b[0m\u001b[0m\n",
      "\u001b[0;31mNameError\u001b[0m: name 'start' is not defined"
     ]
    }
   ],
   "source": [
    "for i, j in zip(start, end):\n",
    "    print(f\"{int(i):,} - {int(j):,}\")"
   ]
  },
  {
   "cell_type": "code",
   "execution_count": 95,
   "metadata": {},
   "outputs": [],
   "source": [
    "def make_classes(x, n=8):\n",
    "    start, end = np.vectorize(lambda x: (x[0], x[-1]))(\n",
    "        np.array_split(np.sort(y), n)\n",
    "    )\n",
    "    \n",
    "    def _make_class(x):\n",
    "        for cls, (i, j) in enumerate(zip(start, end)):\n",
    "            if i <= x <= j:\n",
    "                return cls\n",
    "        return -1 \n",
    "    return np.array(list(map(_make_class, x)))"
   ]
  },
  {
   "cell_type": "markdown",
   "metadata": {},
   "source": [
    "### Macro"
   ]
  },
  {
   "cell_type": "code",
   "execution_count": 100,
   "metadata": {},
   "outputs": [
    {
     "data": {
      "application/vnd.jupyter.widget-view+json": {
       "model_id": "c469e6e0a84f43c0a227b3f50707eb6e",
       "version_major": 2,
       "version_minor": 0
      },
      "text/plain": [
       "HBox(children=(IntProgress(value=0, max=10), HTML(value='')))"
      ]
     },
     "metadata": {},
     "output_type": "display_data"
    },
    {
     "name": "stdout",
     "output_type": "stream",
     "text": [
      "\n"
     ]
    }
   ],
   "source": [
    "scores = np.array([\n",
    "    cross_val_score(\n",
    "        LGBMClassifier(), \n",
    "        X,  make_classes(y, n=5), \n",
    "        cv=KFold(n_splits=5, shuffle=True), \n",
    "        scoring=make_scorer(precision_score, average=\"macro\")\n",
    "    ).mean()\n",
    "    for _ in tqdm(range(10))\n",
    "])"
   ]
  },
  {
   "cell_type": "code",
   "execution_count": 101,
   "metadata": {},
   "outputs": [
    {
     "name": "stdout",
     "output_type": "stream",
     "text": [
      "0.47650211990656927\n"
     ]
    },
    {
     "data": {
      "image/png": "[encoded data removed]",
      "text/plain": [
       "<Figure size 432x288 with 1 Axes>"
      ]
     },
     "metadata": {
      "needs_background": "light"
     },
     "output_type": "display_data"
    }
   ],
   "source": [
    "plt.hist(scores, alpha=0.5)\n",
    "plt.axvline(scores.mean(), color='k', linestyle='dashed', linewidth=1)\n",
    "plt.ylabel(\"Precision Macro\")\n",
    "print(scores.mean())"
   ]
  },
  {
   "cell_type": "code",
   "execution_count": 137,
   "metadata": {
    "collapsed": true,
    "jupyter": {
     "outputs_hidden": true
    }
   },
   "outputs": [
    {
     "data": {
      "application/vnd.jupyter.widget-view+json": {
       "model_id": "4f614d5705d549d89ba668285adcc3e3",
       "version_major": 2,
       "version_minor": 0
      },
      "text/plain": [
       "HBox(children=(IntProgress(value=0, max=10), HTML(value='')))"
      ]
     },
     "metadata": {},
     "output_type": "display_data"
    },
    {
     "ename": "NameError",
     "evalue": "name 'label1' is not defined",
     "output_type": "error",
     "traceback": [
      "\u001b[0;31m---------------------------------------------------------------------------\u001b[0m",
      "\u001b[0;31mNameError\u001b[0m                                 Traceback (most recent call last)",
      "\u001b[0;32m<ipython-input-137-7c31d97cd151>\u001b[0m in \u001b[0;36m<module>\u001b[0;34m\u001b[0m\n\u001b[1;32m      8\u001b[0m     \u001b[0;32mfor\u001b[0m \u001b[0m_\u001b[0m \u001b[0;32min\u001b[0m \u001b[0mtqdm\u001b[0m\u001b[0;34m(\u001b[0m\u001b[0mrange\u001b[0m\u001b[0;34m(\u001b[0m\u001b[0;36m10\u001b[0m\u001b[0;34m)\u001b[0m\u001b[0;34m)\u001b[0m\u001b[0;34m\u001b[0m\u001b[0m\n\u001b[1;32m      9\u001b[0m ])\n\u001b[0;32m---> 10\u001b[0;31m \u001b[0mplt\u001b[0m\u001b[0;34m.\u001b[0m\u001b[0mhist\u001b[0m\u001b[0;34m(\u001b[0m\u001b[0mscores\u001b[0m\u001b[0;34m,\u001b[0m \u001b[0mlabel\u001b[0m\u001b[0;34m=\u001b[0m\u001b[0mlabel1\u001b[0m\u001b[0;34m,\u001b[0m \u001b[0malpha\u001b[0m\u001b[0;34m=\u001b[0m\u001b[0;36m0.5\u001b[0m\u001b[0;34m)\u001b[0m\u001b[0;34m\u001b[0m\u001b[0m\n\u001b[0m\u001b[1;32m     11\u001b[0m \u001b[0mplt\u001b[0m\u001b[0;34m.\u001b[0m\u001b[0maxvline\u001b[0m\u001b[0;34m(\u001b[0m\u001b[0mscores\u001b[0m\u001b[0;34m.\u001b[0m\u001b[0mmean\u001b[0m\u001b[0;34m(\u001b[0m\u001b[0;34m)\u001b[0m\u001b[0;34m,\u001b[0m \u001b[0mcolor\u001b[0m\u001b[0;34m=\u001b[0m\u001b[0;34m'k'\u001b[0m\u001b[0;34m,\u001b[0m \u001b[0mlinestyle\u001b[0m\u001b[0;34m=\u001b[0m\u001b[0;34m'dashed'\u001b[0m\u001b[0;34m,\u001b[0m \u001b[0mlinewidth\u001b[0m\u001b[0;34m=\u001b[0m\u001b[0;36m1\u001b[0m\u001b[0;34m,\u001b[0m \u001b[0mlabel\u001b[0m\u001b[0;34m=\u001b[0m\u001b[0;34mf\"Mean {label1}\"\u001b[0m\u001b[0;34m)\u001b[0m\u001b[0;34m\u001b[0m\u001b[0m\n\u001b[1;32m     12\u001b[0m \u001b[0mplt\u001b[0m\u001b[0;34m.\u001b[0m\u001b[0mylabel\u001b[0m\u001b[0;34m(\u001b[0m\u001b[0;34m\"Precision Macro\"\u001b[0m\u001b[0;34m)\u001b[0m\u001b[0;34m\u001b[0m\u001b[0m\n",
      "\u001b[0;31mNameError\u001b[0m: name 'label1' is not defined"
     ]
    }
   ],
   "source": [
    "scores = np.array([\n",
    "    cross_val_score(\n",
    "        LGBMClassifier(), \n",
    "        X_w_trends.drop(\"title_uais\", axis=1),  make_classes(y), \n",
    "        cv=KFold(n_splits=5, shuffle=True), \n",
    "        scoring=make_scorer(precision_score, average=\"macro\")\n",
    "    ).mean()\n",
    "    for _ in tqdm(range(10))\n",
    "])"
   ]
  },
  {
   "cell_type": "code",
   "execution_count": 138,
   "metadata": {},
   "outputs": [
    {
     "name": "stdout",
     "output_type": "stream",
     "text": [
      "0.3314404720593491\n"
     ]
    },
    {
     "data": {
      "image/png": "[encoded data removed]",
      "text/plain": [
       "<Figure size 432x288 with 1 Axes>"
      ]
     },
     "metadata": {
      "needs_background": "light"
     },
     "output_type": "display_data"
    }
   ],
   "source": [
    "plt.hist(scores, alpha=0.5)\n",
    "plt.axvline(scores.mean(), color='k', linestyle='dashed', linewidth=1)\n",
    "plt.ylabel(\"Precision Macro\")\n",
    "print(scores.mean())"
   ]
  },
  {
   "cell_type": "markdown",
   "metadata": {},
   "source": [
    "### Micro"
   ]
  },
  {
   "cell_type": "code",
   "execution_count": 139,
   "metadata": {},
   "outputs": [
    {
     "data": {
      "application/vnd.jupyter.widget-view+json": {
       "model_id": "d985470d63a74dd6bd7e4567fba58a60",
       "version_major": 2,
       "version_minor": 0
      },
      "text/plain": [
       "HBox(children=(IntProgress(value=0, max=10), HTML(value='')))"
      ]
     },
     "metadata": {},
     "output_type": "display_data"
    }
   ],
   "source": [
    "scores = np.array([\n",
    "    cross_val_score(\n",
    "        LGBMClassifier(), \n",
    "        X_w_trends.drop(\"title_uais\", axis=1),  make_classes(y), \n",
    "        cv=KFold(n_splits=5, shuffle=True), \n",
    "        scoring=make_scorer(precision_score, average=\"micro\")\n",
    "    ).mean()\n",
    "    for _ in tqdm(range(10))\n",
    "])"
   ]
  },
  {
   "cell_type": "code",
   "execution_count": 140,
   "metadata": {},
   "outputs": [
    {
     "name": "stdout",
     "output_type": "stream",
     "text": [
      "0.32650668036998975\n"
     ]
    },
    {
     "data": {
      "image/png": "[encoded data removed]",
      "text/plain": [
       "<Figure size 432x288 with 1 Axes>"
      ]
     },
     "metadata": {
      "needs_background": "light"
     },
     "output_type": "display_data"
    }
   ],
   "source": [
    "plt.hist(scores, alpha=0.5)\n",
    "plt.axvline(scores.mean(), color='k', linestyle='dashed', linewidth=1)\n",
    "plt.ylabel(\"Precision Micro\")\n",
    "print(scores.mean())"
   ]
  },
  {
   "cell_type": "markdown",
   "metadata": {},
   "source": [
    "### R2"
   ]
  },
  {
   "cell_type": "code",
   "execution_count": 141,
   "metadata": {},
   "outputs": [
    {
     "data": {
      "application/vnd.jupyter.widget-view+json": {
       "model_id": "7dd8e6339234451eb1a832744ac1620b",
       "version_major": 2,
       "version_minor": 0
      },
      "text/plain": [
       "HBox(children=(IntProgress(value=0, max=10), HTML(value='')))"
      ]
     },
     "metadata": {},
     "output_type": "display_data"
    },
    {
     "name": "stdout",
     "output_type": "stream",
     "text": [
      "0.21287173039087307\n"
     ]
    },
    {
     "data": {
      "image/png": "[encoded data removed]",
      "text/plain": [
       "<Figure size 432x288 with 1 Axes>"
      ]
     },
     "metadata": {
      "needs_background": "light"
     },
     "output_type": "display_data"
    }
   ],
   "source": [
    "scores = np.array([\n",
    "    cross_val_score(\n",
    "        LGBMClassifier(), \n",
    "        X_w_trends.drop(\"title_uais\", axis=1),  make_classes(y), \n",
    "        cv=KFold(n_splits=5, shuffle=True), \n",
    "        scoring=make_scorer(r2_score)\n",
    "    ).mean()\n",
    "    for _ in tqdm(range(10))\n",
    "])\n",
    "plt.hist(scores, alpha=0.5)\n",
    "plt.axvline(scores.mean(), color='k', linestyle='dashed', linewidth=1)\n",
    "plt.ylabel(\"R2 score\")\n",
    "print(scores.mean())"
   ]
  },
  {
   "cell_type": "code",
   "execution_count": 51,
   "metadata": {},
   "outputs": [],
   "source": [
    "results = cross_validate(    \n",
    "    LGBMRegressor(), \n",
    "    X, y, \n",
    "    cv=KFold(n_splits=5, shuffle=True), \n",
    "    scoring=make_scorer(r2_score),\n",
    "    return_estimator=True\n",
    ")"
   ]
  },
  {
   "cell_type": "code",
   "execution_count": 52,
   "metadata": {},
   "outputs": [
    {
     "data": {
      "text/plain": [
       "0.3041116301234892"
      ]
     },
     "execution_count": 52,
     "metadata": {},
     "output_type": "execute_result"
    }
   ],
   "source": [
    "np.mean(results[\"test_score\"])"
   ]
  },
  {
   "cell_type": "code",
   "execution_count": 53,
   "metadata": {},
   "outputs": [],
   "source": [
    "best_model = results[\"estimator\"][np.argmax(results[\"test_score\"])]"
   ]
  },
  {
   "cell_type": "code",
   "execution_count": 54,
   "metadata": {},
   "outputs": [],
   "source": [
    "y_pred = best_model.predict(X)"
   ]
  },
  {
   "cell_type": "code",
   "execution_count": 55,
   "metadata": {},
   "outputs": [],
   "source": [
    "import matplotlib.pyplot as plt"
   ]
  },
  {
   "cell_type": "code",
   "execution_count": 56,
   "metadata": {},
   "outputs": [],
   "source": [
    "%matplotlib inline"
   ]
  },
  {
   "cell_type": "code",
   "execution_count": 57,
   "metadata": {},
   "outputs": [],
   "source": [
    "x = np.random.choice(np.arange(len(y)), size=100, replace=False)"
   ]
  },
  {
   "cell_type": "code",
   "execution_count": 58,
   "metadata": {},
   "outputs": [
    {
     "data": {
      "image/png": "[encoded data removed]",
      "text/plain": [
       "<Figure size 432x288 with 1 Axes>"
      ]
     },
     "metadata": {
      "needs_background": "light"
     },
     "output_type": "display_data"
    }
   ],
   "source": [
    "plt.plot(y[x], label=\"true\"),\n",
    "plt.plot(y_pred[x], label=\"predict\", alpha=1)\n",
    "plt.legend()\n",
    "plt.savefig(\"pics/plot.png\")\n",
    "plt.show()"
   ]
  },
  {
   "cell_type": "code",
   "execution_count": 59,
   "metadata": {},
   "outputs": [],
   "source": [
    "import scipy"
   ]
  },
  {
   "cell_type": "code",
   "execution_count": 60,
   "metadata": {},
   "outputs": [
    {
     "data": {
      "text/plain": [
       "0.14596643753276928"
      ]
     },
     "execution_count": 60,
     "metadata": {},
     "output_type": "execute_result"
    }
   ],
   "source": [
    "scipy.spatial.distance.cosine(y, y_pred)"
   ]
  },
  {
   "cell_type": "code",
   "execution_count": 63,
   "metadata": {},
   "outputs": [
    {
     "data": {
      "text/plain": [
       "array([0.39820468, 0.50533416, 0.35680614, 0.42114436, 0.38293625])"
      ]
     },
     "execution_count": 63,
     "metadata": {},
     "output_type": "execute_result"
    }
   ],
   "source": [
    "scores = cross_val_score(\n",
    "    LGBMRegressor(), \n",
    "    X, np.log(y), \n",
    "    cv=KFold(n_splits=5, shuffle=True), \n",
    "    scoring=make_scorer(r2_score)\n",
    ")\n",
    "scores"
   ]
  },
  {
   "cell_type": "code",
   "execution_count": 64,
   "metadata": {},
   "outputs": [
    {
     "data": {
      "text/plain": [
       "0.4128851198526807"
      ]
     },
     "execution_count": 64,
     "metadata": {},
     "output_type": "execute_result"
    }
   ],
   "source": [
    "np.clip(scores, 0, 1).mean()"
   ]
  }
 ],
 "metadata": {
  "kernelspec": {
   "display_name": "Python 3.6.6",
   "language": "python",
   "name": "python3.6.6"
  },
  "language_info": {
   "codemirror_mode": {
    "name": "ipython",
    "version": 3
   },
   "file_extension": ".py",
   "mimetype": "text/x-python",
   "name": "python",
   "nbconvert_exporter": "python",
   "pygments_lexer": "ipython3",
   "version": "3.6.6"
  },
  "nteract": {
   "version": "nteract-on-jupyter@1.9.6"
  }
 },
 "nbformat": 4,
 "nbformat_minor": 4
}
