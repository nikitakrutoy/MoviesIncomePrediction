{
 "cells": [
  {
   "cell_type": "code",
   "execution_count": 1,
   "metadata": {
    "ExecuteTime": {
     "end_time": "2020-04-03T21:01:17.266763Z",
     "start_time": "2020-04-03T21:01:16.797978Z"
    }
   },
   "outputs": [],
   "source": [
    "import pandas as pd\n",
    "import numpy as np"
   ]
  },
  {
   "cell_type": "code",
   "execution_count": 2,
   "metadata": {
    "ExecuteTime": {
     "end_time": "2020-04-03T21:01:27.414976Z",
     "start_time": "2020-04-03T21:01:27.397775Z"
    }
   },
   "outputs": [],
   "source": [
    "data = pd.read_csv(\"data/WeekendsUAIS.csv\")"
   ]
  },
  {
   "cell_type": "code",
   "execution_count": 3,
   "metadata": {
    "ExecuteTime": {
     "end_time": "2020-04-03T21:05:50.392397Z",
     "start_time": "2020-04-03T21:05:50.359000Z"
    }
   },
   "outputs": [
    {
     "data": {
      "text/html": [
       "<div>\n",
       "<style scoped>\n",
       "    .dataframe tbody tr th:only-of-type {\n",
       "        vertical-align: middle;\n",
       "    }\n",
       "\n",
       "    .dataframe tbody tr th {\n",
       "        vertical-align: top;\n",
       "    }\n",
       "\n",
       "    .dataframe thead th {\n",
       "        text-align: right;\n",
       "    }\n",
       "</style>\n",
       "<table border=\"1\" class=\"dataframe\">\n",
       "  <thead>\n",
       "    <tr style=\"text-align: right;\">\n",
       "      <th></th>\n",
       "      <th>Общий викенд</th>\n",
       "      <th>Викенд в месяце</th>\n",
       "      <th>Месяц</th>\n",
       "      <th>Даты</th>\n",
       "      <th>Дней в викенде</th>\n",
       "      <th>Unnamed: 5</th>\n",
       "      <th>Unnamed: 6</th>\n",
       "      <th>Unnamed: 7</th>\n",
       "      <th>Unnamed: 8</th>\n",
       "      <th>Unnamed: 9</th>\n",
       "      <th>...</th>\n",
       "      <th>Unnamed: 23</th>\n",
       "      <th>Unnamed: 24</th>\n",
       "      <th>Unnamed: 25</th>\n",
       "      <th>Unnamed: 26</th>\n",
       "      <th>Unnamed: 27</th>\n",
       "      <th>Unnamed: 28</th>\n",
       "      <th>Unnamed: 29</th>\n",
       "      <th>Unnamed: 30</th>\n",
       "      <th>Unnamed: 31</th>\n",
       "      <th>Unnamed: 32</th>\n",
       "    </tr>\n",
       "  </thead>\n",
       "  <tbody>\n",
       "    <tr>\n",
       "      <th>251</th>\n",
       "      <td>52</td>\n",
       "      <td>4</td>\n",
       "      <td>Октябрь</td>\n",
       "      <td>с 25 окт. 2018 по 28 окт. 2018</td>\n",
       "      <td>3</td>\n",
       "      <td>Среднее количество зрителей</td>\n",
       "      <td>27</td>\n",
       "      <td>22</td>\n",
       "      <td>51</td>\n",
       "      <td>19</td>\n",
       "      <td>...</td>\n",
       "      <td>12</td>\n",
       "      <td>6</td>\n",
       "      <td>12</td>\n",
       "      <td>NaN</td>\n",
       "      <td>NaN</td>\n",
       "      <td>NaN</td>\n",
       "      <td>NaN</td>\n",
       "      <td>NaN</td>\n",
       "      <td>NaN</td>\n",
       "      <td>NaN</td>\n",
       "    </tr>\n",
       "    <tr>\n",
       "      <th>252</th>\n",
       "      <td>52</td>\n",
       "      <td>4</td>\n",
       "      <td>Октябрь</td>\n",
       "      <td>с 25 окт. 2018 по 28 окт. 2018</td>\n",
       "      <td>3</td>\n",
       "      <td>Фильм</td>\n",
       "      <td>Смолфут</td>\n",
       "      <td>Несокрушимый</td>\n",
       "      <td>Веном</td>\n",
       "      <td>Репродукция</td>\n",
       "      <td>...</td>\n",
       "      <td>На границе миров</td>\n",
       "      <td>Кукловод</td>\n",
       "      <td>Экстаз</td>\n",
       "      <td>NaN</td>\n",
       "      <td>NaN</td>\n",
       "      <td>NaN</td>\n",
       "      <td>NaN</td>\n",
       "      <td>NaN</td>\n",
       "      <td>NaN</td>\n",
       "      <td>NaN</td>\n",
       "    </tr>\n",
       "    <tr>\n",
       "      <th>253</th>\n",
       "      <td>52</td>\n",
       "      <td>4</td>\n",
       "      <td>Октябрь</td>\n",
       "      <td>с 25 окт. 2018 по 28 окт. 2018</td>\n",
       "      <td>3</td>\n",
       "      <td>Сборы</td>\n",
       "      <td>170,280,895</td>\n",
       "      <td>94,041,536</td>\n",
       "      <td>73,235,990</td>\n",
       "      <td>66,794,486</td>\n",
       "      <td>...</td>\n",
       "      <td>2,934,566</td>\n",
       "      <td>2,667,450</td>\n",
       "      <td>2,247,114</td>\n",
       "      <td>NaN</td>\n",
       "      <td>NaN</td>\n",
       "      <td>NaN</td>\n",
       "      <td>NaN</td>\n",
       "      <td>NaN</td>\n",
       "      <td>NaN</td>\n",
       "      <td>NaN</td>\n",
       "    </tr>\n",
       "    <tr>\n",
       "      <th>254</th>\n",
       "      <td>52</td>\n",
       "      <td>4</td>\n",
       "      <td>Октябрь</td>\n",
       "      <td>с 25 окт. 2018 по 28 окт. 2018</td>\n",
       "      <td>3</td>\n",
       "      <td>Зрители</td>\n",
       "      <td>744,276</td>\n",
       "      <td>373,247</td>\n",
       "      <td>261,425</td>\n",
       "      <td>221,507</td>\n",
       "      <td>...</td>\n",
       "      <td>9,250</td>\n",
       "      <td>10,622</td>\n",
       "      <td>7,191</td>\n",
       "      <td>NaN</td>\n",
       "      <td>NaN</td>\n",
       "      <td>NaN</td>\n",
       "      <td>NaN</td>\n",
       "      <td>NaN</td>\n",
       "      <td>NaN</td>\n",
       "      <td>NaN</td>\n",
       "    </tr>\n",
       "    <tr>\n",
       "      <th>255</th>\n",
       "      <td>52</td>\n",
       "      <td>4</td>\n",
       "      <td>Октябрь</td>\n",
       "      <td>с 25 окт. 2018 по 28 окт. 2018</td>\n",
       "      <td>3</td>\n",
       "      <td>Сеансы</td>\n",
       "      <td>29,318</td>\n",
       "      <td>16,600</td>\n",
       "      <td>9,411</td>\n",
       "      <td>10,366</td>\n",
       "      <td>...</td>\n",
       "      <td>943</td>\n",
       "      <td>844</td>\n",
       "      <td>288</td>\n",
       "      <td>NaN</td>\n",
       "      <td>NaN</td>\n",
       "      <td>NaN</td>\n",
       "      <td>NaN</td>\n",
       "      <td>NaN</td>\n",
       "      <td>NaN</td>\n",
       "      <td>NaN</td>\n",
       "    </tr>\n",
       "    <tr>\n",
       "      <th>256</th>\n",
       "      <td>52</td>\n",
       "      <td>4</td>\n",
       "      <td>Октябрь</td>\n",
       "      <td>с 25 окт. 2018 по 28 окт. 2018</td>\n",
       "      <td>3</td>\n",
       "      <td>Сборы за сеанс</td>\n",
       "      <td>5,808</td>\n",
       "      <td>5,665</td>\n",
       "      <td>7,781</td>\n",
       "      <td>6,443</td>\n",
       "      <td>...</td>\n",
       "      <td>3,111</td>\n",
       "      <td>3,160</td>\n",
       "      <td>7,802</td>\n",
       "      <td>NaN</td>\n",
       "      <td>NaN</td>\n",
       "      <td>NaN</td>\n",
       "      <td>NaN</td>\n",
       "      <td>NaN</td>\n",
       "      <td>NaN</td>\n",
       "      <td>NaN</td>\n",
       "    </tr>\n",
       "    <tr>\n",
       "      <th>257</th>\n",
       "      <td>52</td>\n",
       "      <td>4</td>\n",
       "      <td>Октябрь</td>\n",
       "      <td>с 25 окт. 2018 по 28 окт. 2018</td>\n",
       "      <td>3</td>\n",
       "      <td>Среднее количество зрителей</td>\n",
       "      <td>25</td>\n",
       "      <td>22</td>\n",
       "      <td>27</td>\n",
       "      <td>21</td>\n",
       "      <td>...</td>\n",
       "      <td>9</td>\n",
       "      <td>12</td>\n",
       "      <td>24</td>\n",
       "      <td>NaN</td>\n",
       "      <td>NaN</td>\n",
       "      <td>NaN</td>\n",
       "      <td>NaN</td>\n",
       "      <td>NaN</td>\n",
       "      <td>NaN</td>\n",
       "      <td>NaN</td>\n",
       "    </tr>\n",
       "    <tr>\n",
       "      <th>612</th>\n",
       "      <td>52</td>\n",
       "      <td>4</td>\n",
       "      <td>Декабрь</td>\n",
       "      <td>с 19 дек. 2019 по 22 дек. 2019</td>\n",
       "      <td>3</td>\n",
       "      <td>Фильм</td>\n",
       "      <td>Звёздные Войны: Скайуокер. Восход</td>\n",
       "      <td>Полицейский с Рублевки. Новогодний Беспредел 2</td>\n",
       "      <td>Джуманджи: Новый уровень</td>\n",
       "      <td>Холодное сердце II</td>\n",
       "      <td>...</td>\n",
       "      <td>МУЛЬТ в кино. Выпуск № 109</td>\n",
       "      <td>Война Токов</td>\n",
       "      <td>Солярис.</td>\n",
       "      <td>NaN</td>\n",
       "      <td>NaN</td>\n",
       "      <td>NaN</td>\n",
       "      <td>NaN</td>\n",
       "      <td>NaN</td>\n",
       "      <td>NaN</td>\n",
       "      <td>NaN</td>\n",
       "    </tr>\n",
       "    <tr>\n",
       "      <th>613</th>\n",
       "      <td>52</td>\n",
       "      <td>4</td>\n",
       "      <td>Декабрь</td>\n",
       "      <td>с 19 дек. 2019 по 22 дек. 2019</td>\n",
       "      <td>3</td>\n",
       "      <td>Сборы</td>\n",
       "      <td>331,364,403</td>\n",
       "      <td>170,134,099</td>\n",
       "      <td>125,876,278</td>\n",
       "      <td>60,293,699</td>\n",
       "      <td>...</td>\n",
       "      <td>1,365,933</td>\n",
       "      <td>795,160</td>\n",
       "      <td>730,903</td>\n",
       "      <td>NaN</td>\n",
       "      <td>NaN</td>\n",
       "      <td>NaN</td>\n",
       "      <td>NaN</td>\n",
       "      <td>NaN</td>\n",
       "      <td>NaN</td>\n",
       "      <td>NaN</td>\n",
       "    </tr>\n",
       "    <tr>\n",
       "      <th>614</th>\n",
       "      <td>52</td>\n",
       "      <td>4</td>\n",
       "      <td>Декабрь</td>\n",
       "      <td>с 19 дек. 2019 по 22 дек. 2019</td>\n",
       "      <td>3</td>\n",
       "      <td>Зрители</td>\n",
       "      <td>1,004,650</td>\n",
       "      <td>633,274</td>\n",
       "      <td>481,114</td>\n",
       "      <td>265,272</td>\n",
       "      <td>...</td>\n",
       "      <td>10,974</td>\n",
       "      <td>2,531</td>\n",
       "      <td>2,257</td>\n",
       "      <td>NaN</td>\n",
       "      <td>NaN</td>\n",
       "      <td>NaN</td>\n",
       "      <td>NaN</td>\n",
       "      <td>NaN</td>\n",
       "      <td>NaN</td>\n",
       "      <td>NaN</td>\n",
       "    </tr>\n",
       "    <tr>\n",
       "      <th>615</th>\n",
       "      <td>52</td>\n",
       "      <td>4</td>\n",
       "      <td>Декабрь</td>\n",
       "      <td>с 19 дек. 2019 по 22 дек. 2019</td>\n",
       "      <td>3</td>\n",
       "      <td>Сеансы</td>\n",
       "      <td>38,697</td>\n",
       "      <td>25,952</td>\n",
       "      <td>19,552</td>\n",
       "      <td>9,408</td>\n",
       "      <td>...</td>\n",
       "      <td>1,331</td>\n",
       "      <td>153</td>\n",
       "      <td>87</td>\n",
       "      <td>NaN</td>\n",
       "      <td>NaN</td>\n",
       "      <td>NaN</td>\n",
       "      <td>NaN</td>\n",
       "      <td>NaN</td>\n",
       "      <td>NaN</td>\n",
       "      <td>NaN</td>\n",
       "    </tr>\n",
       "    <tr>\n",
       "      <th>616</th>\n",
       "      <td>52</td>\n",
       "      <td>4</td>\n",
       "      <td>Декабрь</td>\n",
       "      <td>с 19 дек. 2019 по 22 дек. 2019</td>\n",
       "      <td>3</td>\n",
       "      <td>Сборы за сеанс</td>\n",
       "      <td>8,563</td>\n",
       "      <td>6,555</td>\n",
       "      <td>6,438</td>\n",
       "      <td>6,408</td>\n",
       "      <td>...</td>\n",
       "      <td>1,026</td>\n",
       "      <td>5,197</td>\n",
       "      <td>8,401</td>\n",
       "      <td>NaN</td>\n",
       "      <td>NaN</td>\n",
       "      <td>NaN</td>\n",
       "      <td>NaN</td>\n",
       "      <td>NaN</td>\n",
       "      <td>NaN</td>\n",
       "      <td>NaN</td>\n",
       "    </tr>\n",
       "    <tr>\n",
       "      <th>617</th>\n",
       "      <td>52</td>\n",
       "      <td>4</td>\n",
       "      <td>Декабрь</td>\n",
       "      <td>с 19 дек. 2019 по 22 дек. 2019</td>\n",
       "      <td>3</td>\n",
       "      <td>Среднее количество зрителей</td>\n",
       "      <td>25</td>\n",
       "      <td>24</td>\n",
       "      <td>24</td>\n",
       "      <td>28</td>\n",
       "      <td>...</td>\n",
       "      <td>8</td>\n",
       "      <td>16</td>\n",
       "      <td>25</td>\n",
       "      <td>NaN</td>\n",
       "      <td>NaN</td>\n",
       "      <td>NaN</td>\n",
       "      <td>NaN</td>\n",
       "      <td>NaN</td>\n",
       "      <td>NaN</td>\n",
       "      <td>NaN</td>\n",
       "    </tr>\n",
       "  </tbody>\n",
       "</table>\n",
       "<p>13 rows × 33 columns</p>\n",
       "</div>"
      ],
      "text/plain": [
       "     Общий викенд  Викенд в месяце    Месяц                            Даты  \\\n",
       "251            52                4  Октябрь  с 25 окт. 2018 по 28 окт. 2018   \n",
       "252            52                4  Октябрь  с 25 окт. 2018 по 28 окт. 2018   \n",
       "253            52                4  Октябрь  с 25 окт. 2018 по 28 окт. 2018   \n",
       "254            52                4  Октябрь  с 25 окт. 2018 по 28 окт. 2018   \n",
       "255            52                4  Октябрь  с 25 окт. 2018 по 28 окт. 2018   \n",
       "256            52                4  Октябрь  с 25 окт. 2018 по 28 окт. 2018   \n",
       "257            52                4  Октябрь  с 25 окт. 2018 по 28 окт. 2018   \n",
       "612            52                4  Декабрь  с 19 дек. 2019 по 22 дек. 2019   \n",
       "613            52                4  Декабрь  с 19 дек. 2019 по 22 дек. 2019   \n",
       "614            52                4  Декабрь  с 19 дек. 2019 по 22 дек. 2019   \n",
       "615            52                4  Декабрь  с 19 дек. 2019 по 22 дек. 2019   \n",
       "616            52                4  Декабрь  с 19 дек. 2019 по 22 дек. 2019   \n",
       "617            52                4  Декабрь  с 19 дек. 2019 по 22 дек. 2019   \n",
       "\n",
       "     Дней в викенде                   Unnamed: 5  \\\n",
       "251               3  Среднее количество зрителей   \n",
       "252               3                        Фильм   \n",
       "253               3                        Сборы   \n",
       "254               3                      Зрители   \n",
       "255               3                       Сеансы   \n",
       "256               3               Сборы за сеанс   \n",
       "257               3  Среднее количество зрителей   \n",
       "612               3                        Фильм   \n",
       "613               3                        Сборы   \n",
       "614               3                      Зрители   \n",
       "615               3                       Сеансы   \n",
       "616               3               Сборы за сеанс   \n",
       "617               3  Среднее количество зрителей   \n",
       "\n",
       "                            Unnamed: 6  \\\n",
       "251                                 27   \n",
       "252                            Смолфут   \n",
       "253                        170,280,895   \n",
       "254                            744,276   \n",
       "255                             29,318   \n",
       "256                              5,808   \n",
       "257                                 25   \n",
       "612  Звёздные Войны: Скайуокер. Восход   \n",
       "613                        331,364,403   \n",
       "614                          1,004,650   \n",
       "615                             38,697   \n",
       "616                              8,563   \n",
       "617                                 25   \n",
       "\n",
       "                                         Unnamed: 7                Unnamed: 8  \\\n",
       "251                                              22                        51   \n",
       "252                                    Несокрушимый                     Веном   \n",
       "253                                      94,041,536                73,235,990   \n",
       "254                                         373,247                   261,425   \n",
       "255                                          16,600                     9,411   \n",
       "256                                           5,665                     7,781   \n",
       "257                                              22                        27   \n",
       "612  Полицейский с Рублевки. Новогодний Беспредел 2  Джуманджи: Новый уровень   \n",
       "613                                     170,134,099               125,876,278   \n",
       "614                                         633,274                   481,114   \n",
       "615                                          25,952                    19,552   \n",
       "616                                           6,555                     6,438   \n",
       "617                                              24                        24   \n",
       "\n",
       "             Unnamed: 9  ...                 Unnamed: 23  Unnamed: 24  \\\n",
       "251                  19  ...                          12            6   \n",
       "252         Репродукция  ...            На границе миров     Кукловод   \n",
       "253          66,794,486  ...                   2,934,566    2,667,450   \n",
       "254             221,507  ...                       9,250       10,622   \n",
       "255              10,366  ...                         943          844   \n",
       "256               6,443  ...                       3,111        3,160   \n",
       "257                  21  ...                           9           12   \n",
       "612  Холодное сердце II  ...  МУЛЬТ в кино. Выпуск № 109  Война Токов   \n",
       "613          60,293,699  ...                   1,365,933      795,160   \n",
       "614             265,272  ...                      10,974        2,531   \n",
       "615               9,408  ...                       1,331          153   \n",
       "616               6,408  ...                       1,026        5,197   \n",
       "617                  28  ...                           8           16   \n",
       "\n",
       "    Unnamed: 25 Unnamed: 26 Unnamed: 27 Unnamed: 28 Unnamed: 29 Unnamed: 30  \\\n",
       "251          12         NaN         NaN         NaN         NaN         NaN   \n",
       "252      Экстаз         NaN         NaN         NaN         NaN         NaN   \n",
       "253   2,247,114         NaN         NaN         NaN         NaN         NaN   \n",
       "254       7,191         NaN         NaN         NaN         NaN         NaN   \n",
       "255         288         NaN         NaN         NaN         NaN         NaN   \n",
       "256       7,802         NaN         NaN         NaN         NaN         NaN   \n",
       "257          24         NaN         NaN         NaN         NaN         NaN   \n",
       "612    Солярис.         NaN         NaN         NaN         NaN         NaN   \n",
       "613     730,903         NaN         NaN         NaN         NaN         NaN   \n",
       "614       2,257         NaN         NaN         NaN         NaN         NaN   \n",
       "615          87         NaN         NaN         NaN         NaN         NaN   \n",
       "616       8,401         NaN         NaN         NaN         NaN         NaN   \n",
       "617          25         NaN         NaN         NaN         NaN         NaN   \n",
       "\n",
       "    Unnamed: 31 Unnamed: 32  \n",
       "251         NaN         NaN  \n",
       "252         NaN         NaN  \n",
       "253         NaN         NaN  \n",
       "254         NaN         NaN  \n",
       "255         NaN         NaN  \n",
       "256         NaN         NaN  \n",
       "257         NaN         NaN  \n",
       "612         NaN         NaN  \n",
       "613         NaN         NaN  \n",
       "614         NaN         NaN  \n",
       "615         NaN         NaN  \n",
       "616         NaN         NaN  \n",
       "617         NaN         NaN  \n",
       "\n",
       "[13 rows x 33 columns]"
      ]
     },
     "execution_count": 3,
     "metadata": {},
     "output_type": "execute_result"
    }
   ],
   "source": [
    "data[data[data.columns[0]] == 52]"
   ]
  },
  {
   "cell_type": "code",
   "execution_count": 4,
   "metadata": {
    "ExecuteTime": {
     "end_time": "2020-04-03T21:06:32.973198Z",
     "start_time": "2020-04-03T21:06:32.940428Z"
    }
   },
   "outputs": [
    {
     "name": "stderr",
     "output_type": "stream",
     "text": [
      "/Users/nikitakrutoy/.pyenv/versions/3.6.6/lib/python3.6/site-packages/ipykernel_launcher.py:1: SettingWithCopyWarning: \n",
      "A value is trying to be set on a copy of a slice from a DataFrame.\n",
      "Try using .loc[row_indexer,col_indexer] = value instead\n",
      "\n",
      "See the caveats in the documentation: https://pandas.pydata.org/pandas-docs/stable/user_guide/indexing.html#returning-a-view-versus-a-copy\n",
      "  \"\"\"Entry point for launching an IPython kernel.\n"
     ]
    }
   ],
   "source": [
    "data[312:][data.columns[0]] += 61"
   ]
  },
  {
   "cell_type": "code",
   "execution_count": 5,
   "metadata": {
    "ExecuteTime": {
     "end_time": "2020-04-03T21:06:49.631775Z",
     "start_time": "2020-04-03T21:06:49.628897Z"
    }
   },
   "outputs": [],
   "source": [
    "g = data.groupby(data.columns[0])"
   ]
  },
  {
   "cell_type": "code",
   "execution_count": 6,
   "metadata": {
    "ExecuteTime": {
     "end_time": "2020-04-03T21:22:53.176690Z",
     "start_time": "2020-04-03T21:22:53.149982Z"
    },
    "scrolled": true
   },
   "outputs": [
    {
     "ename": "NameError",
     "evalue": "name 'weekend_id' is not defined",
     "output_type": "error",
     "traceback": [
      "\u001b[0;31m---------------------------------------------------------------------------\u001b[0m",
      "\u001b[0;31mNameError\u001b[0m                                 Traceback (most recent call last)",
      "\u001b[0;32m<ipython-input-6-4df094393df4>\u001b[0m in \u001b[0;36m<module>\u001b[0;34m\u001b[0m\n\u001b[0;32m----> 1\u001b[0;31m \u001b[0mg\u001b[0m\u001b[0;34m.\u001b[0m\u001b[0mget_group\u001b[0m\u001b[0;34m(\u001b[0m\u001b[0mweekend_id\u001b[0m \u001b[0;34m+\u001b[0m \u001b[0;36m1\u001b[0m\u001b[0;34m)\u001b[0m\u001b[0;34m\u001b[0m\u001b[0m\n\u001b[0m",
      "\u001b[0;31mNameError\u001b[0m: name 'weekend_id' is not defined"
     ]
    }
   ],
   "source": [
    "g.get_group(weekend_id + 1)"
   ]
  },
  {
   "cell_type": "code",
   "execution_count": 7,
   "metadata": {},
   "outputs": [],
   "source": [
    "def prepare_value(a):\n",
    "    if pd.isnull(a):\n",
    "        return np.nan\n",
    "    else:\n",
    "        return int(a.replace(\",\", \"\"))"
   ]
  },
  {
   "cell_type": "code",
   "execution_count": 8,
   "metadata": {
    "ExecuteTime": {
     "end_time": "2020-04-03T21:23:03.721507Z",
     "start_time": "2020-04-03T21:23:03.384079Z"
    }
   },
   "outputs": [],
   "source": [
    "weekends = {}\n",
    "for weekend_id in g.groups.keys():\n",
    "    if weekend_id not in [95, 96, 51, 52]:\n",
    "        sub_df = g.get_group(weekend_id)[data.columns[5:26]].transpose().reset_index(drop=True)\n",
    "        headers = [\"title_uais\", \"revenue\", \"viewers\", \"sessions\", \"revenue_per_session\", \"viewers_per_session\"]\n",
    "        new_df  = pd.DataFrame(sub_df.values[1:], columns=headers).set_index(\"title_uais\")\n",
    "        weekends[weekend_id] = new_df.applymap(prepare_value)\n",
    "        weekends[weekend_id] = weekends[weekend_id].fillna(weekends[weekend_id].mean())"
   ]
  },
  {
   "cell_type": "code",
   "execution_count": 40,
   "metadata": {},
   "outputs": [],
   "source": [
    "movies = pd.read_csv(\"data/MoviesKinopoiskPreprocessed.csv\", index_col=\"title_uais\")"
   ]
  },
  {
   "cell_type": "code",
   "execution_count": 44,
   "metadata": {},
   "outputs": [],
   "source": [
    "movies = pd.read_csv(\"data/MoviesKinopoiskPreprocessedWithTrends.csv\", index_col=\"title_uais\")"
   ]
  },
  {
   "cell_type": "code",
   "execution_count": 41,
   "metadata": {},
   "outputs": [
    {
     "data": {
      "text/html": [
       "<div>\n",
       "<style scoped>\n",
       "    .dataframe tbody tr th:only-of-type {\n",
       "        vertical-align: middle;\n",
       "    }\n",
       "\n",
       "    .dataframe tbody tr th {\n",
       "        vertical-align: top;\n",
       "    }\n",
       "\n",
       "    .dataframe thead th {\n",
       "        text-align: right;\n",
       "    }\n",
       "</style>\n",
       "<table border=\"1\" class=\"dataframe\">\n",
       "  <thead>\n",
       "    <tr style=\"text-align: right;\">\n",
       "      <th></th>\n",
       "      <th>runtime</th>\n",
       "      <th>budget</th>\n",
       "      <th>num_actors</th>\n",
       "      <th>num_directors</th>\n",
       "      <th>num_screenwriters</th>\n",
       "      <th>num_producers</th>\n",
       "      <th>num_operators</th>\n",
       "      <th>num_composers</th>\n",
       "      <th>num_art_direction_by</th>\n",
       "      <th>num_editing_by</th>\n",
       "      <th>...</th>\n",
       "      <th>type_documentary</th>\n",
       "      <th>type_other</th>\n",
       "      <th>type_popular-science</th>\n",
       "      <th>type_art</th>\n",
       "      <th>age_0</th>\n",
       "      <th>age_12</th>\n",
       "      <th>age_14</th>\n",
       "      <th>age_16</th>\n",
       "      <th>age_18</th>\n",
       "      <th>age_6</th>\n",
       "    </tr>\n",
       "    <tr>\n",
       "      <th>title_uais</th>\n",
       "      <th></th>\n",
       "      <th></th>\n",
       "      <th></th>\n",
       "      <th></th>\n",
       "      <th></th>\n",
       "      <th></th>\n",
       "      <th></th>\n",
       "      <th></th>\n",
       "      <th></th>\n",
       "      <th></th>\n",
       "      <th></th>\n",
       "      <th></th>\n",
       "      <th></th>\n",
       "      <th></th>\n",
       "      <th></th>\n",
       "      <th></th>\n",
       "      <th></th>\n",
       "      <th></th>\n",
       "      <th></th>\n",
       "      <th></th>\n",
       "      <th></th>\n",
       "    </tr>\n",
       "  </thead>\n",
       "  <tbody>\n",
       "    <tr>\n",
       "      <th>1+1: Голливудская история</th>\n",
       "      <td>126.0</td>\n",
       "      <td>3.750000e+07</td>\n",
       "      <td>10</td>\n",
       "      <td>1</td>\n",
       "      <td>3</td>\n",
       "      <td>3</td>\n",
       "      <td>1</td>\n",
       "      <td>1</td>\n",
       "      <td>3</td>\n",
       "      <td>1</td>\n",
       "      <td>...</td>\n",
       "      <td>0</td>\n",
       "      <td>0</td>\n",
       "      <td>0</td>\n",
       "      <td>0</td>\n",
       "      <td>0</td>\n",
       "      <td>0</td>\n",
       "      <td>0</td>\n",
       "      <td>0</td>\n",
       "      <td>0</td>\n",
       "      <td>0</td>\n",
       "    </tr>\n",
       "    <tr>\n",
       "      <th>100 вещей и ничего лишнего</th>\n",
       "      <td>111.0</td>\n",
       "      <td>1.409340e+07</td>\n",
       "      <td>10</td>\n",
       "      <td>1</td>\n",
       "      <td>1</td>\n",
       "      <td>3</td>\n",
       "      <td>1</td>\n",
       "      <td>2</td>\n",
       "      <td>3</td>\n",
       "      <td>2</td>\n",
       "      <td>...</td>\n",
       "      <td>0</td>\n",
       "      <td>0</td>\n",
       "      <td>0</td>\n",
       "      <td>0</td>\n",
       "      <td>0</td>\n",
       "      <td>0</td>\n",
       "      <td>0</td>\n",
       "      <td>0</td>\n",
       "      <td>0</td>\n",
       "      <td>0</td>\n",
       "    </tr>\n",
       "    <tr>\n",
       "      <th>2001 год: Космическая одиссея</th>\n",
       "      <td>149.0</td>\n",
       "      <td>5.671537e+07</td>\n",
       "      <td>10</td>\n",
       "      <td>1</td>\n",
       "      <td>2</td>\n",
       "      <td>2</td>\n",
       "      <td>1</td>\n",
       "      <td>0</td>\n",
       "      <td>3</td>\n",
       "      <td>1</td>\n",
       "      <td>...</td>\n",
       "      <td>0</td>\n",
       "      <td>0</td>\n",
       "      <td>0</td>\n",
       "      <td>0</td>\n",
       "      <td>0</td>\n",
       "      <td>0</td>\n",
       "      <td>0</td>\n",
       "      <td>0</td>\n",
       "      <td>0</td>\n",
       "      <td>0</td>\n",
       "    </tr>\n",
       "    <tr>\n",
       "      <th>21 мост</th>\n",
       "      <td>99.0</td>\n",
       "      <td>2.853976e+07</td>\n",
       "      <td>10</td>\n",
       "      <td>1</td>\n",
       "      <td>2</td>\n",
       "      <td>3</td>\n",
       "      <td>1</td>\n",
       "      <td>2</td>\n",
       "      <td>3</td>\n",
       "      <td>1</td>\n",
       "      <td>...</td>\n",
       "      <td>0</td>\n",
       "      <td>0</td>\n",
       "      <td>0</td>\n",
       "      <td>0</td>\n",
       "      <td>0</td>\n",
       "      <td>0</td>\n",
       "      <td>0</td>\n",
       "      <td>0</td>\n",
       "      <td>0</td>\n",
       "      <td>0</td>\n",
       "    </tr>\n",
       "    <tr>\n",
       "      <th>22 мили</th>\n",
       "      <td>94.0</td>\n",
       "      <td>5.000000e+07</td>\n",
       "      <td>10</td>\n",
       "      <td>1</td>\n",
       "      <td>2</td>\n",
       "      <td>3</td>\n",
       "      <td>1</td>\n",
       "      <td>1</td>\n",
       "      <td>3</td>\n",
       "      <td>2</td>\n",
       "      <td>...</td>\n",
       "      <td>0</td>\n",
       "      <td>0</td>\n",
       "      <td>0</td>\n",
       "      <td>1</td>\n",
       "      <td>0</td>\n",
       "      <td>0</td>\n",
       "      <td>0</td>\n",
       "      <td>0</td>\n",
       "      <td>1</td>\n",
       "      <td>0</td>\n",
       "    </tr>\n",
       "    <tr>\n",
       "      <th>...</th>\n",
       "      <td>...</td>\n",
       "      <td>...</td>\n",
       "      <td>...</td>\n",
       "      <td>...</td>\n",
       "      <td>...</td>\n",
       "      <td>...</td>\n",
       "      <td>...</td>\n",
       "      <td>...</td>\n",
       "      <td>...</td>\n",
       "      <td>...</td>\n",
       "      <td>...</td>\n",
       "      <td>...</td>\n",
       "      <td>...</td>\n",
       "      <td>...</td>\n",
       "      <td>...</td>\n",
       "      <td>...</td>\n",
       "      <td>...</td>\n",
       "      <td>...</td>\n",
       "      <td>...</td>\n",
       "      <td>...</td>\n",
       "      <td>...</td>\n",
       "    </tr>\n",
       "    <tr>\n",
       "      <th>Я иду искать</th>\n",
       "      <td>95.0</td>\n",
       "      <td>2.871423e+07</td>\n",
       "      <td>10</td>\n",
       "      <td>2</td>\n",
       "      <td>2</td>\n",
       "      <td>3</td>\n",
       "      <td>1</td>\n",
       "      <td>1</td>\n",
       "      <td>3</td>\n",
       "      <td>1</td>\n",
       "      <td>...</td>\n",
       "      <td>0</td>\n",
       "      <td>0</td>\n",
       "      <td>0</td>\n",
       "      <td>0</td>\n",
       "      <td>0</td>\n",
       "      <td>0</td>\n",
       "      <td>0</td>\n",
       "      <td>0</td>\n",
       "      <td>0</td>\n",
       "      <td>0</td>\n",
       "    </tr>\n",
       "    <tr>\n",
       "      <th>Я не такой. Я не такая</th>\n",
       "      <td>100.0</td>\n",
       "      <td>2.914991e+07</td>\n",
       "      <td>10</td>\n",
       "      <td>1</td>\n",
       "      <td>2</td>\n",
       "      <td>2</td>\n",
       "      <td>1</td>\n",
       "      <td>0</td>\n",
       "      <td>1</td>\n",
       "      <td>0</td>\n",
       "      <td>...</td>\n",
       "      <td>0</td>\n",
       "      <td>0</td>\n",
       "      <td>0</td>\n",
       "      <td>0</td>\n",
       "      <td>0</td>\n",
       "      <td>0</td>\n",
       "      <td>0</td>\n",
       "      <td>0</td>\n",
       "      <td>0</td>\n",
       "      <td>0</td>\n",
       "    </tr>\n",
       "    <tr>\n",
       "      <th>Я сражаюсь с великанами</th>\n",
       "      <td>106.0</td>\n",
       "      <td>1.510000e+07</td>\n",
       "      <td>10</td>\n",
       "      <td>1</td>\n",
       "      <td>2</td>\n",
       "      <td>3</td>\n",
       "      <td>1</td>\n",
       "      <td>1</td>\n",
       "      <td>3</td>\n",
       "      <td>1</td>\n",
       "      <td>...</td>\n",
       "      <td>0</td>\n",
       "      <td>0</td>\n",
       "      <td>0</td>\n",
       "      <td>1</td>\n",
       "      <td>0</td>\n",
       "      <td>1</td>\n",
       "      <td>0</td>\n",
       "      <td>0</td>\n",
       "      <td>0</td>\n",
       "      <td>0</td>\n",
       "    </tr>\n",
       "    <tr>\n",
       "      <th>Я худею</th>\n",
       "      <td>102.0</td>\n",
       "      <td>1.700000e+06</td>\n",
       "      <td>10</td>\n",
       "      <td>1</td>\n",
       "      <td>3</td>\n",
       "      <td>3</td>\n",
       "      <td>1</td>\n",
       "      <td>2</td>\n",
       "      <td>1</td>\n",
       "      <td>1</td>\n",
       "      <td>...</td>\n",
       "      <td>0</td>\n",
       "      <td>0</td>\n",
       "      <td>0</td>\n",
       "      <td>1</td>\n",
       "      <td>0</td>\n",
       "      <td>0</td>\n",
       "      <td>0</td>\n",
       "      <td>1</td>\n",
       "      <td>0</td>\n",
       "      <td>0</td>\n",
       "    </tr>\n",
       "    <tr>\n",
       "      <th>Ядовитая роза</th>\n",
       "      <td>98.0</td>\n",
       "      <td>3.237540e+05</td>\n",
       "      <td>10</td>\n",
       "      <td>2</td>\n",
       "      <td>3</td>\n",
       "      <td>3</td>\n",
       "      <td>1</td>\n",
       "      <td>2</td>\n",
       "      <td>3</td>\n",
       "      <td>1</td>\n",
       "      <td>...</td>\n",
       "      <td>0</td>\n",
       "      <td>0</td>\n",
       "      <td>0</td>\n",
       "      <td>0</td>\n",
       "      <td>0</td>\n",
       "      <td>0</td>\n",
       "      <td>0</td>\n",
       "      <td>0</td>\n",
       "      <td>0</td>\n",
       "      <td>0</td>\n",
       "    </tr>\n",
       "  </tbody>\n",
       "</table>\n",
       "<p>697 rows × 75 columns</p>\n",
       "</div>"
      ],
      "text/plain": [
       "                               runtime        budget  num_actors  \\\n",
       "title_uais                                                         \n",
       "1+1: Голливудская история        126.0  3.750000e+07          10   \n",
       "100 вещей и ничего лишнего       111.0  1.409340e+07          10   \n",
       "2001 год: Космическая одиссея    149.0  5.671537e+07          10   \n",
       "21 мост                           99.0  2.853976e+07          10   \n",
       "22 мили                           94.0  5.000000e+07          10   \n",
       "...                                ...           ...         ...   \n",
       "Я иду искать                      95.0  2.871423e+07          10   \n",
       "Я не такой. Я не такая           100.0  2.914991e+07          10   \n",
       "Я сражаюсь с великанами          106.0  1.510000e+07          10   \n",
       "Я худею                          102.0  1.700000e+06          10   \n",
       "Ядовитая роза                     98.0  3.237540e+05          10   \n",
       "\n",
       "                               num_directors  num_screenwriters  \\\n",
       "title_uais                                                        \n",
       "1+1: Голливудская история                  1                  3   \n",
       "100 вещей и ничего лишнего                 1                  1   \n",
       "2001 год: Космическая одиссея              1                  2   \n",
       "21 мост                                    1                  2   \n",
       "22 мили                                    1                  2   \n",
       "...                                      ...                ...   \n",
       "Я иду искать                               2                  2   \n",
       "Я не такой. Я не такая                     1                  2   \n",
       "Я сражаюсь с великанами                    1                  2   \n",
       "Я худею                                    1                  3   \n",
       "Ядовитая роза                              2                  3   \n",
       "\n",
       "                               num_producers  num_operators  num_composers  \\\n",
       "title_uais                                                                   \n",
       "1+1: Голливудская история                  3              1              1   \n",
       "100 вещей и ничего лишнего                 3              1              2   \n",
       "2001 год: Космическая одиссея              2              1              0   \n",
       "21 мост                                    3              1              2   \n",
       "22 мили                                    3              1              1   \n",
       "...                                      ...            ...            ...   \n",
       "Я иду искать                               3              1              1   \n",
       "Я не такой. Я не такая                     2              1              0   \n",
       "Я сражаюсь с великанами                    3              1              1   \n",
       "Я худею                                    3              1              2   \n",
       "Ядовитая роза                              3              1              2   \n",
       "\n",
       "                               num_art_direction_by  num_editing_by  ...  \\\n",
       "title_uais                                                           ...   \n",
       "1+1: Голливудская история                         3               1  ...   \n",
       "100 вещей и ничего лишнего                        3               2  ...   \n",
       "2001 год: Космическая одиссея                     3               1  ...   \n",
       "21 мост                                           3               1  ...   \n",
       "22 мили                                           3               2  ...   \n",
       "...                                             ...             ...  ...   \n",
       "Я иду искать                                      3               1  ...   \n",
       "Я не такой. Я не такая                            1               0  ...   \n",
       "Я сражаюсь с великанами                           3               1  ...   \n",
       "Я худею                                           1               1  ...   \n",
       "Ядовитая роза                                     3               1  ...   \n",
       "\n",
       "                               type_documentary  type_other  \\\n",
       "title_uais                                                    \n",
       "1+1: Голливудская история                     0           0   \n",
       "100 вещей и ничего лишнего                    0           0   \n",
       "2001 год: Космическая одиссея                 0           0   \n",
       "21 мост                                       0           0   \n",
       "22 мили                                       0           0   \n",
       "...                                         ...         ...   \n",
       "Я иду искать                                  0           0   \n",
       "Я не такой. Я не такая                        0           0   \n",
       "Я сражаюсь с великанами                       0           0   \n",
       "Я худею                                       0           0   \n",
       "Ядовитая роза                                 0           0   \n",
       "\n",
       "                               type_popular-science  type_art  age_0  age_12  \\\n",
       "title_uais                                                                     \n",
       "1+1: Голливудская история                         0         0      0       0   \n",
       "100 вещей и ничего лишнего                        0         0      0       0   \n",
       "2001 год: Космическая одиссея                     0         0      0       0   \n",
       "21 мост                                           0         0      0       0   \n",
       "22 мили                                           0         1      0       0   \n",
       "...                                             ...       ...    ...     ...   \n",
       "Я иду искать                                      0         0      0       0   \n",
       "Я не такой. Я не такая                            0         0      0       0   \n",
       "Я сражаюсь с великанами                           0         1      0       1   \n",
       "Я худею                                           0         1      0       0   \n",
       "Ядовитая роза                                     0         0      0       0   \n",
       "\n",
       "                               age_14  age_16  age_18  age_6  \n",
       "title_uais                                                    \n",
       "1+1: Голливудская история           0       0       0      0  \n",
       "100 вещей и ничего лишнего          0       0       0      0  \n",
       "2001 год: Космическая одиссея       0       0       0      0  \n",
       "21 мост                             0       0       0      0  \n",
       "22 мили                             0       0       1      0  \n",
       "...                               ...     ...     ...    ...  \n",
       "Я иду искать                        0       0       0      0  \n",
       "Я не такой. Я не такая              0       0       0      0  \n",
       "Я сражаюсь с великанами             0       0       0      0  \n",
       "Я худею                             0       1       0      0  \n",
       "Ядовитая роза                       0       0       0      0  \n",
       "\n",
       "[697 rows x 75 columns]"
      ]
     },
     "execution_count": 41,
     "metadata": {},
     "output_type": "execute_result"
    }
   ],
   "source": [
    "movies"
   ]
  },
  {
   "cell_type": "code",
   "execution_count": 42,
   "metadata": {},
   "outputs": [],
   "source": [
    "STOP_LIST = set([1, 49, 53, 97])\n",
    "ALL_TITLES = set(movies.index)\n",
    "\n",
    "def sample(n, stop_list):\n",
    "    weekend_id = np.random.choice(np.array(list(weekends.keys() - stop_list)), 1).item()\n",
    "    weekend = weekends[weekend_id]\n",
    "    previous_weekend = weekends[weekend_id - 1]\n",
    "    try:\n",
    "    \n",
    "        titles = np.random.choice(np.array(list(set(weekend.index) & ALL_TITLES)), n + 1, replace=False)\n",
    "        title, current_context_titles = titles[0], titles[1:]\n",
    "        previous_context_titles = np.random.choice(np.array(list(set(previous_weekend.index) & ALL_TITLES)), n, replace=False)\n",
    "\n",
    "        if title in previous_weekend.index:\n",
    "            prev_title_targets = previous_weekend.loc[title].values\n",
    "        else:\n",
    "            prev_title_targets = np.zeros(5)\n",
    "        prev_title_targets\n",
    "\n",
    "        targets = weekend.loc[title].values\n",
    "\n",
    "        prev_context_targets = previous_weekend.loc[previous_context_titles].values.ravel()\n",
    "\n",
    "        features = np.concatenate([\n",
    "            movies.loc[current_context_titles].values.ravel(),\n",
    "            movies.loc[previous_context_titles].values.ravel(),\n",
    "            prev_title_targets,\n",
    "            prev_context_targets\n",
    "        ])\n",
    "    except Exception:\n",
    "        print(weekend_id)\n",
    "    \n",
    "    return features, targets"
   ]
  },
  {
   "cell_type": "code",
   "execution_count": 43,
   "metadata": {},
   "outputs": [],
   "source": [
    "from tqdm.auto import tqdm"
   ]
  },
  {
   "cell_type": "code",
   "execution_count": 44,
   "metadata": {},
   "outputs": [
    {
     "data": {
      "application/vnd.jupyter.widget-view+json": {
       "model_id": "02e71b39ccf74f82ab7d4fe457fc9155",
       "version_major": 2,
       "version_minor": 0
      },
      "text/plain": [
       "HBox(children=(IntProgress(value=0, max=50000), HTML(value='')))"
      ]
     },
     "metadata": {},
     "output_type": "display_data"
    },
    {
     "name": "stdout",
     "output_type": "stream",
     "text": [
      "\n"
     ]
    }
   ],
   "source": [
    "stop_list = set(list(weekends.keys())[-30:]).union(STOP_LIST)\n",
    "X_train, y_train = [], []\n",
    "for i in tqdm(range(50000)):\n",
    "    features, targets  = sample(n=6, stop_list=stop_list)\n",
    "    X_train.append(features)\n",
    "    y_train.append(targets)\n",
    "    \n",
    "X_train = np.vstack(X_train)\n",
    "y_train = np.vstack(y_train)"
   ]
  },
  {
   "cell_type": "code",
   "execution_count": 45,
   "metadata": {},
   "outputs": [
    {
     "data": {
      "application/vnd.jupyter.widget-view+json": {
       "model_id": "ac0cd66b581a416a900f353db6e460fe",
       "version_major": 2,
       "version_minor": 0
      },
      "text/plain": [
       "HBox(children=(IntProgress(value=0, max=10000), HTML(value='')))"
      ]
     },
     "metadata": {},
     "output_type": "display_data"
    },
    {
     "name": "stdout",
     "output_type": "stream",
     "text": [
      "\n"
     ]
    }
   ],
   "source": [
    "stop_list = set(list(weekends.keys())[:-30]).union(STOP_LIST)\n",
    "X_test, y_test = [], []\n",
    "for i in tqdm(range(10000)):\n",
    "    features, targets  = sample(n=6, stop_list=stop_list)\n",
    "    X_test.append(features)\n",
    "    y_test.append(targets)\n",
    "    \n",
    "X_test = np.vstack(X_test)\n",
    "y_test = np.vstack(y_test)"
   ]
  },
  {
   "cell_type": "code",
   "execution_count": 46,
   "metadata": {},
   "outputs": [
    {
     "data": {
      "text/plain": [
       "False"
      ]
     },
     "execution_count": 46,
     "metadata": {},
     "output_type": "execute_result"
    }
   ],
   "source": [
    "pd.isnull(y_train[:, 0]).any()"
   ]
  },
  {
   "cell_type": "code",
   "execution_count": 47,
   "metadata": {},
   "outputs": [],
   "source": [
    "from lightgbm.sklearn import LGBMRegressor\n",
    "from sklearn.model_selection import cross_val_score, KFold, cross_validate\n",
    "from sklearn.metrics import mean_absolute_error, r2_score, make_scorer"
   ]
  },
  {
   "cell_type": "code",
   "execution_count": 75,
   "metadata": {},
   "outputs": [
    {
     "name": "stdout",
     "output_type": "stream",
     "text": [
      "-0.00017518292327367568\n"
     ]
    }
   ],
   "source": [
    "model = LGBMRegressor()\n",
    "model.fit(X_train, y_train[:, 0])\n",
    "print(r2_score(y_test[:, 0], model.predict(X_test)))"
   ]
  },
  {
   "cell_type": "code",
   "execution_count": 79,
   "metadata": {},
   "outputs": [],
   "source": [
    "import matplotlib.pyplot as plt\n",
    "%matplotlib inline"
   ]
  },
  {
   "cell_type": "code",
   "execution_count": 80,
   "metadata": {},
   "outputs": [
    {
     "name": "stderr",
     "output_type": "stream",
     "text": [
      "/Users/nikitakrutoy/.pyenv/versions/3.6.6/lib/python3.6/site-packages/matplotlib/axes/_axes.py:6521: MatplotlibDeprecationWarning: \n",
      "The 'normed' kwarg was deprecated in Matplotlib 2.1 and will be removed in 3.1. Use 'density' instead.\n",
      "  alternative=\"'density'\", removal=\"3.1\")\n"
     ]
    },
    {
     "data": {
      "text/plain": [
       "(array([9.35595655e-09, 5.00580100e-10, 1.65472424e-10, 1.42576868e-10,\n",
       "        1.33210505e-10, 4.37096969e-11, 4.26689898e-11, 0.00000000e+00,\n",
       "        1.45698990e-11, 8.32565655e-12]),\n",
       " array([2.71219000e+05, 9.63597371e+07, 1.92448255e+08, 2.88536773e+08,\n",
       "        3.84625291e+08, 4.80713810e+08, 5.76802328e+08, 6.72890846e+08,\n",
       "        7.68979364e+08, 8.65067882e+08, 9.61156400e+08]),\n",
       " <a list of 10 Patch objects>)"
      ]
     },
     "execution_count": 80,
     "metadata": {},
     "output_type": "execute_result"
    },
    {
     "data": {
      "image/png": "[encoded data removed]",
      "text/plain": [
       "<Figure size 432x288 with 1 Axes>"
      ]
     },
     "metadata": {
      "needs_background": "light"
     },
     "output_type": "display_data"
    }
   ],
   "source": [
    "plt.hist(y_train[:, 0], normed=True, alpha=0.5)\n",
    "plt.hist(y_test[:, 0], normed=True, alpha=0.5)"
   ]
  },
  {
   "cell_type": "code",
   "execution_count": 71,
   "metadata": {},
   "outputs": [
    {
     "data": {
      "text/plain": [
       "[<matplotlib.lines.Line2D at 0x11d5a62e8>]"
      ]
     },
     "execution_count": 71,
     "metadata": {},
     "output_type": "execute_result"
    },
    {
     "data": {
      "image/png": "[encoded data removed]",
      "text/plain": [
       "<Figure size 432x288 with 1 Axes>"
      ]
     },
     "metadata": {
      "needs_background": "light"
     },
     "output_type": "display_data"
    }
   ],
   "source": [
    "plt.plot(y_test[:100, 0])\n",
    "plt.plot(model.predict(X_test[:100]))"
   ]
  },
  {
   "cell_type": "code",
   "execution_count": 50,
   "metadata": {},
   "outputs": [
    {
     "name": "stdout",
     "output_type": "stream",
     "text": [
      "0.5016344557611385\n"
     ]
    }
   ],
   "source": [
    "# movies = pd.read_csv(\"data/MoviesKinopoiskPreprocessed.csv\", index_col=\"title_uais\")\n",
    "model = LGBMRegressor()\n",
    "model.fit(X_train, np.log(y_train[:, 0]))\n",
    "print(r2_score(np.log(y_test[:1000, 0]), model.predict(X_test[:1000])))"
   ]
  },
  {
   "cell_type": "code",
   "execution_count": 34,
   "metadata": {},
   "outputs": [
    {
     "name": "stdout",
     "output_type": "stream",
     "text": [
      "0.4807119671098161\n"
     ]
    }
   ],
   "source": [
    "# movies = pd.read_csv(\"data/MoviesKinopoiskPreprocessedWithTrends.csv\", index_col=\"title_uais\")\n",
    "model = LGBMRegressor()\n",
    "model.fit(X_train, np.log(y_train[:, 0]))\n",
    "print(r2_score(np.log(y_test[:1000, 0]), model.predict(X_test[:1000])))"
   ]
  },
  {
   "cell_type": "code",
   "execution_count": 32,
   "metadata": {},
   "outputs": [
    {
     "name": "stdout",
     "output_type": "stream",
     "text": [
      "0.4823364681438961\n"
     ]
    }
   ],
   "source": [
    "model = LGBMRegressor()\n",
    "model.fit(X_train, np.log(y_train[:, 0]))\n",
    "print(r2_score(np.log(y_test[:1000, 0]), model.predict(X_test[:1000])))"
   ]
  },
  {
   "cell_type": "code",
   "execution_count": 52,
   "metadata": {},
   "outputs": [],
   "source": [
    "np.random.seed(seed=42)"
   ]
  },
  {
   "cell_type": "code",
   "execution_count": 53,
   "metadata": {},
   "outputs": [
    {
     "name": "stdout",
     "output_type": "stream",
     "text": [
      "New results 0.28478847403185764\n"
     ]
    }
   ],
   "source": [
    "# movies = pd.read_csv(\"data/MoviesKinopoiskPreprocessedWithTrends.csv\", index_col=\"title_uais\")\n",
    "results = cross_validate(\n",
    "    LGBMRegressor(n_estimators=100, num_leaves=31), \n",
    "    X, y[:, 0], \n",
    "    cv=KFold(n_splits=5, shuffle=True), \n",
    "    scoring=make_scorer(r2_score),\n",
    "    return_estimator=True\n",
    ")\n",
    "print(\"New results\", np.mean(results[\"test_score\"]))"
   ]
  },
  {
   "cell_type": "code",
   "execution_count": 43,
   "metadata": {},
   "outputs": [
    {
     "name": "stdout",
     "output_type": "stream",
     "text": [
      "Old results 0.29845878760355343\n"
     ]
    }
   ],
   "source": [
    "# movies = pd.read_csv(\"data/MoviesKinopoiskPreprocessed.csv\", index_col=\"title_uais\")\n",
    "results = cross_validate(\n",
    "    LGBMRegressor(n_estimators=100, num_leaves=31), \n",
    "    X, y[:, 0], \n",
    "    cv=KFold(n_splits=5, shuffle=True), \n",
    "    scoring=make_scorer(r2_score),\n",
    "    return_estimator=True\n",
    ")\n",
    "np.mean(results[\"test_score\"])\n",
    "print(\"Old results\", np.mean(results[\"test_score\"]))"
   ]
  },
  {
   "cell_type": "code",
   "execution_count": null,
   "metadata": {},
   "outputs": [],
   "source": [
    "results[\"test_score\"]"
   ]
  },
  {
   "cell_type": "code",
   "execution_count": 242,
   "metadata": {},
   "outputs": [],
   "source": [
    "best_model = results[\"estimator\"][np.argmax(results[\"test_score\"])]"
   ]
  },
  {
   "cell_type": "code",
   "execution_count": 243,
   "metadata": {},
   "outputs": [],
   "source": [
    "x = np.random.choice(np.arange(y.shape[0]), size=100, replace=False)"
   ]
  },
  {
   "cell_type": "code",
   "execution_count": 244,
   "metadata": {},
   "outputs": [],
   "source": [
    "y_pred = best_model.predict(X[x])"
   ]
  },
  {
   "cell_type": "code",
   "execution_count": 235,
   "metadata": {},
   "outputs": [],
   "source": [
    "import matplotlib.pyplot as plt\n",
    "%matplotlib inline"
   ]
  },
  {
   "cell_type": "code",
   "execution_count": 236,
   "metadata": {},
   "outputs": [
    {
     "data": {
      "image/png": "[encoded data removed]",
      "text/plain": [
       "<Figure size 432x288 with 1 Axes>"
      ]
     },
     "metadata": {
      "needs_background": "light"
     },
     "output_type": "display_data"
    }
   ],
   "source": [
    "plt.plot(y[x, 0], label=\"true\"),\n",
    "plt.plot(y_pred, label=\"predict\", alpha=1)\n",
    "plt.legend()\n",
    "# plt.savefig(\"pics/plot.png\")\n",
    "plt.show()"
   ]
  },
  {
   "cell_type": "code",
   "execution_count": 257,
   "metadata": {},
   "outputs": [
    {
     "data": {
      "text/plain": [
       "8807"
      ]
     },
     "execution_count": 257,
     "metadata": {},
     "output_type": "execute_result"
    }
   ],
   "source": [
    "sum(abs(y_true - y_pred) > 1e6)"
   ]
  },
  {
   "cell_type": "code",
   "execution_count": 247,
   "metadata": {},
   "outputs": [
    {
     "data": {
      "text/plain": [
       "(array([9.557e+03, 2.260e+02, 8.700e+01, 5.100e+01, 2.200e+01, 2.600e+01,\n",
       "        1.200e+01, 5.000e+00, 6.000e+00, 8.000e+00]),\n",
       " array([2.82621012e+02, 9.13105765e+07, 1.82620870e+08, 2.73931164e+08,\n",
       "        3.65241458e+08, 4.56551752e+08, 5.47862046e+08, 6.39172340e+08,\n",
       "        7.30482633e+08, 8.21792927e+08, 9.13103221e+08]),\n",
       " <a list of 10 Patch objects>)"
      ]
     },
     "execution_count": 247,
     "metadata": {},
     "output_type": "execute_result"
    },
    {
     "data": {
      "image/png": "[encoded data removed]",
      "text/plain": [
       "<Figure size 432x288 with 1 Axes>"
      ]
     },
     "metadata": {
      "needs_background": "light"
     },
     "output_type": "display_data"
    }
   ],
   "source": [
    "y_pred = best_model.predict(X[:10000])\n",
    "y_true = y[:10000, 0]\n",
    "plt.hist(abs(y_true - y_pred))"
   ]
  },
  {
   "cell_type": "code",
   "execution_count": 239,
   "metadata": {},
   "outputs": [
    {
     "data": {
      "text/plain": [
       "<matplotlib.legend.Legend at 0x13fb98e48>"
      ]
     },
     "execution_count": 239,
     "metadata": {},
     "output_type": "execute_result"
    },
    {
     "data": {
      "image/png": "[encoded data removed]",
      "text/plain": [
       "<Figure size 432x288 with 1 Axes>"
      ]
     },
     "metadata": {
      "needs_background": "light"
     },
     "output_type": "display_data"
    }
   ],
   "source": [
    "y_pred = best_model.predict(X[:10000])\n",
    "y_true = y[:10000, 0]\n",
    "plt.hist(y_true, label=\"true\")\n",
    "plt.hist(y_pred, label=\"pred\", alpha=0.5)\n",
    "plt.legend()\n"
   ]
  },
  {
   "cell_type": "code",
   "execution_count": 238,
   "metadata": {},
   "outputs": [],
   "source": []
  },
  {
   "cell_type": "code",
   "execution_count": null,
   "metadata": {},
   "outputs": [],
   "source": []
  }
 ],
 "metadata": {
  "kernelspec": {
   "display_name": "Python 3.6.6",
   "language": "python",
   "name": "python3.6.6"
  },
  "language_info": {
   "codemirror_mode": {
    "name": "ipython",
    "version": 3
   },
   "file_extension": ".py",
   "mimetype": "text/x-python",
   "name": "python",
   "nbconvert_exporter": "python",
   "pygments_lexer": "ipython3",
   "version": "3.6.6"
  }
 },
 "nbformat": 4,
 "nbformat_minor": 4
}
